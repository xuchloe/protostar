{
 "cells": [
  {
   "cell_type": "code",
   "execution_count": null,
   "id": "fe919768-8f4a-4a6c-a7aa-b7e53ccb6fc5",
   "metadata": {},
   "outputs": [],
   "source": [
    "import find_source"
   ]
  },
  {
   "cell_type": "code",
   "execution_count": null,
   "id": "03c65e8e",
   "metadata": {},
   "outputs": [],
   "source": [
    "summary()"
   ]
  }
 ],
 "metadata": {
  "kernelspec": {
   "display_name": "casaenv",
   "language": "python",
   "name": "python3"
  },
  "language_info": {
   "codemirror_mode": {
    "name": "ipython",
    "version": 3
   },
   "file_extension": ".py",
   "mimetype": "text/x-python",
   "name": "python",
   "nbconvert_exporter": "python",
   "pygments_lexer": "ipython3",
   "version": "3.10.13"
  }
 },
 "nbformat": 4,
 "nbformat_minor": 5
}
