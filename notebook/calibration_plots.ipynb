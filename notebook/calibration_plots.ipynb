{
 "cells": [
  {
   "cell_type": "code",
   "execution_count": null,
   "id": "a406e5e0",
   "metadata": {},
   "outputs": [],
   "source": [
    "import scipy.io\n",
    "from scipy.io import loadmat\n",
    "import matplotlib.pyplot as plt\n",
    "import math"
   ]
  },
  {
   "cell_type": "code",
   "execution_count": null,
   "id": "4a6d4484",
   "metadata": {},
   "outputs": [],
   "source": [
    "data = loadmat('../data/250611_03:56:34/gains.mat')"
   ]
  },
  {
   "cell_type": "code",
   "execution_count": null,
   "id": "f672180f",
   "metadata": {},
   "outputs": [],
   "source": [
    "data"
   ]
  },
  {
   "cell_type": "code",
   "execution_count": null,
   "id": "e5f910e0",
   "metadata": {},
   "outputs": [],
   "source": [
    "gws = data['gainWinSoln']"
   ]
  },
  {
   "cell_type": "code",
   "execution_count": 50,
   "id": "89130349",
   "metadata": {},
   "outputs": [
    {
     "data": {
      "text/plain": [
       "array([[[ 1.        +0.j        ,  1.        +0.j        ,\n",
       "          1.        +0.j        ,  1.        +0.j        ],\n",
       "        [ 1.        +0.j        ,  1.        +0.j        ,\n",
       "          1.        +0.j        ,  1.        +0.j        ],\n",
       "        [ 1.        +0.j        ,  1.        +0.j        ,\n",
       "          1.        +0.j        ,  1.        +0.j        ],\n",
       "        ...,\n",
       "        [ 1.        +0.j        ,  1.        +0.j        ,\n",
       "          1.        +0.j        ,  1.        +0.j        ],\n",
       "        [ 1.        +0.j        ,  1.        +0.j        ,\n",
       "          1.        +0.j        ,  1.        +0.j        ],\n",
       "        [ 1.        +0.j        ,  1.        +0.j        ,\n",
       "          1.        +0.j        ,  1.        +0.j        ]],\n",
       "\n",
       "       [[-1.01672945-0.31835069j,  0.48865405-0.96169284j,\n",
       "         -0.57854677-0.67100211j,  0.905693  -0.17848495j],\n",
       "        [ 0.99224383-0.20868144j,  0.95562471-0.20097997j,\n",
       "          0.96566478-0.20309153j,  0.98126286-0.206372j  ],\n",
       "        [        nan       +nanj,         nan       +nanj,\n",
       "                 nan       +nanj,         nan       +nanj],\n",
       "        ...,\n",
       "        [ 0.95360578+0.34805028j, -0.02738497+0.97567835j,\n",
       "          0.60571458+0.72224239j, -0.36350045-0.93264355j],\n",
       "        [        nan       +nanj,         nan       +nanj,\n",
       "                 nan       +nanj,         nan       +nanj],\n",
       "        [        nan       +nanj,         nan       +nanj,\n",
       "                 nan       +nanj,         nan       +nanj]],\n",
       "\n",
       "       [[-0.7834958 -0.64121695j,  0.76997403-0.60790041j,\n",
       "         -0.23321398-0.81121245j,  0.83613127+0.24486288j],\n",
       "        [ 1.00362418-0.14368054j,  0.96855146-0.13865947j,\n",
       "          0.95322082-0.13646471j,  0.9666042 -0.1383807j ],\n",
       "        [        nan       +nanj,         nan       +nanj,\n",
       "                 nan       +nanj,         nan       +nanj],\n",
       "        ...,\n",
       "        [ 0.98703521+0.16625433j,  0.16098605+0.90209204j,\n",
       "          0.65371511+0.58016378j, -0.49192719-0.80506786j],\n",
       "        [        nan       +nanj,         nan       +nanj,\n",
       "                 nan       +nanj,         nan       +nanj],\n",
       "        [        nan       +nanj,         nan       +nanj,\n",
       "                 nan       +nanj,         nan       +nanj]],\n",
       "\n",
       "       ...,\n",
       "\n",
       "       [[-1.06247215-0.16906198j,  0.24792994-1.04884755j,\n",
       "         -0.81737578-0.45813753j,  0.76771997-0.58767374j],\n",
       "        [ 1.00178424+0.09906706j,  0.97217848+0.09613932j,\n",
       "          0.95819498+0.09475649j,  0.97609376+0.09652651j],\n",
       "        [        nan       +nanj,         nan       +nanj,\n",
       "                 nan       +nanj,         nan       +nanj],\n",
       "        ...,\n",
       "        [ 0.80065592+0.71548946j, -0.37746441+0.90543549j,\n",
       "          0.20352494+0.89452656j,  0.07842102-1.02079321j],\n",
       "        [        nan       +nanj,         nan       +nanj,\n",
       "                 nan       +nanj,         nan       +nanj],\n",
       "        [        nan       +nanj,         nan       +nanj,\n",
       "                 nan       +nanj,         nan       +nanj]],\n",
       "\n",
       "       [[-1.03083008-0.35043007j,  0.42541275-1.00271136j,\n",
       "         -0.76380196-0.57533896j,  0.85995386-0.47541879j],\n",
       "        [ 0.96739115+0.19710552j,  0.92571538+0.1886141j ,\n",
       "          0.91004758+0.18542179j,  0.93766481+0.19104879j],\n",
       "        [        nan       +nanj,         nan       +nanj,\n",
       "                 nan       +nanj,         nan       +nanj],\n",
       "        ...,\n",
       "        [ 0.70935496+0.79934851j, -0.48501931+0.85191767j,\n",
       "          0.15538625+0.91825293j,  0.16040975-0.99834458j],\n",
       "        [        nan       +nanj,         nan       +nanj,\n",
       "                 nan       +nanj,         nan       +nanj],\n",
       "        [        nan       +nanj,         nan       +nanj,\n",
       "                 nan       +nanj,         nan       +nanj]],\n",
       "\n",
       "       [[-1.03339023-0.3494039j ,  0.44102748-0.95694091j,\n",
       "         -0.7239445 -0.58073299j,  0.89215112-0.4093196j ],\n",
       "        [ 0.98337521+0.01372591j,  0.95094807+0.0132733j ,\n",
       "          0.94303619+0.01316286j,  0.96889626+0.01352382j],\n",
       "        [        nan       +nanj,         nan       +nanj,\n",
       "                 nan       +nanj,         nan       +nanj],\n",
       "        ...,\n",
       "        [ 0.58498352+0.88510932j, -0.61818874+0.75393236j,\n",
       "          0.02222952+0.94267709j,  0.3578412 -0.94274133j],\n",
       "        [        nan       +nanj,         nan       +nanj,\n",
       "                 nan       +nanj,         nan       +nanj],\n",
       "        [        nan       +nanj,         nan       +nanj,\n",
       "                 nan       +nanj,         nan       +nanj]]])"
      ]
     },
     "execution_count": 50,
     "metadata": {},
     "output_type": "execute_result"
    }
   ],
   "source": [
    "gws"
   ]
  },
  {
   "cell_type": "code",
   "execution_count": null,
   "id": "8fbbee2c",
   "metadata": {},
   "outputs": [],
   "source": [
    "len(gws) #time"
   ]
  },
  {
   "cell_type": "code",
   "execution_count": null,
   "id": "2d6707d1",
   "metadata": {},
   "outputs": [],
   "source": [
    "gws[0]"
   ]
  },
  {
   "cell_type": "code",
   "execution_count": null,
   "id": "b4bf7451",
   "metadata": {},
   "outputs": [],
   "source": [
    "gws[234]"
   ]
  },
  {
   "cell_type": "code",
   "execution_count": null,
   "id": "893fdc4a",
   "metadata": {},
   "outputs": [],
   "source": [
    "gws[234][0] #4 spectral windows in an antenna"
   ]
  },
  {
   "cell_type": "code",
   "execution_count": null,
   "id": "b10de455",
   "metadata": {},
   "outputs": [],
   "source": [
    "len(gws[234]) #8 antennas"
   ]
  },
  {
   "cell_type": "code",
   "execution_count": null,
   "id": "e6bdbfc9",
   "metadata": {},
   "outputs": [],
   "source": [
    "n_times = len(gws)\n",
    "n_ants = len(gws[0])\n",
    "n_spws = len(gws[0][0])"
   ]
  },
  {
   "cell_type": "code",
   "execution_count": null,
   "id": "ccd1d1c6",
   "metadata": {},
   "outputs": [],
   "source": [
    "n_rows = math.ceil(n_ants / 2)\n",
    "n_cols = 2\n",
    "fig, ax = plt.subplots(nrows=n_rows, ncols=n_cols, sharex=True)"
   ]
  },
  {
   "cell_type": "code",
   "execution_count": null,
   "id": "414edf5d",
   "metadata": {},
   "outputs": [],
   "source": [
    "colors = ['b','g','r','c','m','y']"
   ]
  },
  {
   "cell_type": "code",
   "execution_count": null,
   "id": "5a0f78e7",
   "metadata": {},
   "outputs": [],
   "source": [
    "for time in range(n_times):\n",
    "    for ant in range(n_ants):\n",
    "        if ant < n_rows:\n",
    "                row, col = ant, 1\n",
    "        else:\n",
    "            row, col = ant % n_rows, 2\n",
    "\n",
    "        for spw in range(n_spws):\n",
    "             ax[row, col].plot()\n"
   ]
  }
 ],
 "metadata": {
  "kernelspec": {
   "display_name": "casaenv",
   "language": "python",
   "name": "python3"
  },
  "language_info": {
   "codemirror_mode": {
    "name": "ipython",
    "version": 3
   },
   "file_extension": ".py",
   "mimetype": "text/x-python",
   "name": "python",
   "nbconvert_exporter": "python",
   "pygments_lexer": "ipython3",
   "version": "3.10.13"
  }
 },
 "nbformat": 4,
 "nbformat_minor": 5
}
