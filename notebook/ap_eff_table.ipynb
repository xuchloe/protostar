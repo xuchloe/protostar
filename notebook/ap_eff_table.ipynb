{
 "cells": [
  {
   "cell_type": "code",
   "execution_count": 6,
   "id": "2bf39c1b",
   "metadata": {},
   "outputs": [],
   "source": [
    "import scipy.io\n",
    "from scipy.io import loadmat\n",
    "import pandas as pd"
   ]
  },
  {
   "cell_type": "code",
   "execution_count": 7,
   "id": "69e6b783",
   "metadata": {},
   "outputs": [],
   "source": [
    "data = loadmat('../data/250611_03:56:34/gains.mat')"
   ]
  },
  {
   "cell_type": "code",
   "execution_count": 9,
   "id": "d5b27ffd",
   "metadata": {},
   "outputs": [],
   "source": [
    "ap_eff_array = data['apEffCorr']"
   ]
  },
  {
   "cell_type": "code",
   "execution_count": 13,
   "id": "ba0de9de",
   "metadata": {},
   "outputs": [],
   "source": [
    "n_ants = len(ap_eff_array)\n",
    "\n",
    "panda_dict = {}\n",
    "for ant in range(n_ants):\n",
    "    ant_eff = {}\n",
    "    ant_eff['RxA LSB'] = float(ap_eff_array[ant][0])\n",
    "    ant_eff['RxA USB'] = float(ap_eff_array[ant][1])\n",
    "    ant_eff['RxB LSB'] = float(ap_eff_array[ant][2])\n",
    "    ant_eff['RxB USB'] = float(ap_eff_array[ant][3])\n",
    "    panda_dict[f'Ant {ant+1}'] = ant_eff"
   ]
  },
  {
   "cell_type": "code",
   "execution_count": 14,
   "id": "54fb990a",
   "metadata": {},
   "outputs": [
    {
     "data": {
      "text/plain": [
       "{'Ant 1': {'RxA LSB': 1.0, 'RxA USB': 1.0, 'RxB LSB': 1.0, 'RxB USB': 1.0},\n",
       " 'Ant 2': {'RxA LSB': 1.0, 'RxA USB': 1.0, 'RxB LSB': 1.0, 'RxB USB': 1.0},\n",
       " 'Ant 3': {'RxA LSB': 1.0, 'RxA USB': 1.0, 'RxB LSB': 1.0, 'RxB USB': 1.0},\n",
       " 'Ant 4': {'RxA LSB': 1.0, 'RxA USB': 1.0, 'RxB LSB': 1.0, 'RxB USB': 1.0},\n",
       " 'Ant 5': {'RxA LSB': 1.0, 'RxA USB': 1.0, 'RxB LSB': 1.0, 'RxB USB': 1.0},\n",
       " 'Ant 6': {'RxA LSB': 1.0, 'RxA USB': 1.0, 'RxB LSB': 1.0, 'RxB USB': 1.0},\n",
       " 'Ant 7': {'RxA LSB': 1.0, 'RxA USB': 1.0, 'RxB LSB': 1.0, 'RxB USB': 1.0},\n",
       " 'Ant 8': {'RxA LSB': 1.0, 'RxA USB': 1.0, 'RxB LSB': 1.0, 'RxB USB': 1.0}}"
      ]
     },
     "execution_count": 14,
     "metadata": {},
     "output_type": "execute_result"
    }
   ],
   "source": [
    "panda_dict"
   ]
  },
  {
   "cell_type": "code",
   "execution_count": 19,
   "id": "2f5fd846",
   "metadata": {},
   "outputs": [],
   "source": [
    "df = pd.DataFrame.from_dict(panda_dict)\n",
    "df_transposed = df.T"
   ]
  },
  {
   "cell_type": "code",
   "execution_count": 24,
   "id": "9c23be14",
   "metadata": {},
   "outputs": [
    {
     "data": {
      "text/html": [
       "<div>\n",
       "<style scoped>\n",
       "    .dataframe tbody tr th:only-of-type {\n",
       "        vertical-align: middle;\n",
       "    }\n",
       "\n",
       "    .dataframe tbody tr th {\n",
       "        vertical-align: top;\n",
       "    }\n",
       "\n",
       "    .dataframe thead th {\n",
       "        text-align: right;\n",
       "    }\n",
       "</style>\n",
       "<table border=\"1\" class=\"dataframe\">\n",
       "  <thead>\n",
       "    <tr style=\"text-align: right;\">\n",
       "      <th></th>\n",
       "      <th>RxA LSB</th>\n",
       "      <th>RxA USB</th>\n",
       "      <th>RxB LSB</th>\n",
       "      <th>RxB USB</th>\n",
       "    </tr>\n",
       "  </thead>\n",
       "  <tbody>\n",
       "    <tr>\n",
       "      <th>Ant 1</th>\n",
       "      <td>1.0</td>\n",
       "      <td>1.0</td>\n",
       "      <td>1.0</td>\n",
       "      <td>1.0</td>\n",
       "    </tr>\n",
       "    <tr>\n",
       "      <th>Ant 2</th>\n",
       "      <td>1.0</td>\n",
       "      <td>1.0</td>\n",
       "      <td>1.0</td>\n",
       "      <td>1.0</td>\n",
       "    </tr>\n",
       "    <tr>\n",
       "      <th>Ant 3</th>\n",
       "      <td>1.0</td>\n",
       "      <td>1.0</td>\n",
       "      <td>1.0</td>\n",
       "      <td>1.0</td>\n",
       "    </tr>\n",
       "    <tr>\n",
       "      <th>Ant 4</th>\n",
       "      <td>1.0</td>\n",
       "      <td>1.0</td>\n",
       "      <td>1.0</td>\n",
       "      <td>1.0</td>\n",
       "    </tr>\n",
       "    <tr>\n",
       "      <th>Ant 5</th>\n",
       "      <td>1.0</td>\n",
       "      <td>1.0</td>\n",
       "      <td>1.0</td>\n",
       "      <td>1.0</td>\n",
       "    </tr>\n",
       "    <tr>\n",
       "      <th>Ant 6</th>\n",
       "      <td>1.0</td>\n",
       "      <td>1.0</td>\n",
       "      <td>1.0</td>\n",
       "      <td>1.0</td>\n",
       "    </tr>\n",
       "    <tr>\n",
       "      <th>Ant 7</th>\n",
       "      <td>1.0</td>\n",
       "      <td>1.0</td>\n",
       "      <td>1.0</td>\n",
       "      <td>1.0</td>\n",
       "    </tr>\n",
       "    <tr>\n",
       "      <th>Ant 8</th>\n",
       "      <td>1.0</td>\n",
       "      <td>1.0</td>\n",
       "      <td>1.0</td>\n",
       "      <td>1.0</td>\n",
       "    </tr>\n",
       "  </tbody>\n",
       "</table>\n",
       "</div>"
      ],
      "text/plain": [
       "       RxA LSB  RxA USB  RxB LSB  RxB USB\n",
       "Ant 1      1.0      1.0      1.0      1.0\n",
       "Ant 2      1.0      1.0      1.0      1.0\n",
       "Ant 3      1.0      1.0      1.0      1.0\n",
       "Ant 4      1.0      1.0      1.0      1.0\n",
       "Ant 5      1.0      1.0      1.0      1.0\n",
       "Ant 6      1.0      1.0      1.0      1.0\n",
       "Ant 7      1.0      1.0      1.0      1.0\n",
       "Ant 8      1.0      1.0      1.0      1.0"
      ]
     },
     "execution_count": 24,
     "metadata": {},
     "output_type": "execute_result"
    }
   ],
   "source": [
    "df_transposed"
   ]
  },
  {
   "cell_type": "code",
   "execution_count": 20,
   "id": "c77a6db4",
   "metadata": {},
   "outputs": [],
   "source": [
    "html_table = df_transposed.to_html()"
   ]
  },
  {
   "cell_type": "code",
   "execution_count": 22,
   "id": "0a18da3d",
   "metadata": {},
   "outputs": [
    {
     "name": "stdout",
     "output_type": "stream",
     "text": [
      "<table border=\"1\" class=\"dataframe\">\n",
      "  <thead>\n",
      "    <tr style=\"text-align: right;\">\n",
      "      <th></th>\n",
      "      <th>RxA LSB</th>\n",
      "      <th>RxA USB</th>\n",
      "      <th>RxB LSB</th>\n",
      "      <th>RxB USB</th>\n",
      "    </tr>\n",
      "  </thead>\n",
      "  <tbody>\n",
      "    <tr>\n",
      "      <th>Ant 1</th>\n",
      "      <td>1.0</td>\n",
      "      <td>1.0</td>\n",
      "      <td>1.0</td>\n",
      "      <td>1.0</td>\n",
      "    </tr>\n",
      "    <tr>\n",
      "      <th>Ant 2</th>\n",
      "      <td>1.0</td>\n",
      "      <td>1.0</td>\n",
      "      <td>1.0</td>\n",
      "      <td>1.0</td>\n",
      "    </tr>\n",
      "    <tr>\n",
      "      <th>Ant 3</th>\n",
      "      <td>1.0</td>\n",
      "      <td>1.0</td>\n",
      "      <td>1.0</td>\n",
      "      <td>1.0</td>\n",
      "    </tr>\n",
      "    <tr>\n",
      "      <th>Ant 4</th>\n",
      "      <td>1.0</td>\n",
      "      <td>1.0</td>\n",
      "      <td>1.0</td>\n",
      "      <td>1.0</td>\n",
      "    </tr>\n",
      "    <tr>\n",
      "      <th>Ant 5</th>\n",
      "      <td>1.0</td>\n",
      "      <td>1.0</td>\n",
      "      <td>1.0</td>\n",
      "      <td>1.0</td>\n",
      "    </tr>\n",
      "    <tr>\n",
      "      <th>Ant 6</th>\n",
      "      <td>1.0</td>\n",
      "      <td>1.0</td>\n",
      "      <td>1.0</td>\n",
      "      <td>1.0</td>\n",
      "    </tr>\n",
      "    <tr>\n",
      "      <th>Ant 7</th>\n",
      "      <td>1.0</td>\n",
      "      <td>1.0</td>\n",
      "      <td>1.0</td>\n",
      "      <td>1.0</td>\n",
      "    </tr>\n",
      "    <tr>\n",
      "      <th>Ant 8</th>\n",
      "      <td>1.0</td>\n",
      "      <td>1.0</td>\n",
      "      <td>1.0</td>\n",
      "      <td>1.0</td>\n",
      "    </tr>\n",
      "  </tbody>\n",
      "</table>\n"
     ]
    }
   ],
   "source": [
    "print(html_table)"
   ]
  },
  {
   "cell_type": "code",
   "execution_count": null,
   "id": "903707c5",
   "metadata": {},
   "outputs": [],
   "source": []
  }
 ],
 "metadata": {
  "kernelspec": {
   "display_name": "casaenv",
   "language": "python",
   "name": "python3"
  },
  "language_info": {
   "codemirror_mode": {
    "name": "ipython",
    "version": 3
   },
   "file_extension": ".py",
   "mimetype": "text/x-python",
   "name": "python",
   "nbconvert_exporter": "python",
   "pygments_lexer": "ipython3",
   "version": "3.10.13"
  }
 },
 "nbformat": 4,
 "nbformat_minor": 5
}
