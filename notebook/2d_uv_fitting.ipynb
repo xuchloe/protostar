{
 "cells": [
  {
   "cell_type": "code",
   "execution_count": 1,
   "id": "8e69ff75",
   "metadata": {},
   "outputs": [],
   "source": [
    "from astropy.io import fits\n",
    "import numpy as np\n",
    "import matplotlib.pyplot as plt\n",
    "from scipy.optimize import curve_fit\n",
    "import emcee\n",
    "from find_source import summary"
   ]
  },
  {
   "cell_type": "code",
   "execution_count": 2,
   "id": "57b341ef",
   "metadata": {},
   "outputs": [],
   "source": [
    "# logarithmic likelihood function (for 2D Gaussian probability)\n",
    "def log_likelihood(mu, re, im, w):\n",
    "    re_mean, im_mean = mu\n",
    "    return -0.5 * np.sum(w * ((re - re_mean)**2 + (im - im_mean)**2))"
   ]
  },
  {
   "cell_type": "code",
   "execution_count": 3,
   "id": "6bd9f891",
   "metadata": {},
   "outputs": [],
   "source": [
    "def log_prior(mu, re_range, im_range):\n",
    "    re_mean, im_mean = mu\n",
    "    if re_range[0] < re_mean < re_range[1] and im_range[0] < im_mean < im_range[1]:\n",
    "        return 0.0\n",
    "    return -np.inf\n",
    "    return 0.0"
   ]
  },
  {
   "cell_type": "code",
   "execution_count": 4,
   "id": "c46b0f59",
   "metadata": {},
   "outputs": [],
   "source": [
    "def log_probability(mu, re_range, im_range, re, im, w):\n",
    "    lp = log_prior(mu, re_range, im_range)\n",
    "    if not np.isfinite(lp): # if outside of range where mu could be\n",
    "        return -np.inf # essentially 0 probability (e^-inf = 0)\n",
    "    return lp + log_likelihood(mu, re, im, w)"
   ]
  },
  {
   "cell_type": "code",
   "execution_count": 5,
   "id": "f592fd37",
   "metadata": {},
   "outputs": [],
   "source": [
    "##### FAKE ARRAY IN FORM OF KARTO'S DATA #####\n",
    "def fake_data():\n",
    "    fake_arr = np.tile([float(0)]*6, (20, 1))\n",
    "    for i in range(len(fake_arr)):\n",
    "        fake_arr[i][1] = i\n",
    "        fake_arr[i][2] = i\n",
    "        real = 5e-3 # 5 mJy source\n",
    "        imag = 0\n",
    "        x = 1e-3 # 1 mJy standard deviation\n",
    "        re_noise = np.random.normal(scale = x)\n",
    "        im_noise = np.random.normal(scale = x)\n",
    "        fake_arr[i][3] = real + re_noise\n",
    "        fake_arr[i][4] = imag + im_noise\n",
    "        weight = (re_noise**2 + im_noise**2)**(-1)\n",
    "        fake_arr[i][5] = weight\n",
    "        fake_arr[i][3] *= weight # weighting reals like Karto\n",
    "        fake_arr[i][4] *= weight # weighting imaginaries like Karto\n",
    "    return fake_arr"
   ]
  },
  {
   "cell_type": "code",
   "execution_count": 6,
   "id": "7780f924",
   "metadata": {},
   "outputs": [],
   "source": [
    "def mcmc_uv_fit(fits_file: str):\n",
    "    # TODO: generalize to fitting n point/disk/Gaussian sources\n",
    "\n",
    "    file = fits.open(fits_file)\n",
    "    data = file[1].data\n",
    "    vis = np.array(data)\n",
    "    freq_bin, u, v, re, im, w = [], [], [], [], [], []\n",
    "    for row in vis:\n",
    "        freq_bin_data, u_data, v_data, re_data, im_data, w_data = row\n",
    "        freq_bin.append(int(freq_bin_data))\n",
    "        u.append(int(u_data))\n",
    "        v.append(int(v_data))\n",
    "        re.append(float(re_data/w_data))\n",
    "        im.append(float(im_data/w_data))\n",
    "        w.append(float(w_data))\n",
    "\n",
    "    # adding in conjugate half of data\n",
    "    freq_bin *= 2\n",
    "    neg_u = [-1 * val for val in u]\n",
    "    u += neg_u\n",
    "    neg_v = [-1 * val for val in v]\n",
    "    v += neg_v\n",
    "    re *= 2\n",
    "    neg_im = [-1 * val for val in im]\n",
    "    im += neg_im\n",
    "    w *= 2\n",
    "    rlambda = []\n",
    "    for i in range(len(u)):\n",
    "        rlambda.append((u[i]**2 +v[i]**2)**(1/2))\n",
    "\n",
    "    freq_bin = np.array(freq_bin)\n",
    "    u = np.array(u)\n",
    "    v = np.array(v)\n",
    "    re = np.array(re)\n",
    "    im = np.array(im)\n",
    "    w = np.array(w)\n",
    "    rlambda = np.array(rlambda)\n",
    "\n",
    "    # TODO: optional parameters: nwalkers, number of sources (therefore number of dimensions), nsteps, discard number\n",
    "    nwalkers = 6\n",
    "    nsteps = 2000 # TODO: automatically stop after ~50x autocorrelation time\n",
    "    ndim = 2\n",
    "\n",
    "    # initial positions for re and im\n",
    "    p0 = np.random.randn(nwalkers, ndim) * np.average(w**(-1/2))\n",
    "    p0[:,0] += np.average(re)\n",
    "    p0[:,1] += np.average(im)\n",
    "\n",
    "    re_range = (-2 * np.max(np.abs(re)), 2 * np.max(np.abs(re)))\n",
    "    im_range = (-2 * np.max(np.abs(im)), 2 * np.max(np.abs(im)))\n",
    "\n",
    "    sampler = emcee.EnsembleSampler(nwalkers, ndim, log_probability, args=(re_range, im_range, re, im, w))\n",
    "    sampler.run_mcmc(p0, nsteps)\n",
    "    chain = sampler.get_chain(discard = 100)\n",
    "\n",
    "    return chain"
   ]
  },
  {
   "cell_type": "code",
   "execution_count": 7,
   "id": "aaee83a7",
   "metadata": {},
   "outputs": [
    {
     "data": {
      "text/plain": [
       "array([[[ 2.94676982e-04, -3.63488674e-05],\n",
       "        [ 3.27922400e-04, -7.80192647e-05],\n",
       "        [ 5.84130943e-04, -3.16161084e-05],\n",
       "        [ 4.41261778e-04,  4.78298102e-05],\n",
       "        [ 5.48841883e-04, -6.64792405e-05],\n",
       "        [ 4.00117516e-04, -2.10403080e-04]],\n",
       "\n",
       "       [[ 2.26175802e-04,  7.67283215e-05],\n",
       "        [ 3.27922400e-04, -7.80192647e-05],\n",
       "        [ 6.88801056e-04, -8.98205027e-05],\n",
       "        [ 3.98303248e-04,  1.29784298e-07],\n",
       "        [ 5.48841883e-04, -6.64792405e-05],\n",
       "        [ 4.00117516e-04, -2.10403080e-04]],\n",
       "\n",
       "       [[ 2.76853616e-04,  5.42361952e-05],\n",
       "        [ 3.78730636e-04, -7.96807653e-05],\n",
       "        [ 6.76603383e-04, -8.94216217e-05],\n",
       "        [ 3.98303248e-04,  1.29784298e-07],\n",
       "        [ 6.54502201e-04, -1.13374025e-04],\n",
       "        [ 4.00355147e-04, -2.37978531e-04]],\n",
       "\n",
       "       ...,\n",
       "\n",
       "       [[ 3.59904291e-04,  1.40462599e-04],\n",
       "        [ 6.14222760e-04,  6.55099152e-05],\n",
       "        [ 4.58860570e-04,  9.84794106e-05],\n",
       "        [ 6.13745957e-04, -2.08115099e-06],\n",
       "        [ 5.12686919e-04,  1.22493871e-04],\n",
       "        [ 3.46552868e-04,  1.07878698e-04]],\n",
       "\n",
       "       [[ 3.57531532e-04,  1.34671925e-04],\n",
       "        [ 6.10358963e-04,  6.65509634e-05],\n",
       "        [ 4.78408783e-04,  1.07200786e-04],\n",
       "        [ 7.10263356e-04, -1.21057715e-04],\n",
       "        [ 6.00562407e-04,  1.41701520e-05],\n",
       "        [ 2.61818944e-04,  1.08314341e-04]],\n",
       "\n",
       "       [[ 3.43599105e-04,  1.35270291e-04],\n",
       "        [ 5.97580181e-04,  6.99940348e-05],\n",
       "        [ 4.60733935e-04,  9.46754957e-05],\n",
       "        [ 6.15189109e-04, -7.35573165e-05],\n",
       "        [ 5.08051921e-04,  1.28207412e-04],\n",
       "        [ 2.54950427e-04,  1.06422871e-04]]])"
      ]
     },
     "execution_count": 7,
     "metadata": {},
     "output_type": "execute_result"
    }
   ],
   "source": [
    "mcmc_uv_fit('../data/uv_test/at2024tvd.fits')"
   ]
  },
  {
   "cell_type": "code",
   "execution_count": null,
   "id": "7097b53e",
   "metadata": {},
   "outputs": [],
   "source": []
  }
 ],
 "metadata": {
  "kernelspec": {
   "display_name": "casaenv",
   "language": "python",
   "name": "python3"
  },
  "language_info": {
   "codemirror_mode": {
    "name": "ipython",
    "version": 3
   },
   "file_extension": ".py",
   "mimetype": "text/x-python",
   "name": "python",
   "nbconvert_exporter": "python",
   "pygments_lexer": "ipython3",
   "version": "3.10.13"
  }
 },
 "nbformat": 4,
 "nbformat_minor": 5
}
