{
 "cells": [
  {
   "cell_type": "code",
   "execution_count": 42,
   "id": "bcfdf07d",
   "metadata": {},
   "outputs": [],
   "source": [
    "import glob\n",
    "from find_source import make_catalog, combine_catalogs\n",
    "import pandas as pd\n",
    "import os\n",
    "import astropy.units as u\n",
    "from astropy.coordinates import Angle, SkyCoord\n",
    "import json\n",
    "import math"
   ]
  },
  {
   "cell_type": "code",
   "execution_count": 43,
   "id": "c3f4c9da",
   "metadata": {},
   "outputs": [],
   "source": [
    "def low_level_csv(folder, csv_path = './low_level.csv'):\n",
    "\n",
    "    master_catalog = None\n",
    "    old_df = None\n",
    "    str_obs_id = 'Unknown'\n",
    "\n",
    "    try:\n",
    "        old_df = pd.read_csv(csv_path)\n",
    "    except:\n",
    "        pass\n",
    "\n",
    "    try:\n",
    "        str_obs_id = folder.replace('/mnt/COMPASS9/sma/quality/', '')\n",
    "        obs_id = str_obs_id.replace('/', '')\n",
    "        obs_id = int(obs_id) #will throw Exception if obs_id isn't just numbers\n",
    "        if old_df is not None:\n",
    "            old_df = old_df[(old_df['Obs ID']) != obs_id] #removing old or outdated entries\n",
    "    except Exception as e:\n",
    "        obs_id = 'Unknown'\n",
    "        print(f'Error with obsID: {e}. WARNING: Old/outdated data may not be deleted.')\n",
    "\n",
    "    if old_df is not None:\n",
    "        master_catalog = (old_df.T).to_dict()\n",
    "\n",
    "    for file in glob.glob(os.path.join(folder, '*.fits')):\n",
    "        try:\n",
    "            catalog = make_catalog(file)\n",
    "            if catalog is not None:\n",
    "                for value in catalog.values():\n",
    "                    value['Obs ID'] = obs_id\n",
    "                    value['Source ID'] = 'Unknown'\n",
    "                if master_catalog is None:\n",
    "                    master_catalog = catalog\n",
    "                elif catalog is not None:\n",
    "                    master_catalog = combine_catalogs(master_catalog, catalog)\n",
    "        except Exception as e:\n",
    "            print(f'Error for {file}: {e}')\n",
    "\n",
    "    df = pd.DataFrame.from_dict(master_catalog)\n",
    "    df = df.T\n",
    "    df.to_csv(csv_path, mode='w', header=True, index=False)"
   ]
  },
  {
   "cell_type": "code",
   "execution_count": 44,
   "id": "50515cd4",
   "metadata": {},
   "outputs": [],
   "source": [
    "def high_level_csv(low_level_path = './low_level.csv', high_level_path = './high_level.csv'):\n",
    "\n",
    "    low_df = pd.read_csv(low_level_path)\n",
    "    unique_sources = None\n",
    "\n",
    "    try:\n",
    "        unique_sources = pd.read_csv(high_level_path).to_dict(orient='list')\n",
    "    except:\n",
    "        pass\n",
    "\n",
    "    #coarse matching\n",
    "    for row in range(len(low_df)):\n",
    "        if low_df['Source ID'].iloc[row] == 'Unknown': #check to make sure we didn't already do coarse matching\n",
    "            if low_df['Stationary'].iloc[row]:\n",
    "                if unique_sources is not None:\n",
    "                    ra = low_df['Coord RA'].iloc[row]\n",
    "                    dec = low_df['Coord Dec'].iloc[row]\n",
    "                    coord1 = SkyCoord(ra, dec)\n",
    "                    fwhm = low_df['Beam Maj Axis'].iloc[row]\n",
    "                    fwhm1_val = float(fwhm.replace(' arcsec', ''))\n",
    "                    source_ids = unique_sources['Source ID']\n",
    "                    matched  = False\n",
    "                    while not matched:\n",
    "                        for i in range(len(source_ids)): #compare with each unique source\n",
    "                            coord2 = SkyCoord(unique_sources['RA'][i], unique_sources['Dec'][i])\n",
    "                            sep = coord1.separation(coord2)\n",
    "                            fwhm2_val = float(unique_sources['FWHM'][i].replace(' arcsec', ''))\n",
    "                            max_sep = (fwhm1_val * fwhm2_val)**(1/2) * u.arcsec\n",
    "                            matched = (sep <= max_sep)\n",
    "                            if matched:\n",
    "                                low_df.loc[row, 'Source ID'] = source_ids[i]\n",
    "                                break\n",
    "                        break\n",
    "                    if not matched:\n",
    "                        num = 1\n",
    "                        id_nums = [int(source_id.replace('id', '')) for source_id in unique_sources['Source ID']]\n",
    "                        while num in id_nums:\n",
    "                            num += 1\n",
    "                        next_number = '0' * (4 - len(str(num))) + str(num)\n",
    "                        next_id = f'id{next_number}'\n",
    "                        source_ids.append(next_id)\n",
    "                        unique_sources['RA'].append(ra)\n",
    "                        unique_sources['Dec'].append(dec)\n",
    "                        unique_sources['FWHM'].append(fwhm)\n",
    "                        low_df.loc[row, 'Source ID'] = next_id\n",
    "                        unique_sources['Ambiguous Ties'].append('Unknown')\n",
    "                else:\n",
    "                    ra = low_df['Coord RA'].iloc[row]\n",
    "                    dec = low_df['Coord Dec'].iloc[row]\n",
    "                    fwhm = low_df['Beam Maj Axis'].iloc[row]\n",
    "                    unique_sources = {'Source ID': ['id0001'], 'RA': [ra], 'Dec': [dec], 'FWHM': [fwhm], 'Ambiguous Ties': ['Unknown']}\n",
    "                    low_df.loc[row, 'Source ID'] = 'id0001'\n",
    "            else:\n",
    "                low_df.loc[row, 'Source ID'] = 'Not Stationary'\n",
    "\n",
    "    #further refining matches\n",
    "    new_sources = unique_sources.copy()\n",
    "    to_skip = []\n",
    "    for i in range(len(unique_sources['Source ID'])):\n",
    "        temp_df = low_df[(low_df['Source ID']) == unique_sources['Source ID'][i]]\n",
    "        ra_list = [Angle(ra, u.deg) for ra in temp_df['Coord RA']]\n",
    "        dec_list = [Angle(dec, u.deg) for dec in temp_df['Coord Dec']]\n",
    "        fwhm_list = [Angle(fwhm, u.arcsec) for fwhm in temp_df['Beam Maj Axis']]\n",
    "        if len(unique_sources['Source ID']) > 1 and i not in to_skip:\n",
    "            for j in range(i + 1, len(unique_sources['Source ID'])):\n",
    "                if j not in to_skip:\n",
    "                    temp_df2 = low_df[(low_df['Source ID']) == unique_sources['Source ID'][j]]\n",
    "                    ra_list2 = [Angle(ra, u.deg) for ra in temp_df2['Coord RA']]\n",
    "                    dec_list2 = [Angle(dec, u.deg) for dec in temp_df2['Coord Dec']]\n",
    "                    fwhm_list2 = [Angle(fwhm, u.arcsec) for fwhm in temp_df2['Beam Maj Axis']]\n",
    "                    new_ra_list = ra_list + ra_list2\n",
    "                    new_dec_list = dec_list + dec_list2\n",
    "                    new_fwhm_list = fwhm_list + fwhm_list2\n",
    "                    num_pts = len(new_ra_list)\n",
    "                    avg_ra = sum(new_ra_list) / num_pts\n",
    "                    avg_dec = sum(new_dec_list) / num_pts\n",
    "                    geo_avg_fwhm = math.prod(new_fwhm_list) ** (1/num_pts)\n",
    "                    avg_pt = SkyCoord(avg_ra, avg_dec)\n",
    "                    temp = 0\n",
    "                    for pt in range(num_pts):\n",
    "                        sep = avg_pt.separation(SkyCoord(new_ra_list[pt], new_dec_list[pt]))\n",
    "                        if sep > geo_avg_fwhm / 2:\n",
    "                            temp += 1\n",
    "                    proportion = (num_pts - temp) / (num_pts)\n",
    "                    if proportion == 1: #average point is a good representative for all points, same source\n",
    "                        #match found, update averages\n",
    "                        new_sources['RA'][i] = avg_ra\n",
    "                        new_sources['Dec'][i] = avg_dec\n",
    "                        new_sources['FWHM'][i] = geo_avg_fwhm\n",
    "                        #get rid of \"replaced\" source in Ambiguous Ties\n",
    "                        for k in range(len(unique_sources['Source ID'])):\n",
    "                            unique_sources['Ambiguous Ties'][k] = unique_sources['Ambiguous Ties'][k].replace(unique_sources['Source ID'][j], '')\n",
    "                            unique_sources['Ambiguous Ties'][k] = unique_sources['Ambiguous Ties'][k].replace('__', '_')\n",
    "                            if unique_sources['Ambiguous Ties'][k][0] == '_':\n",
    "                                unique_sources['Ambiguous Ties'][k] = unique_sources['Ambiguous Ties'][k][1:]\n",
    "                            if unique_sources['Ambiguous Ties'][k][-1] == '_':\n",
    "                                unique_sources['Ambiguous Ties'][k] = unique_sources['Ambiguous Ties'][k][:-1]\n",
    "                        #update low_df\n",
    "                        indices = low_df.index[low_df['Source ID'] == unique_sources['Source ID'][j]]\n",
    "                        low_df.loc[indices, 'Source ID'] = unique_sources['Source ID'][i]\n",
    "                        to_skip.append(j)\n",
    "                    elif proportion > 0.7: #average point is a good representative for over 70% but less than 100% of points, ambiguous\n",
    "                        if new_sources['Ambiguous Ties'][i] == 'Unknown' or new_sources['Ambiguous Ties'][i] == 'None found':\n",
    "                            new_sources['Ambiguous Ties'][i] = unique_sources['Source ID'][j]\n",
    "                        elif unique_sources['Source ID'][j] not in new_sources['Ambiguous Ties'][i]:\n",
    "                            new_sources['Ambiguous Ties'][i] += '_{}'.format(unique_sources['Source ID'][j])\n",
    "                        if new_sources['Ambiguous Ties'][j] == 'Unknown' or new_sources['Ambiguous Ties'][j] == 'None found':\n",
    "                            new_sources['Ambiguous Ties'][j] = unique_sources['Source ID'][i]\n",
    "                        elif unique_sources['Source ID'][i] not in new_sources['Ambiguous Ties'][j]:\n",
    "                            new_sources['Ambiguous Ties'][j] += '_{}'.format(unique_sources['Source ID'][i])\n",
    "                    if new_sources['Ambiguous Ties'][i] == 'Unknown':\n",
    "                        new_sources['Ambiguous Ties'][i] = 'None found'\n",
    "                    if new_sources['Ambiguous Ties'][j] == 'Unknown':\n",
    "                        new_sources['Ambiguous Ties'][j] = 'None found'\n",
    "    to_skip.sort(reverse=True)\n",
    "    for k in to_skip:\n",
    "        del new_sources['Source ID'][k]\n",
    "        del new_sources['RA'][k]\n",
    "        del new_sources['Dec'][k]\n",
    "        del new_sources['FWHM'][k]\n",
    "        del new_sources['Ambiguous Ties'][k]\n",
    "\n",
    "    df = pd.DataFrame.from_dict(new_sources)\n",
    "    df.to_csv(high_level_path, mode='w', header=True, index=False)\n",
    "    low_df.to_csv(low_level_path, mode='w', header=True, index=False)"
   ]
  },
  {
   "cell_type": "code",
   "execution_count": 45,
   "id": "2bfa9eea-73eb-48bb-8458-5f7bb4f0fdbc",
   "metadata": {},
   "outputs": [],
   "source": [
    "#low_level_csv('/mnt/COMPASS9/sma/quality/13323')"
   ]
  },
  {
   "cell_type": "code",
   "execution_count": 46,
   "id": "f0ca8252",
   "metadata": {},
   "outputs": [],
   "source": [
    "#%load_ext line_profiler"
   ]
  },
  {
   "cell_type": "code",
   "execution_count": null,
   "id": "9bc54a8a",
   "metadata": {},
   "outputs": [
    {
     "name": "stdout",
     "output_type": "stream",
     "text": [
      "Error with obsID: invalid literal for int() with base 10: '..datamulti_track'. WARNING: Old/outdated data may not be deleted.\n"
     ]
    },
    {
     "name": "stderr",
     "output_type": "stream",
     "text": [
      "/Users/chloexu/conda/anaconda3/envs/casaenv/lib/python3.10/site-packages/astropy/units/quantity.py:1355: ComplexWarning: Casting complex values to real discards the imaginary part\n",
      "  return float(self.to_value(dimensionless_unscaled))\n"
     ]
    },
    {
     "name": "stdout",
     "output_type": "stream",
     "text": [
      "Error for ../data/multi_track/0854+281_11145.fits: float division by zero\n"
     ]
    }
   ],
   "source": [
    "#%%time\n",
    "#low_level_csv('../data/250611_03:56:34')\n",
    "#low_level_csv('../data/multi_track')\n",
    "#low_level_csv('../data/11151')\n",
    "#low_level_csv('../data')"
   ]
  },
  {
   "cell_type": "code",
   "execution_count": null,
   "id": "e8b5e7ca",
   "metadata": {},
   "outputs": [],
   "source": [
    "#high_level_csv()"
   ]
  },
  {
   "cell_type": "code",
   "execution_count": null,
   "id": "d36246a0",
   "metadata": {},
   "outputs": [
    {
     "data": {
      "text/plain": [
       "17"
      ]
     },
     "execution_count": 49,
     "metadata": {},
     "output_type": "execute_result"
    }
   ],
   "source": [
    "#df = pd.read_csv('./high_level.csv')\n",
    "#len(df)"
   ]
  },
  {
   "cell_type": "code",
   "execution_count": 50,
   "id": "ef1cf4a6",
   "metadata": {},
   "outputs": [],
   "source": [
    "#%lprun -f make_catalog low_level_csv('../data/multi_track')"
   ]
  },
  {
   "cell_type": "code",
   "execution_count": 51,
   "id": "650d3280",
   "metadata": {},
   "outputs": [],
   "source": [
    "#%lprun -f low_level_csv low_level_csv('../data/multi_track')"
   ]
  },
  {
   "cell_type": "code",
   "execution_count": 52,
   "id": "c91ae561",
   "metadata": {},
   "outputs": [],
   "source": [
    "#%lprun -f high_level_csv high_level_csv()"
   ]
  }
 ],
 "metadata": {
  "kernelspec": {
   "display_name": "Python 3 (ipykernel)",
   "language": "python",
   "name": "python3"
  },
  "language_info": {
   "codemirror_mode": {
    "name": "ipython",
    "version": 3
   },
   "file_extension": ".py",
   "mimetype": "text/x-python",
   "name": "python",
   "nbconvert_exporter": "python",
   "pygments_lexer": "ipython3",
   "version": "3.11.5"
  }
 },
 "nbformat": 4,
 "nbformat_minor": 5
}
