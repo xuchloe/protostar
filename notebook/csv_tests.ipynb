{
 "cells": [
  {
   "cell_type": "code",
   "execution_count": 572,
   "id": "bcfdf07d",
   "metadata": {},
   "outputs": [],
   "source": [
    "import glob\n",
    "from find_source import make_catalog, combine_catalogs\n",
    "import pandas as pd\n",
    "import os\n",
    "import astropy.units as u\n",
    "from astropy.coordinates import SkyCoord\n",
    "import json"
   ]
  },
  {
   "cell_type": "code",
   "execution_count": 573,
   "id": "c3f4c9da",
   "metadata": {},
   "outputs": [],
   "source": [
    "def low_level_csv(folder, csv_path = './low_level.csv'):\n",
    "\n",
    "    master_catalog = None\n",
    "    old_df = None\n",
    "    str_obs_id = 'Unknown'\n",
    "\n",
    "    try:\n",
    "        old_df = pd.read_csv(csv_path)\n",
    "    except:\n",
    "        pass\n",
    "\n",
    "    try:\n",
    "        json_file = os.path.join(folder, 'polaris.json')\n",
    "        with open(json_file, 'r') as file:\n",
    "            obs_dict = json.load(file)\n",
    "\n",
    "            #cleaning up obs_dict\n",
    "            for key, value in obs_dict.items():\n",
    "                if type(value) == list:\n",
    "                    string = ', '.join(value)\n",
    "                    obs_dict[key] = [string]\n",
    "            obs_id = obs_dict.pop('obsID')\n",
    "            str_obs_id = f'id{obs_id}'\n",
    "        if old_df is not None:\n",
    "            old_df = old_df[(old_df['Obs ID']) != str_obs_id] #removing old or outdated entries\n",
    "    except Exception as e:\n",
    "        print(f'Error with obsID: {e}. WARNING: Old/outdated data may not be deleted.')\n",
    "\n",
    "    if old_df is not None:\n",
    "        master_catalog = (old_df.T).to_dict()\n",
    "\n",
    "    for file in glob.glob(os.path.join(folder, '*.fits')):\n",
    "        try:\n",
    "            catalog = make_catalog(file)\n",
    "            if catalog is not None:\n",
    "                for value in catalog.values():\n",
    "                    value['Obs ID'] = str_obs_id\n",
    "                    value['Source ID'] = 'Unknown'\n",
    "                if master_catalog is None:\n",
    "                    master_catalog = catalog\n",
    "                elif catalog is not None:\n",
    "                    master_catalog = combine_catalogs(master_catalog, catalog)\n",
    "        except Exception as e:\n",
    "            print(f'Error for {file}: {e}')\n",
    "\n",
    "    df = pd.DataFrame.from_dict(master_catalog)\n",
    "    df = df.T\n",
    "    df.to_csv(csv_path, mode='w', header=True, index=False)"
   ]
  },
  {
   "cell_type": "code",
   "execution_count": null,
   "id": "50515cd4",
   "metadata": {},
   "outputs": [],
   "source": [
    "def high_level_csv(low_level_path = './low_level.csv', high_level_path = './high_level.csv'):\n",
    "\n",
    "    low_df = pd.read_csv(low_level_path)\n",
    "    unique_sources = None\n",
    "\n",
    "    try:\n",
    "        unique_sources = pd.read_csv(high_level_path).to_dict(orient='list')\n",
    "\n",
    "    except:\n",
    "        pass\n",
    "\n",
    "    for row in range(len(low_df)):\n",
    "        if unique_sources is not None:\n",
    "            ra = low_df['Coord RA'].iloc[row]\n",
    "            dec = low_df['Coord Dec'].iloc[row]\n",
    "            coord1 = SkyCoord(ra, dec)\n",
    "            fwhm = low_df['Beam Maj Axis'].iloc[row]\n",
    "            fwhm1_val = float(fwhm.replace(' arcsec', ''))\n",
    "            source_ids = unique_sources['Source ID']\n",
    "            matched  = False\n",
    "            while not matched:\n",
    "                for i in range(len(source_ids)):\n",
    "                    coord2 = SkyCoord(unique_sources['RA'][i], unique_sources['Dec'][i])\n",
    "                    sep = coord1.separation(coord2)\n",
    "                    fwhm2_val = float(unique_sources['FWHM'][i].replace(' arcsec', ''))\n",
    "                    max_sep = (fwhm1_val * fwhm2_val)**(1/2) * u.arcsec\n",
    "                    matched = (sep <= max_sep)\n",
    "                    if matched:\n",
    "                        low_df.loc[row, 'Source ID'] = source_ids[i]\n",
    "                        break\n",
    "                break\n",
    "            if not matched:\n",
    "                last_id = source_ids[-1]\n",
    "                next_number = str(int(last_id.replace('id', '')) + 1)\n",
    "                next_number = '0' * (4 - len(next_number)) + next_number\n",
    "                next_id = f'id{next_number}'\n",
    "                source_ids.append(next_id)\n",
    "                unique_sources['RA'].append(ra)\n",
    "                unique_sources['Dec'].append(dec)\n",
    "                unique_sources['FWHM'].append(fwhm)\n",
    "                low_df.loc[row, 'Source ID'] = next_id\n",
    "\n",
    "        else:\n",
    "            ra = low_df['Coord RA'].iloc[row]\n",
    "            dec = low_df['Coord Dec'].iloc[row]\n",
    "            fwhm = low_df['Beam Maj Axis'].iloc[row]\n",
    "            unique_sources = {'Source ID': ['id0001'], 'RA': [ra], 'Dec': [dec], 'FWHM': [fwhm]}\n",
    "            low_df.loc[row, 'Source ID'] = 'id0001'\n",
    "\n",
    "    df = pd.DataFrame.from_dict(unique_sources)\n",
    "    df.to_csv(high_level_path, mode='w', header=True, index=False)\n",
    "    low_df.to_csv(low_level_path, mode='w', header=True, index=False)"
   ]
  },
  {
   "cell_type": "code",
   "execution_count": 575,
   "id": "f0ca8252",
   "metadata": {},
   "outputs": [],
   "source": [
    "#%load_ext line_profiler"
   ]
  },
  {
   "cell_type": "code",
   "execution_count": 576,
   "id": "9bc54a8a",
   "metadata": {},
   "outputs": [
    {
     "name": "stdout",
     "output_type": "stream",
     "text": [
      "Error for ../data/250611_03:56:34/1743-038_full.fits: \"Keyword 'BMAJ' not found.\"\n",
      "Error with obsID: [Errno 2] No such file or directory: '../data/multi_track/polaris.json'. WARNING: Old/outdated data may not be deleted.\n",
      "No values after mask applied. Check inclusion and exclusion radii.\n",
      "Error for ../data/multi_track/hd30378_10871.fits: local variable 'peak' referenced before assignment\n"
     ]
    },
    {
     "name": "stderr",
     "output_type": "stream",
     "text": [
      "/Users/chloexu/conda/anaconda3/envs/casaenv/lib/python3.10/site-packages/astropy/units/quantity.py:1355: ComplexWarning: Casting complex values to real discards the imaginary part\n",
      "  return float(self.to_value(dimensionless_unscaled))\n"
     ]
    },
    {
     "name": "stdout",
     "output_type": "stream",
     "text": [
      "Error for ../data/multi_track/0854+281_11145.fits: float division by zero\n"
     ]
    }
   ],
   "source": [
    "#%%time\n",
    "low_level_csv('../data/250611_03:56:34')\n",
    "low_level_csv('../data/multi_track')"
   ]
  },
  {
   "cell_type": "code",
   "execution_count": 577,
   "id": "e8b5e7ca",
   "metadata": {},
   "outputs": [],
   "source": [
    "high_level_csv()"
   ]
  },
  {
   "cell_type": "code",
   "execution_count": 578,
   "id": "ef1cf4a6",
   "metadata": {},
   "outputs": [],
   "source": [
    "#%lprun -f make_catalog low_level_csv('../data/multi_track')"
   ]
  },
  {
   "cell_type": "code",
   "execution_count": 579,
   "id": "650d3280",
   "metadata": {},
   "outputs": [],
   "source": [
    "#%lprun -f low_level_csv low_level_csv('../data/multi_track')"
   ]
  },
  {
   "cell_type": "code",
   "execution_count": 580,
   "id": "c91ae561",
   "metadata": {},
   "outputs": [],
   "source": [
    "#%lprun -f high_level_csv high_level_csv()"
   ]
  }
 ],
 "metadata": {
  "kernelspec": {
   "display_name": "casaenv",
   "language": "python",
   "name": "python3"
  },
  "language_info": {
   "codemirror_mode": {
    "name": "ipython",
    "version": 3
   },
   "file_extension": ".py",
   "mimetype": "text/x-python",
   "name": "python",
   "nbconvert_exporter": "python",
   "pygments_lexer": "ipython3",
   "version": "3.10.13"
  }
 },
 "nbformat": 4,
 "nbformat_minor": 5
}
