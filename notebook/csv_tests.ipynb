{
 "cells": [
  {
   "cell_type": "code",
   "execution_count": null,
   "id": "bcfdf07d",
   "metadata": {},
   "outputs": [],
   "source": [
    "import glob\n",
    "from find_source import make_catalog, combine_catalogs\n",
    "import pandas as pd\n",
    "import os"
   ]
  },
  {
   "cell_type": "code",
   "execution_count": 60,
   "id": "0c0b86c7",
   "metadata": {},
   "outputs": [],
   "source": [
    "reader = pd.read_csv('./low_level.csv')"
   ]
  },
  {
   "cell_type": "code",
   "execution_count": 61,
   "id": "49acf124",
   "metadata": {},
   "outputs": [
    {
     "data": {
      "text/plain": [
       "['1310+323_lr',\n",
       " '6-11-25 3:17:24',\n",
       " '1310+323_lr_full.fits',\n",
       " '1.444 arcsec',\n",
       " '0.796 arcsec',\n",
       " '88.918 deg',\n",
       " '225.538GHz',\n",
       " '11.392 mJy',\n",
       " '103.614 mJy',\n",
       " '0.162 arcsec',\n",
       " '0.091 arcsec',\n",
       " '197d37m2.78s',\n",
       " '32d20m41.33s',\n",
       " np.False_]"
      ]
     },
     "execution_count": 61,
     "metadata": {},
     "output_type": "execute_result"
    }
   ],
   "source": [
    "reader.iloc[0].tolist()"
   ]
  },
  {
   "cell_type": "code",
   "execution_count": 58,
   "id": "c3f4c9da",
   "metadata": {},
   "outputs": [],
   "source": [
    "def low_level_csv(folder, csv_path = './low_level.csv'):\n",
    "\n",
    "    for file in glob.glob(os.path.join(folder, '*.fits')):\n",
    "        try:\n",
    "            catalog = make_catalog(file)\n",
    "\n",
    "            try:\n",
    "                reader = pd.read_csv(csv_path)\n",
    "                mode = 'a'\n",
    "                header = False\n",
    "            except pd.errors.EmptyDataError: #if the file has no header and no data\n",
    "                mode = 'w'\n",
    "                header = True\n",
    "            except FileNotFoundError: #file not found\n",
    "                mode = 'w'\n",
    "                header = True\n",
    "\n",
    "\n",
    "            df = pd.DataFrame.from_dict(catalog)\n",
    "            df = df.T\n",
    "            df.to_csv(csv_path, mode=mode, header=header, index=False)\n",
    "\n",
    "        except Exception as e:\n",
    "            print(f'Error for {file}: {e}')"
   ]
  },
  {
   "cell_type": "code",
   "execution_count": 59,
   "id": "b93f1168",
   "metadata": {},
   "outputs": [
    {
     "name": "stdout",
     "output_type": "stream",
     "text": [
      "Error for ../data/250611_03:56:34/1743-038_full.fits: \"Keyword 'BMAJ' not found.\"\n"
     ]
    }
   ],
   "source": [
    "low_level_csv('../data/250611_03:56:34')"
   ]
  }
 ],
 "metadata": {
  "kernelspec": {
   "display_name": "casaenv",
   "language": "python",
   "name": "python3"
  },
  "language_info": {
   "codemirror_mode": {
    "name": "ipython",
    "version": 3
   },
   "file_extension": ".py",
   "mimetype": "text/x-python",
   "name": "python",
   "nbconvert_exporter": "python",
   "pygments_lexer": "ipython3",
   "version": "3.10.13"
  }
 },
 "nbformat": 4,
 "nbformat_minor": 5
}
