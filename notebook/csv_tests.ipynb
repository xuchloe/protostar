{
 "cells": [
  {
   "cell_type": "code",
   "execution_count": null,
   "id": "bcfdf07d",
   "metadata": {},
   "outputs": [],
   "source": [
    "import glob\n",
    "import csv\n",
    "from find_source import make_catalog\n",
    "import pandas as pd\n",
    "import os"
   ]
  },
  {
   "cell_type": "code",
   "execution_count": 113,
   "id": "c3f4c9da",
   "metadata": {},
   "outputs": [],
   "source": [
    "def low_level_csv(folder, csv_path = './low_level.csv'):\n",
    "\n",
    "    for file in glob.glob(os.path.join(folder, '*.fits')):\n",
    "        try:\n",
    "            catalog = make_catalog(file)\n",
    "\n",
    "            try:\n",
    "                pd.read_csv(csv_path)\n",
    "                mode = 'a'\n",
    "                header = False\n",
    "            except pd.errors.EmptyDataError: #if the file has no header and no data\n",
    "                mode = 'w'\n",
    "                header = True\n",
    "            except FileNotFoundError: #file not found\n",
    "                mode = 'w'\n",
    "                header = True\n",
    "\n",
    "            df = pd.DataFrame.from_dict(catalog)\n",
    "            df = df.T\n",
    "            df.to_csv(csv_path, mode=mode, header=header, index=False)\n",
    "\n",
    "            new_df = pd.read_csv(csv_path)\n",
    "            new_df.dropna(inplace=True)\n",
    "            new_df.drop_duplicates(inplace=True)\n",
    "            new_df.to_csv(csv_path, index=False)\n",
    "\n",
    "        except Exception as e:\n",
    "            print(f'Error for {file}: {e}')"
   ]
  },
  {
   "cell_type": "code",
   "execution_count": 114,
   "id": "b93f1168",
   "metadata": {},
   "outputs": [
    {
     "name": "stdout",
     "output_type": "stream",
     "text": [
      "Error for ../data/250611_03:56:34/1743-038_full.fits: \"Keyword 'BMAJ' not found.\"\n"
     ]
    }
   ],
   "source": [
    "low_level_csv('../data/250611_03:56:34')"
   ]
  },
  {
   "cell_type": "code",
   "execution_count": null,
   "id": "50515cd4",
   "metadata": {},
   "outputs": [],
   "source": [
    "#def high_level_csv(ll_csv_path):"
   ]
  },
  {
   "cell_type": "code",
   "execution_count": null,
   "id": "f6f4297f",
   "metadata": {},
   "outputs": [],
   "source": [
    "#def same_source()"
   ]
  },
  {
   "cell_type": "code",
   "execution_count": null,
   "id": "2c5fa183",
   "metadata": {},
   "outputs": [],
   "source": [
    "file = csv.reader(open(csv_path, 'r'))\n",
    "\n",
    "#find column of field name, beam major axis, RA coord, dec coord, RA uncertainty, dec uncertainty"
   ]
  }
 ],
 "metadata": {
  "kernelspec": {
   "display_name": "casaenv",
   "language": "python",
   "name": "python3"
  },
  "language_info": {
   "codemirror_mode": {
    "name": "ipython",
    "version": 3
   },
   "file_extension": ".py",
   "mimetype": "text/x-python",
   "name": "python",
   "nbconvert_exporter": "python",
   "pygments_lexer": "ipython3",
   "version": "3.10.13"
  }
 },
 "nbformat": 4,
 "nbformat_minor": 5
}
