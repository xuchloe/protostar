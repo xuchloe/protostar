{
 "cells": [
  {
   "cell_type": "code",
   "execution_count": 780,
   "id": "2a7d4792",
   "metadata": {},
   "outputs": [],
   "source": [
    "from astropy.io import fits\n",
    "import numpy as np\n",
    "from scipy.optimize import curve_fit\n",
    "import math"
   ]
  },
  {
   "cell_type": "code",
   "execution_count": 814,
   "id": "200f60f4",
   "metadata": {},
   "outputs": [
    {
     "name": "stdout",
     "output_type": "stream",
     "text": [
      "oops\n",
      "hi\n"
     ]
    }
   ],
   "source": [
    "s = 'hi'\n",
    "try:\n",
    "    h = s.index('h')\n",
    "    b = s.index('b')\n",
    "    s = s[h:b]\n",
    "except:\n",
    "    print('oops')\n",
    "print(s)"
   ]
  },
  {
   "cell_type": "code",
   "execution_count": 801,
   "id": "b89b6fec",
   "metadata": {},
   "outputs": [],
   "source": [
    "file = fits.open('../data/250611_03:56:34/1555+111_full.fits')"
   ]
  },
  {
   "cell_type": "code",
   "execution_count": 782,
   "id": "23b276a0",
   "metadata": {},
   "outputs": [],
   "source": [
    "data = file[0].data[0]"
   ]
  },
  {
   "cell_type": "code",
   "execution_count": 783,
   "id": "fa5862c8",
   "metadata": {},
   "outputs": [
    {
     "data": {
      "text/plain": [
       "array([[-0.00097676,  0.00081531,  0.0024485 , ...,  0.00310269,\n",
       "         0.00357472,  0.0038019 ],\n",
       "       [ 0.00050492,  0.00174901,  0.00297046, ...,  0.00181118,\n",
       "         0.00253195,  0.00331035],\n",
       "       [ 0.00139358,  0.00180249,  0.00227913, ..., -0.00087274,\n",
       "        -0.00017827,  0.00090418],\n",
       "       ...,\n",
       "       [ 0.00517534,  0.00605375,  0.00648655, ..., -0.00436939,\n",
       "        -0.0046905 , -0.00504718],\n",
       "       [ 0.00252144,  0.00371739,  0.00465888, ..., -0.00455041,\n",
       "        -0.00441014, -0.00434385],\n",
       "       [-0.00199351, -0.00084242,  0.00030834, ..., -0.00385592,\n",
       "        -0.00336875, -0.0029433 ]], dtype='>f4')"
      ]
     },
     "execution_count": 783,
     "metadata": {},
     "output_type": "execute_result"
    }
   ],
   "source": [
    "data"
   ]
  },
  {
   "cell_type": "code",
   "execution_count": 784,
   "id": "046ff280",
   "metadata": {},
   "outputs": [],
   "source": [
    "peak = data.max()"
   ]
  },
  {
   "cell_type": "code",
   "execution_count": 785,
   "id": "71a73f00",
   "metadata": {},
   "outputs": [],
   "source": [
    "peak_pix = np.where(data == peak)"
   ]
  },
  {
   "cell_type": "code",
   "execution_count": 786,
   "id": "22b84788",
   "metadata": {},
   "outputs": [
    {
     "data": {
      "text/plain": [
       "(array([214]), array([214]))"
      ]
     },
     "execution_count": 786,
     "metadata": {},
     "output_type": "execute_result"
    }
   ],
   "source": [
    "peak_pix"
   ]
  },
  {
   "cell_type": "code",
   "execution_count": 787,
   "id": "08f320d5",
   "metadata": {},
   "outputs": [],
   "source": [
    "peak_x = peak_pix[0][0]\n",
    "peak_y = peak_pix[1][0]"
   ]
  },
  {
   "cell_type": "code",
   "execution_count": 788,
   "id": "f249a99e",
   "metadata": {},
   "outputs": [],
   "source": [
    "max_x = len(data)\n",
    "max_y = len(data[0])"
   ]
  },
  {
   "cell_type": "code",
   "execution_count": 789,
   "id": "30b67370",
   "metadata": {},
   "outputs": [],
   "source": [
    "if (peak_x - 2) >= 0 and (peak_x + 2) <= max_x and (peak_y - 2) >= 0 and (peak_y + 2) <=max_y:\n",
    "    neg2_2 = data[peak_x - 2][peak_y + 2]\n",
    "    neg2_1 = data[peak_x - 2][peak_y + 1]\n",
    "    neg2_0 = data[peak_x - 2][peak_y]\n",
    "    neg2_neg1 = data[peak_x - 2][peak_y - 1]\n",
    "    neg2_neg2 = data[peak_x - 2][peak_y - 2]\n",
    "    neg1_2 = data[peak_x - 1][peak_y + 2]\n",
    "    neg1_1 = data[peak_x - 1][peak_y + 1]\n",
    "    neg1_0 = data[peak_x - 1][peak_y]\n",
    "    neg1_neg1 = data[peak_x - 1][peak_y - 1]\n",
    "    neg1_neg2 = data[peak_x - 1][peak_y - 2]\n",
    "    zero_2 = data[peak_x][peak_y + 2]\n",
    "    zero_1 = data[peak_x][peak_y + 1]\n",
    "    zero_neg1 = data[peak_x][peak_y - 1]\n",
    "    zero_neg2 = data[peak_x][peak_y - 2]\n",
    "    pos1_2 = data[peak_x + 1][peak_y + 2]\n",
    "    pos1_1 = data[peak_x + 1][peak_y + 1]\n",
    "    pos1_0 = data[peak_x + 1][peak_y]\n",
    "    pos1_neg1 = data[peak_x + 1][peak_y - 1]\n",
    "    pos1_neg2 = data[peak_x + 1][peak_y - 2]\n",
    "    pos2_2 = data[peak_x + 2][peak_y + 2]\n",
    "    pos2_1 = data[peak_x + 2][peak_y + 1]\n",
    "    pos2_0 = data[peak_x + 2][peak_y]\n",
    "    pos2_neg1 = data[peak_x + 2][peak_y - 1]\n",
    "    pos2_neg2 = data[peak_x + 2][peak_y - 2]\n",
    "\n",
    "    '''left_top = data[peak_x - 1][peak_y + 1]\n",
    "    left_middle = data[peak_x - 1][peak_y]\n",
    "    left_bottom = data[peak_x - 1][peak_y - 1]\n",
    "    middle_top = data[peak_x][peak_y + 1]\n",
    "    middle_bottom = data[peak_x][peak_y - 1]\n",
    "    right_top = data[peak_x + 1][peak_y + 1]\n",
    "    right_middle = data[peak_x + 1][peak_y]\n",
    "    right_bottom = data[peak_x + 1][peak_y - 1]'''\n",
    "\n",
    "    #z_data = [left_top, left_middle, left_bottom, middle_top, peak, middle_bottom, right_top, right_middle, right_bottom]\n",
    "    #x_data = [-1]*3 + [0]*3 + [1]*3\n",
    "    #y_data = [1, 0, -1] * 3\n",
    "\n",
    "    z_data = [neg2_2, neg2_1, neg2_0, neg2_neg1, neg2_neg2,\\\n",
    "              neg1_2, neg1_1, neg1_0, neg1_neg1, neg1_neg2,\\\n",
    "              zero_2, zero_1, peak, zero_neg1, zero_neg2,\\\n",
    "              pos1_2, pos1_1, pos1_0, pos1_neg1, pos1_neg2,\\\n",
    "              pos2_2, pos2_1, pos2_0, pos2_neg1, pos2_neg2]\n",
    "    x_data = [-2]*5 + [-1]*5 + [0]*5 + [1]*5 + [2]*5\n",
    "    y_data = [2, 1, 0, -1, -2]*5"
   ]
  },
  {
   "cell_type": "code",
   "execution_count": 790,
   "id": "137efba0",
   "metadata": {},
   "outputs": [],
   "source": [
    "def paraboloid(coord, a, b, c, d, e, f):\n",
    "    x, y = coord\n",
    "    return a*x**2 + b*y**2 + c*x*y + d*x + e*y + f"
   ]
  },
  {
   "cell_type": "code",
   "execution_count": 791,
   "id": "68a6176d",
   "metadata": {},
   "outputs": [
    {
     "data": {
      "text/plain": [
       "\"%%timeit\\npopt, pcov = curve_fit(paraboloid, (x_data, y_data), z_data)\\na, b, c, d, e, f = popt\\n\\nlocal_max = [float('-inf'), None, None] #flux value, RA, Dec\\n\\nx_vals = np.linspace(-1, 1, 2001)\\ny_vals = np.linspace(-1, 1, 2001)\\nfor x in x_vals:\\n    for y in y_vals:\\n        z = paraboloid((x,y), a, b, c, d, e, f)\\n        if z > local_max[0]:\\n            local_max = [float(z), float(x), float(y)]\""
      ]
     },
     "execution_count": 791,
     "metadata": {},
     "output_type": "execute_result"
    }
   ],
   "source": [
    "'''%%timeit\n",
    "popt, pcov = curve_fit(paraboloid, (x_data, y_data), z_data)\n",
    "a, b, c, d, e, f = popt\n",
    "\n",
    "local_max = [float('-inf'), None, None] #flux value, RA, Dec\n",
    "\n",
    "x_vals = np.linspace(-1, 1, 2001)\n",
    "y_vals = np.linspace(-1, 1, 2001)\n",
    "for x in x_vals:\n",
    "    for y in y_vals:\n",
    "        z = paraboloid((x,y), a, b, c, d, e, f)\n",
    "        if z > local_max[0]:\n",
    "            local_max = [float(z), float(x), float(y)]'''"
   ]
  },
  {
   "cell_type": "code",
   "execution_count": 792,
   "id": "99a9bd0a",
   "metadata": {},
   "outputs": [],
   "source": [
    "def gaussian_theta(coord, amp, sigma, theta, mu_x, mu_y):\n",
    "    x, y = coord\n",
    "    return amp * np.exp(-(((x-mu_x)*math.cos(theta)+(y-mu_y)*math.sin(theta))**2+(-(x-mu_x)*math.sin(theta)+(y-mu_y)*math.cos(theta))**2)/(2*sigma**2))"
   ]
  },
  {
   "cell_type": "code",
   "execution_count": 793,
   "id": "4f4deed2",
   "metadata": {},
   "outputs": [],
   "source": [
    "def gaussian(coord, amp, sigma, mu_x, mu_y):\n",
    "    x, y = coord\n",
    "    return amp * np.exp(-((x-mu_x)**2+(y-mu_y)**2)/(2*sigma**2))"
   ]
  },
  {
   "cell_type": "code",
   "execution_count": 794,
   "id": "a56ba1bc",
   "metadata": {},
   "outputs": [],
   "source": [
    "def rotated_gaussian(coord, amp, sigma, mu_x, mu_y, a, b, c, d, e):\n",
    "    x, y = coord\n",
    "    return -amp * np.exp(-(a*(x-mu_x)**2+b*(y-mu_y)**2+c*(x-mu_x)*(y-mu_y)+d*(x-mu_x)+e*(y-mu_y))/(2*sigma**2))"
   ]
  },
  {
   "cell_type": "code",
   "execution_count": null,
   "id": "2d5cb586",
   "metadata": {},
   "outputs": [],
   "source": [
    "#%%timeit\n",
    "popt, pcov = curve_fit(gaussian_theta, (x_data, y_data), z_data)\n",
    "amp, sigma, theta, mu_x, mu_y = popt\n",
    "\n",
    "local_max = [float(gaussian_theta((mu_x, mu_y), amp, sigma, theta, mu_x, mu_y)), float(mu_x), float(mu_y)]"
   ]
  },
  {
   "cell_type": "code",
   "execution_count": 796,
   "id": "3247b9ed",
   "metadata": {},
   "outputs": [
    {
     "data": {
      "text/plain": [
       "array([ 1.71732832e-01,  2.31195090e+00,  5.66136912e+10, -4.13900264e-01,\n",
       "        1.08018079e-01])"
      ]
     },
     "execution_count": 796,
     "metadata": {},
     "output_type": "execute_result"
    }
   ],
   "source": [
    "popt"
   ]
  },
  {
   "cell_type": "code",
   "execution_count": 797,
   "id": "4ee35593",
   "metadata": {},
   "outputs": [
    {
     "data": {
      "text/plain": [
       "[0.17173283170048942,\n",
       " np.float64(-0.4139002641544724),\n",
       " np.float64(0.10801807882243354)]"
      ]
     },
     "execution_count": 797,
     "metadata": {},
     "output_type": "execute_result"
    }
   ],
   "source": [
    "local_max"
   ]
  },
  {
   "cell_type": "code",
   "execution_count": 798,
   "id": "45b5af84",
   "metadata": {},
   "outputs": [],
   "source": [
    "local_max[1] += peak_x\n",
    "local_max[2] += peak_y"
   ]
  },
  {
   "cell_type": "code",
   "execution_count": 799,
   "id": "3166ea8b",
   "metadata": {},
   "outputs": [],
   "source": [
    "local_max = [float(ele) for ele in local_max]"
   ]
  },
  {
   "cell_type": "code",
   "execution_count": 800,
   "id": "924deff4",
   "metadata": {},
   "outputs": [
    {
     "data": {
      "text/plain": [
       "[0.17173283170048942, 213.58609973584552, 214.10801807882243]"
      ]
     },
     "execution_count": 800,
     "metadata": {},
     "output_type": "execute_result"
    }
   ],
   "source": [
    "local_max"
   ]
  },
  {
   "cell_type": "markdown",
   "id": "ba08d242",
   "metadata": {},
   "source": [
    "3x3:\n",
    "[0.17188927636389958, 213.556, 214.111] gaussian, 1.26 ms ± 151 μs\n",
    "[0.1698465144295369, 213.749, 214.197] paraboloid, 4.66 s ± 27 ms\n",
    "[0.1718892811816014, 213.556, 214.111] rotated gaussian with theta, 1.91 ms ± 43.8 μs\n",
    "[0.17076217940215302, 213.737, 214.206] rotated gaussian with paraboloid, 6.29 ms ± 100 μs\n",
    "\n",
    "5x5:\n",
    "[0.17173282801699105, 213.586, 214.108] gaussian, 874 μs ± 7.57 μs\n",
    "[0.16409301582673863, 213.758, 214.186] paraboloid 4.59 s ± 9.45 ms\n",
    "[0.17173283153544183, 213.586, 214.108] rotated gaussian with theta, 1.72 ms ± 165 μs\n",
    "[0.17140147598132904, 213.722, 214.209] rotated gaussian with paraboloid, 3.9 ms ± 58.1 μs"
   ]
  }
 ],
 "metadata": {
  "kernelspec": {
   "display_name": "casaenv",
   "language": "python",
   "name": "python3"
  },
  "language_info": {
   "codemirror_mode": {
    "name": "ipython",
    "version": 3
   },
   "file_extension": ".py",
   "mimetype": "text/x-python",
   "name": "python",
   "nbconvert_exporter": "python",
   "pygments_lexer": "ipython3",
   "version": "3.10.13"
  }
 },
 "nbformat": 4,
 "nbformat_minor": 5
}
