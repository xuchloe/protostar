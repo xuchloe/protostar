{
 "cells": [
  {
   "cell_type": "code",
   "execution_count": null,
   "id": "9de37ff1",
   "metadata": {},
   "outputs": [],
   "source": [
    "import pandas as pd\n",
    "import matplotlib.pyplot as plt\n",
    "from astropy.time import Time\n",
    "from datetime import datetime, timedelta"
   ]
  },
  {
   "cell_type": "code",
   "execution_count": null,
   "id": "c7a16da9",
   "metadata": {},
   "outputs": [],
   "source": [
    "def light_curve(low_path: str, high_path: str, unique_ids: list = None):\n",
    "\n",
    "    low_df = pd.read_csv(low_path)\n",
    "    high_df = pd.read_csv(high_path)\n",
    "    if unique_ids == None:\n",
    "        unique_ids = high_df['Source ID'].tolist()\n",
    "    for source in unique_ids:\n",
    "        plt.subplots()\n",
    "        source_df = low_df[low_df['Source ID'] == source]\n",
    "        fluxes = source_df['Flux Density']\n",
    "        fluxes = [float(flux.replace('mJy', '')) for flux in fluxes]\n",
    "        flux_errs = source_df['Flux Uncert']\n",
    "        flux_errs = [float(err.replace('mJy', '')) for err in flux_errs]\n",
    "        flux_unit = 'mJy'\n",
    "        if max(fluxes) > 1000:\n",
    "            flux_unit = 'Jy'\n",
    "            for i in range(len(fluxes)):\n",
    "                fluxes[i] /= 1000\n",
    "                flux_errs[i] /= 1000\n",
    "        date_times = source_df['Obs Date Time'].tolist()\n",
    "        for i in range(len(date_times)):\n",
    "            dt = date_times[i]\n",
    "            m_end = dt.rindex(':')\n",
    "            s_start = m_end + 1\n",
    "            if dt[s_start:] == '60':\n",
    "                dt = dt[:s_start] + '0'\n",
    "                fmt = '%m-%d-%y %H:%M'\n",
    "                date_times[i] = (datetime.strptime(dt[:m_end], fmt) + timedelta(minutes=1)).strftime('%m-%d-%y %H:%M:%S')\n",
    "\n",
    "        fmt_str = '%m-%d-%y %H:%M:%S'\n",
    "        date_times = [Time(datetime.strptime(dt, fmt_str), format='datetime', scale='utc').mjd for dt in date_times]\n",
    "\n",
    "        freqs = source_df['Freq'].tolist()\n",
    "        other = []\n",
    "        milli = []\n",
    "        micro = []\n",
    "        for i in range(len(freqs)):\n",
    "            if freqs[i] == 'Not found':\n",
    "                other.append(i)\n",
    "                pass\n",
    "            else:\n",
    "                try:\n",
    "                    freqs[i] = float(freqs[i].replace('GHz', ''))\n",
    "                    if freqs[i] > 214 and freqs[i] < 273:\n",
    "                        milli.append(i)\n",
    "                    elif freqs[i] > 340 and freqs[i] < 355:\n",
    "                        micro.append(i)\n",
    "                    else:\n",
    "                        other.append(i)\n",
    "                except Exception as e:\n",
    "                    print(f'Error while getting the frequencies for source {source}: {e}')\n",
    "        other_dt = [date_times[a] for a in other]\n",
    "        other_flx = [fluxes[a] for a in other]\n",
    "        other_flx_err = [flux_errs[a] for a in other]\n",
    "        milli_dt = [date_times[b] for b in milli]\n",
    "        milli_flx = [fluxes[b] for b in milli]\n",
    "        milli_flx_err = [flux_errs[b] for b in milli]\n",
    "        micro_dt = [date_times[c] for c in micro]\n",
    "        micro_flx = [fluxes[c] for c in micro]\n",
    "        micro_flx_err = [flux_errs[c] for c in micro]\n",
    "\n",
    "        plt.errorbar(milli_dt, milli_flx, yerr=milli_flx_err, color='r', fmt='x', capsize=5, markersize=4,\\\n",
    "                     capthick=0.5, elinewidth=0.5, label='1.4-1.1mm SMA')\n",
    "        plt.errorbar(micro_dt, micro_flx, yerr=micro_flx_err, color='g', fmt='x', capsize=5, markersize=4,\\\n",
    "                     capthick=0.5, elinewidth=0.5, label='870µm SMA')\n",
    "        plt.errorbar(other_dt, other_flx, yerr=other_flx_err, color='b', fmt='x', capsize=5, markersize=4,\\\n",
    "                     capthick=0.5, elinewidth=0.5, label='Other/not found')\n",
    "\n",
    "        plt.title(f'Source {source[2:]}')\n",
    "        plt.xlabel('Modified Julian Date')\n",
    "        plt.ylabel(f'Flux in {flux_unit}')\n",
    "        plt.legend()\n",
    "        plt.ylim(bottom=0)"
   ]
  },
  {
   "cell_type": "code",
   "execution_count": null,
   "id": "1ea54664",
   "metadata": {},
   "outputs": [],
   "source": [
    "light_curve('./low_level.csv', './high_level.csv')"
   ]
  },
  {
   "cell_type": "code",
   "execution_count": null,
   "id": "d4f7e95c",
   "metadata": {},
   "outputs": [],
   "source": []
  }
 ],
 "metadata": {
  "kernelspec": {
   "display_name": "casaenv",
   "language": "python",
   "name": "python3"
  },
  "language_info": {
   "codemirror_mode": {
    "name": "ipython",
    "version": 3
   },
   "file_extension": ".py",
   "mimetype": "text/x-python",
   "name": "python",
   "nbconvert_exporter": "python",
   "pygments_lexer": "ipython3",
   "version": "3.10.13"
  }
 },
 "nbformat": 4,
 "nbformat_minor": 5
}
