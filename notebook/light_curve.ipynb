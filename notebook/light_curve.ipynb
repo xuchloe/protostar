{
 "cells": [
  {
   "cell_type": "code",
   "execution_count": null,
   "id": "c7a16da9",
   "metadata": {},
   "outputs": [],
   "source": []
  }
 ],
 "metadata": {
  "kernelspec": {
   "display_name": "casaenv",
   "language": "python",
   "name": "python3"
  },
  "language_info": {
   "name": "python",
   "version": "3.10.13"
  }
 },
 "nbformat": 4,
 "nbformat_minor": 5
}
