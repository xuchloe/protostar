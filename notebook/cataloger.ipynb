{
 "cells": [
  {
   "cell_type": "code",
   "execution_count": 36,
   "id": "3415f6ed",
   "metadata": {},
   "outputs": [],
   "source": [
    "from find_source import summary, significant\n",
    "from astropy.io import fits\n",
    "from astropy.coordinates import Angle, SkyCoord\n",
    "import astropy.units as u\n",
    "import glob"
   ]
  },
  {
   "cell_type": "code",
   "execution_count": 37,
   "id": "ffb7a6c9",
   "metadata": {},
   "outputs": [
    {
     "data": {
      "text/plain": [
       "{'int_peak_val': 12.789649963378906,\n",
       " 'int_peak_coord': (-0.6042424478692535, -0.6042424478692535),\n",
       " 'int_snr': 1033.4329542488892,\n",
       " 'calc_int_snr': 746.9733913272844,\n",
       " 'int_prob': 0.0,\n",
       " 'calc_int_prob': 0.0,\n",
       " 'ext_peak_val': [0.11062327027320862, 0.10841279476881027],\n",
       " 'ext_peak_coord': [(0.6042424478692535, -22.356970571162382),\n",
       "  (-1.8127273436077607, 21.148485675423874)],\n",
       " 'ext_snr': [8.156838745138412, 8.35947913680472],\n",
       " 'calc_ext_snr': 2.801546810997779,\n",
       " 'ext_prob': [3.1678594828139107e-12, 8.328408101379607e-13],\n",
       " 'calc_ext_prob': 1.000000000000001,\n",
       " 'field_center': (0, 0),\n",
       " 'rms': 0.012375887483358383,\n",
       " 'calc_rms_val': 0.017121961922436344,\n",
       " 'n_incl_meas': 26.018807354386986,\n",
       " 'n_excl_meas': 393.24977269309557,\n",
       " 'radius': [15.716911040408949, 7.442086890547327, 7.442086890547327]}"
      ]
     },
     "execution_count": 37,
     "metadata": {},
     "output_type": "execute_result"
    }
   ],
   "source": [
    "summary('../data/11151/3c279.fits', True, False, False)"
   ]
  },
  {
   "cell_type": "code",
   "execution_count": 38,
   "id": "f148561a",
   "metadata": {},
   "outputs": [
    {
     "data": {
      "text/plain": [
       "{'int_peak_val': 0.00460889283567667,\n",
       " 'int_peak_coord': (4.157787343125113, 1.2599355585227614),\n",
       " 'int_snr': 3.938832132401772,\n",
       " 'calc_int_snr': 3.484304729783657,\n",
       " 'int_prob': 0.007722816896333792,\n",
       " 'calc_int_prob': 0.04547026085659896,\n",
       " 'ext_peak_val': 'No significant external peak',\n",
       " 'ext_peak_coord': 'No significant external peak',\n",
       " 'ext_snr': 'No significant external peak',\n",
       " 'calc_ext_snr': 3.525667445039651,\n",
       " 'ext_prob': 'No significant external peak',\n",
       " 'calc_ext_prob': 1.0000000000000024,\n",
       " 'field_center': (0, 0),\n",
       " 'rms': 0.0011701165931299329,\n",
       " 'calc_rms_val': 0.0013227582525374695,\n",
       " 'n_incl_meas': 184.30750354148685,\n",
       " 'n_excl_meas': 4734.657446796816,\n",
       " 'radius': [46.02584220100205]}"
      ]
     },
     "execution_count": 38,
     "metadata": {},
     "output_type": "execute_result"
    }
   ],
   "source": [
    "summary('../data/sdssj152527.48+050029.9.fits', True, False, False)"
   ]
  },
  {
   "cell_type": "code",
   "execution_count": 39,
   "id": "1815f226",
   "metadata": {},
   "outputs": [],
   "source": [
    "def get_info_for_catalog(fits_file: str):\n",
    "\n",
    "    summ = summary(fits_file, True, False, False)\n",
    "\n",
    "    header_data = fits.getheader(fits_file)\n",
    "    ctype1 = header_data['CTYPE1']\n",
    "    crval1 = header_data['CRVAL1']\n",
    "    cunit1 = header_data['CUNIT1']\n",
    "    cdelt1 = header_data['CDELT1']\n",
    "    ctype2 = header_data['CTYPE2']\n",
    "    crval2 = header_data['CRVAL2']\n",
    "    cunit2 = header_data['CUNIT2']\n",
    "    cdelt2 = header_data['CDELT2']\n",
    "    name = header_data['OBJECT']\n",
    "\n",
    "    interesting_sources = [name]\n",
    "\n",
    "    n_ext_sources = 0\n",
    "    if type(summ['ext_peak_val']) == list:\n",
    "        n_ext_sources += len(summ['ext_peak_val'])\n",
    "\n",
    "    ra_index = 0\n",
    "    dec_index = 1\n",
    "\n",
    "    if 'RA' in ctype1:\n",
    "        ra = crval1\n",
    "    elif 'RA' in ctype2:\n",
    "        ra = crval2\n",
    "        ra_index = 1\n",
    "    else:\n",
    "        raise ValueError('No RA in image')\n",
    "\n",
    "    if 'DEC' in ctype1:\n",
    "        dec = crval1\n",
    "        dec_index = 0\n",
    "    elif 'DEC' in ctype2:\n",
    "        dec = crval2\n",
    "    else:\n",
    "        raise ValueError('No dec in image')\n",
    "\n",
    "    if cunit1 != cunit2:\n",
    "        raise ValueError('Axes have different units')\n",
    "\n",
    "    center = SkyCoord(ra, dec, unit=cunit1)\n",
    "\n",
    "    for i in range(n_ext_sources):\n",
    "        ext_info = {}\n",
    "        ext_info['flux_density'] = summ['ext_peak_val'][i]\n",
    "        ext_info['error'] = summ['rms'] #not sure about this one\n",
    "\n",
    "        ext_ra_offset = summ['ext_peak_coord'][i][ra_index] * u.arcsec\n",
    "        ext_dec_offset = summ['ext_peak_coord'][i][dec_index] * u.arcsec\n",
    "        ext_info['coord'] = center.spherical_offsets_by(ext_ra_offset, ext_dec_offset)\n",
    "\n",
    "        ext_info['internal'] = False\n",
    "\n",
    "        interesting_sources.append(ext_info)\n",
    "\n",
    "    if significant(fits_file):\n",
    "        int_info = {}\n",
    "        int_info['flux_density'] = summ['int_peak_val']\n",
    "        int_info['error'] = summ['rms'] #not sure about this one\n",
    "\n",
    "        int_ra_offset = summ['int_peak_coord'][ra_index] * u.arcsec\n",
    "        int_dec_offset = summ['int_peak_coord'][dec_index] * u.arcsec\n",
    "        int_info['coord'] = center.spherical_offsets_by(int_ra_offset, int_dec_offset)\n",
    "\n",
    "        int_info['internal'] = True\n",
    "\n",
    "        interesting_sources.append(int_info)\n",
    "\n",
    "    return interesting_sources"
   ]
  },
  {
   "cell_type": "code",
   "execution_count": 40,
   "id": "0e40b83d",
   "metadata": {},
   "outputs": [
    {
     "data": {
      "text/plain": [
       "['3c279',\n",
       " {'flux_density': 0.11062327027320862,\n",
       "  'error': 0.012375887483358383,\n",
       "  'coord': <SkyCoord (ICRS): (ra, dec) in deg\n",
       "      (194.04669371, -5.79552249)>,\n",
       "  'internal': False},\n",
       " {'flux_density': 0.10841279476881027,\n",
       "  'error': 0.012375887483358383,\n",
       "  'coord': <SkyCoord (ICRS): (ra, dec) in deg\n",
       "      (194.04601889, -5.78343764)>,\n",
       "  'internal': False},\n",
       " {'flux_density': 12.789649963378906,\n",
       "  'error': 0.012375887483358383,\n",
       "  'coord': <SkyCoord (ICRS): (ra, dec) in deg\n",
       "      (194.04635629, -5.78948007)>,\n",
       "  'internal': True}]"
      ]
     },
     "execution_count": 40,
     "metadata": {},
     "output_type": "execute_result"
    }
   ],
   "source": [
    "get_info_for_catalog('../data/11151/3c279.fits')"
   ]
  },
  {
   "cell_type": "code",
   "execution_count": 41,
   "id": "1e493c0e",
   "metadata": {},
   "outputs": [
    {
     "data": {
      "text/plain": [
       "['1407+2827',\n",
       " {'flux_density': 0.004832044243812561,\n",
       "  'error': 0.0010278000263497233,\n",
       "  'coord': <SkyCoord (ICRS): (ra, dec) in deg\n",
       "      (211.75152378, 28.45387035)>,\n",
       "  'internal': True}]"
      ]
     },
     "execution_count": 41,
     "metadata": {},
     "output_type": "execute_result"
    }
   ],
   "source": [
    "get_info_for_catalog('../data/1407+2827.fits')"
   ]
  }
 ],
 "metadata": {
  "kernelspec": {
   "display_name": "casaenv",
   "language": "python",
   "name": "python3"
  },
  "language_info": {
   "codemirror_mode": {
    "name": "ipython",
    "version": 3
   },
   "file_extension": ".py",
   "mimetype": "text/x-python",
   "name": "python",
   "nbconvert_exporter": "python",
   "pygments_lexer": "ipython3",
   "version": "3.10.13"
  }
 },
 "nbformat": 4,
 "nbformat_minor": 5
}
