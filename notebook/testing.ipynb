{
 "cells": [
  {
   "cell_type": "code",
   "execution_count": 4,
   "id": "afa4cfdd-d12f-4b6a-a0ba-a63fe66c7146",
   "metadata": {},
   "outputs": [],
   "source": [
    "from find_source import full_html_and_txt\n",
    "import glob"
   ]
  },
  {
   "cell_type": "code",
   "execution_count": 6,
   "id": "e3f81a6d-cb00-4215-9666-b46ed0e47832",
   "metadata": {},
   "outputs": [
    {
     "name": "stdout",
     "output_type": "stream",
     "text": [
      "Whoops for /reduction/karto/SMA/polaris_test/run_polaris.m\n"
     ]
    },
    {
     "name": "stderr",
     "output_type": "stream",
     "text": [
      "/home/cxu/.conda/envs/pyuvdata_chloe/lib/python3.13/site-packages/find_source.py:687: RuntimeWarning: More than 20 figures have been opened. Figures created through the pyplot interface (`matplotlib.pyplot.figure`) are retained until explicitly closed and may consume too much memory. (To control this warning, see the rcParam `figure.max_open_warning`). Consider using `matplotlib.pyplot.close()`.\n",
      "  fig, ax = plt.subplots(figsize=(6.5,5.2))\n",
      "/home/cxu/.conda/envs/pyuvdata_chloe/lib/python3.13/site-packages/find_source.py:687: RuntimeWarning: More than 20 figures have been opened. Figures created through the pyplot interface (`matplotlib.pyplot.figure`) are retained until explicitly closed and may consume too much memory. (To control this warning, see the rcParam `figure.max_open_warning`). Consider using `matplotlib.pyplot.close()`.\n",
      "  fig, ax = plt.subplots(figsize=(6.5,5.2))\n",
      "/home/cxu/.conda/envs/pyuvdata_chloe/lib/python3.13/site-packages/find_source.py:687: RuntimeWarning: More than 20 figures have been opened. Figures created through the pyplot interface (`matplotlib.pyplot.figure`) are retained until explicitly closed and may consume too much memory. (To control this warning, see the rcParam `figure.max_open_warning`). Consider using `matplotlib.pyplot.close()`.\n",
      "  fig, ax = plt.subplots(figsize=(6.5,5.2))\n"
     ]
    }
   ],
   "source": [
    "for folder in glob.glob('/reduction/karto/SMA/polaris_test/*'):\n",
    "    try:\n",
    "        full_html_and_txt(folder)\n",
    "    except:\n",
    "        print(f'Whoops for {folder}')"
   ]
  }
 ],
 "metadata": {
  "kernelspec": {
   "display_name": "Python 3 (ipykernel)",
   "language": "python",
   "name": "python3"
  },
  "language_info": {
   "codemirror_mode": {
    "name": "ipython",
    "version": 3
   },
   "file_extension": ".py",
   "mimetype": "text/x-python",
   "name": "python",
   "nbconvert_exporter": "python",
   "pygments_lexer": "ipython3",
   "version": "3.13.3"
  }
 },
 "nbformat": 4,
 "nbformat_minor": 5
}
