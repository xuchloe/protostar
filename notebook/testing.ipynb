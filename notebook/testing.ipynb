{
 "cells": [
  {
   "cell_type": "code",
   "execution_count": 2,
   "id": "afa4cfdd-d12f-4b6a-a0ba-a63fe66c7146",
   "metadata": {},
   "outputs": [],
   "source": [
    "from find_source import full_html_and_txt, make_catalog\n",
    "import glob\n",
    "import json"
   ]
  },
  {
   "cell_type": "code",
   "execution_count": 12,
   "id": "e3f81a6d-cb00-4215-9666-b46ed0e47832",
   "metadata": {},
   "outputs": [
    {
     "name": "stdout",
     "output_type": "stream",
     "text": [
      "/reduction/karto/SMA/polaris_test/250101_04:01:33\n",
      "/reduction/karto/SMA/polaris_test/run_polaris.m\n",
      "/reduction/karto/SMA/polaris_test/250101_14:31:46\n",
      "/reduction/karto/SMA/polaris_test/250102_03:39:23\n",
      "/reduction/karto/SMA/polaris_test/250103_05:25:18\n",
      "/reduction/karto/SMA/polaris_test/250104_03:18:27\n",
      "/reduction/karto/SMA/polaris_test/250105_04:05:43\n",
      "/reduction/karto/SMA/polaris_test/250106_03:59:50\n",
      "/reduction/karto/SMA/polaris_test/250106_13:01:37\n",
      "/reduction/karto/SMA/polaris_test/250106_15:00:08\n",
      "/reduction/karto/SMA/polaris_test/250106_17:38:06\n",
      "/reduction/karto/SMA/polaris_test/250107_03:21:27\n",
      "/reduction/karto/SMA/polaris_test/250107_11:09:13\n",
      "/reduction/karto/SMA/polaris_test/250108_04:00:57\n",
      "/reduction/karto/SMA/polaris_test/250109_03:31:04\n",
      "/reduction/karto/SMA/polaris_test/250109_07:40:11\n",
      "/reduction/karto/SMA/polaris_test/250109_15:20:50\n",
      "/reduction/karto/SMA/polaris_test/250111_03:59:34\n",
      "/reduction/karto/SMA/polaris_test/250112_04:00:37\n",
      "/reduction/karto/SMA/polaris_test/250114_03:31:47\n",
      "/reduction/karto/SMA/polaris_test/250114_15:18:20\n",
      "/reduction/karto/SMA/polaris_test/250115_11:17:12\n",
      "/reduction/karto/SMA/polaris_test/250115_11:19:28\n",
      "/reduction/karto/SMA/polaris_test/250115_12:10:22\n",
      "/reduction/karto/SMA/polaris_test/250115_14:40:08\n",
      "/reduction/karto/SMA/polaris_test/250117_14:59:30\n",
      "/reduction/karto/SMA/polaris_test/250119_04:20:52\n",
      "/reduction/karto/SMA/polaris_test/250120_04:43:30\n",
      "/reduction/karto/SMA/polaris_test/250121_03:21:37\n",
      "/reduction/karto/SMA/polaris_test/250121_16:19:35\n",
      "/reduction/karto/SMA/polaris_test/250122_03:56:27\n",
      "/reduction/karto/SMA/polaris_test/250122_11:57:15\n",
      "/reduction/karto/SMA/polaris_test/250122_12:19:43\n",
      "/reduction/karto/SMA/polaris_test/250123_09:55:05\n",
      "/reduction/karto/SMA/polaris_test/250124_07:31:28\n",
      "/reduction/karto/SMA/polaris_test/250124_16:16:53\n",
      "/reduction/karto/SMA/polaris_test/250125_02:57:54\n",
      "/reduction/karto/SMA/polaris_test/250125_03:21:22\n"
     ]
    }
   ],
   "source": [
    "for folder in glob.glob('/reduction/karto/SMA/polaris_test/*'):\n",
    "    print(folder)"
   ]
  },
  {
   "cell_type": "code",
   "execution_count": 3,
   "id": "dd5a30c8-10b3-4119-9d72-45cc67ebdcd2",
   "metadata": {},
   "outputs": [],
   "source": [
    "full_html_and_txt('/reduction/karto/SMA/polaris_test/250112_04:00:37')"
   ]
  },
  {
   "cell_type": "code",
   "execution_count": 15,
   "id": "01c01989-d6a4-47c7-a092-e33b30ff9115",
   "metadata": {},
   "outputs": [
    {
     "name": "stdout",
     "output_type": "stream",
     "text": [
      "{'source_1': {'field_name': '3c84', 'obs_date_time': '6-13-25 11:45:30', 'file_name': '3c84_full.fits', 'beam_maj_axis': <Quantity 2.601 arcsec>, 'beam_min_axis': <Quantity 2.145 arcsec>, 'beam_pos_angle': <Quantity 113. deg>, 'flux_uncertainty': <Quantity 81.58 mJy>, 'flux_density': <Quantity 13658.674 mJy>, 'coord_ra': <Quantity 49.951 deg>, 'coord_dec': <Quantity 41.512 deg>, 'internal': True}}\n",
      "{'source_1': {'field_name': 'callisto', 'obs_date_time': '6-13-25 11:45:36', 'file_name': 'callisto_full.fits', 'beam_maj_axis': <Quantity 3.474 arcsec>, 'beam_min_axis': <Quantity 2.243 arcsec>, 'beam_pos_angle': <Quantity 84. deg>, 'flux_uncertainty': <Quantity 235.89 mJy>, 'flux_density': <Quantity 8969.097 mJy>, 'coord_ra': <Quantity 70.631 deg>, 'coord_dec': <Quantity 21.681 deg>, 'internal': True}}\n",
      "{'source_1': {'field_name': 'uranus', 'obs_date_time': '6-13-25 11:45:38', 'file_name': 'uranus_full.fits', 'beam_maj_axis': <Quantity 2.552 arcsec>, 'beam_min_axis': <Quantity 2.078 arcsec>, 'beam_pos_angle': <Quantity 103. deg>, 'flux_uncertainty': <Quantity 616.423 mJy>, 'flux_density': <Quantity 19743.7 mJy>, 'coord_ra': <Quantity 51.087 deg>, 'coord_dec': <Quantity 18.384 deg>, 'internal': True}}\n",
      "{'source_1': {'field_name': '0510+180', 'obs_date_time': '6-13-25 11:45:39', 'file_name': '0510+180_full.fits', 'beam_maj_axis': <Quantity 2.577 arcsec>, 'beam_min_axis': <Quantity 2.151 arcsec>, 'beam_pos_angle': <Quantity 103. deg>, 'flux_uncertainty': <Quantity 2.91 mJy>, 'flux_density': <Quantity 943.945 mJy>, 'coord_ra': <Quantity 77.51 deg>, 'coord_dec': <Quantity 18.012 deg>, 'internal': True}, 'source_2': {'field_name': '0510+180', 'obs_date_time': '6-13-25 11:45:39', 'file_name': '0510+180_full.fits', 'beam_maj_axis': <Quantity 2.577 arcsec>, 'beam_min_axis': <Quantity 2.151 arcsec>, 'beam_pos_angle': <Quantity 103. deg>, 'flux_uncertainty': <Quantity 2.91 mJy>, 'flux_density': <Quantity 15.866 mJy>, 'coord_ra': <Quantity 77.512 deg>, 'coord_dec': <Quantity 18.013 deg>, 'internal': False}}\n",
      "{'source_1': {'field_name': 'citau', 'obs_date_time': '6-13-25 11:45:41', 'file_name': 'citau_full.fits', 'beam_maj_axis': <Quantity 2.519 arcsec>, 'beam_min_axis': <Quantity 2.115 arcsec>, 'beam_pos_angle': <Quantity 114. deg>, 'flux_uncertainty': <Quantity 2.273 mJy>, 'flux_density': <Quantity 155.158 mJy>, 'coord_ra': <Quantity 68.467 deg>, 'coord_dec': <Quantity 22.842 deg>, 'internal': True}, 'source_2': {'field_name': 'citau', 'obs_date_time': '6-13-25 11:45:41', 'file_name': 'citau_full.fits', 'beam_maj_axis': <Quantity 2.519 arcsec>, 'beam_min_axis': <Quantity 2.115 arcsec>, 'beam_pos_angle': <Quantity 114. deg>, 'flux_uncertainty': <Quantity 2.273 mJy>, 'flux_density': <Quantity 15.132 mJy>, 'coord_ra': <Quantity 68.469 deg>, 'coord_dec': <Quantity 22.844 deg>, 'internal': False}, 'source_3': {'field_name': 'citau', 'obs_date_time': '6-13-25 11:45:41', 'file_name': 'citau_full.fits', 'beam_maj_axis': <Quantity 2.519 arcsec>, 'beam_min_axis': <Quantity 2.115 arcsec>, 'beam_pos_angle': <Quantity 114. deg>, 'flux_uncertainty': <Quantity 2.273 mJy>, 'flux_density': <Quantity 11.686 mJy>, 'coord_ra': <Quantity 68.468 deg>, 'coord_dec': <Quantity 22.84 deg>, 'internal': False}}\n",
      "{'source_1': {'field_name': '3c120', 'obs_date_time': '6-13-25 11:45:42', 'file_name': '3c120_full.fits', 'beam_maj_axis': <Quantity 2.453 arcsec>, 'beam_min_axis': <Quantity 2.271 arcsec>, 'beam_pos_angle': <Quantity 91. deg>, 'flux_uncertainty': <Quantity 6.519 mJy>, 'flux_density': <Quantity 1585.116 mJy>, 'coord_ra': <Quantity 68.296 deg>, 'coord_dec': <Quantity 5.354 deg>, 'internal': True}, 'source_2': {'field_name': '3c120', 'obs_date_time': '6-13-25 11:45:42', 'file_name': '3c120_full.fits', 'beam_maj_axis': <Quantity 2.453 arcsec>, 'beam_min_axis': <Quantity 2.271 arcsec>, 'beam_pos_angle': <Quantity 91. deg>, 'flux_uncertainty': <Quantity 6.519 mJy>, 'flux_density': <Quantity 37.21 mJy>, 'coord_ra': <Quantity 68.296 deg>, 'coord_dec': <Quantity 5.35 deg>, 'internal': False}, 'source_3': {'field_name': '3c120', 'obs_date_time': '6-13-25 11:45:42', 'file_name': '3c120_full.fits', 'beam_maj_axis': <Quantity 2.453 arcsec>, 'beam_min_axis': <Quantity 2.271 arcsec>, 'beam_pos_angle': <Quantity 91. deg>, 'flux_uncertainty': <Quantity 6.519 mJy>, 'flux_density': <Quantity 33.366 mJy>, 'coord_ra': <Quantity 68.298 deg>, 'coord_dec': <Quantity 5.356 deg>, 'internal': False}}\n",
      "{'source_1': {'field_name': 'lkca15', 'obs_date_time': '6-13-25 11:45:44', 'file_name': 'lkca15_full.fits', 'beam_maj_axis': <Quantity 2.468 arcsec>, 'beam_min_axis': <Quantity 2.133 arcsec>, 'beam_pos_angle': <Quantity 103. deg>, 'flux_uncertainty': <Quantity 1.935 mJy>, 'flux_density': <Quantity 151.766 mJy>, 'coord_ra': <Quantity 69.824 deg>, 'coord_dec': <Quantity 22.351 deg>, 'internal': True}, 'source_2': {'field_name': 'lkca15', 'obs_date_time': '6-13-25 11:45:44', 'file_name': 'lkca15_full.fits', 'beam_maj_axis': <Quantity 2.468 arcsec>, 'beam_min_axis': <Quantity 2.133 arcsec>, 'beam_pos_angle': <Quantity 103. deg>, 'flux_uncertainty': <Quantity 1.935 mJy>, 'flux_density': <Quantity 14.311 mJy>, 'coord_ra': <Quantity 69.826 deg>, 'coord_dec': <Quantity 22.353 deg>, 'internal': False}}\n",
      "{'source_1': {'field_name': 'vesta', 'obs_date_time': '6-13-25 11:45:45', 'file_name': 'vesta_full.fits', 'beam_maj_axis': <Quantity 8.561 arcsec>, 'beam_min_axis': <Quantity 2.496 arcsec>, 'beam_pos_angle': <Quantity 67. deg>, 'flux_uncertainty': <Quantity 21.602 mJy>, 'flux_density': <Quantity 526.564 mJy>, 'coord_ra': <Quantity 213.874 deg>, 'coord_dec': <Quantity -5.957 deg>, 'internal': True}}\n",
      "{'source_1': {'field_name': '3c279', 'obs_date_time': '6-13-25 11:45:47', 'file_name': '3c279_full.fits', 'beam_maj_axis': <Quantity 3.148 arcsec>, 'beam_min_axis': <Quantity 2.291 arcsec>, 'beam_pos_angle': <Quantity 62. deg>, 'flux_uncertainty': <Quantity 13.306 mJy>, 'flux_density': <Quantity 4259.604 mJy>, 'coord_ra': <Quantity 194.046 deg>, 'coord_dec': <Quantity -5.789 deg>, 'internal': True}, 'source_2': {'field_name': '3c279', 'obs_date_time': '6-13-25 11:45:47', 'file_name': '3c279_full.fits', 'beam_maj_axis': <Quantity 3.148 arcsec>, 'beam_min_axis': <Quantity 2.291 arcsec>, 'beam_pos_angle': <Quantity 62. deg>, 'flux_uncertainty': <Quantity 13.306 mJy>, 'flux_density': <Quantity 85.159 mJy>, 'coord_ra': <Quantity 194.048 deg>, 'coord_dec': <Quantity -5.788 deg>, 'internal': False}, 'source_3': {'field_name': '3c279', 'obs_date_time': '6-13-25 11:45:47', 'file_name': '3c279_full.fits', 'beam_maj_axis': <Quantity 3.148 arcsec>, 'beam_min_axis': <Quantity 2.291 arcsec>, 'beam_pos_angle': <Quantity 62. deg>, 'flux_uncertainty': <Quantity 13.306 mJy>, 'flux_density': <Quantity 70.367 mJy>, 'coord_ra': <Quantity 194.045 deg>, 'coord_dec': <Quantity -5.791 deg>, 'internal': False}}\n"
     ]
    }
   ],
   "source": [
    "for file in glob.glob('/reduction/karto/SMA/polaris_test/250112_04:00:37/*.fits'):\n",
    "    print(make_catalog(file))"
   ]
  },
  {
   "cell_type": "markdown",
   "id": "56affa57-9a35-4765-b5d5-b0cf887d4404",
   "metadata": {},
   "source": []
  },
  {
   "cell_type": "code",
   "execution_count": null,
   "id": "b822cd8e-dbe7-4039-877b-2990d4c88ba3",
   "metadata": {},
   "outputs": [],
   "source": []
  }
 ],
 "metadata": {
  "kernelspec": {
   "display_name": "Python 3 (ipykernel)",
   "language": "python",
   "name": "python3"
  },
  "language_info": {
   "codemirror_mode": {
    "name": "ipython",
    "version": 3
   },
   "file_extension": ".py",
   "mimetype": "text/x-python",
   "name": "python",
   "nbconvert_exporter": "python",
   "pygments_lexer": "ipython3",
   "version": "3.13.3"
  }
 },
 "nbformat": 4,
 "nbformat_minor": 5
}
