{
 "cells": [
  {
   "cell_type": "code",
   "execution_count": 8,
   "id": "9cfd3b60",
   "metadata": {},
   "outputs": [],
   "source": [
    "from find_source import low_level_csv, high_level_csv, full_html_and_txt, summary\n",
    "import glob\n",
    "from astropy.io import fits"
   ]
  },
  {
   "cell_type": "code",
   "execution_count": null,
   "id": "90896482",
   "metadata": {},
   "outputs": [],
   "source": [
    "#full_html_and_txt('../data/250611_03:56:34')"
   ]
  },
  {
   "cell_type": "code",
   "execution_count": null,
   "id": "18aa000e",
   "metadata": {},
   "outputs": [],
   "source": [
    "for file in glob.glob('../data/multi_track/*.fits'):\n",
    "    try:\n",
    "        summary(fits_file=file, short_dict=False, plot=True, )"
   ]
  },
  {
   "cell_type": "code",
   "execution_count": 2,
   "id": "83b2ea06",
   "metadata": {},
   "outputs": [],
   "source": [
    "#for file in glob.glob('/mnt/COMPASS9/sma/quality/*'):\n",
    "#    try:\n",
    "#        low_level_csv(file)\n",
    "#    except Exception as e:\n",
    "#        print(f'{e} for {file}')\n",
    "#high_level_csv()"
   ]
  },
  {
   "cell_type": "code",
   "execution_count": 3,
   "id": "6cd22030-4020-4c53-8dec-770c6c60e1b4",
   "metadata": {},
   "outputs": [],
   "source": [
    "#hdul = fits.open('../data/11306/3c273_img_RX0.fits')"
   ]
  },
  {
   "cell_type": "code",
   "execution_count": 4,
   "id": "2ea2feee",
   "metadata": {},
   "outputs": [],
   "source": [
    "#hdul[1].columns[1].name\n",
    "#hdul[1].columns[1].unit\n",
    "#hdul[1].data[1][1]"
   ]
  },
  {
   "cell_type": "code",
   "execution_count": null,
   "id": "3ae773a3",
   "metadata": {},
   "outputs": [],
   "source": []
  }
 ],
 "metadata": {
  "kernelspec": {
   "display_name": "casaenv",
   "language": "python",
   "name": "python3"
  },
  "language_info": {
   "codemirror_mode": {
    "name": "ipython",
    "version": 3
   },
   "file_extension": ".py",
   "mimetype": "text/x-python",
   "name": "python",
   "nbconvert_exporter": "python",
   "pygments_lexer": "ipython3",
   "version": "3.10.13"
  }
 },
 "nbformat": 4,
 "nbformat_minor": 5
}
