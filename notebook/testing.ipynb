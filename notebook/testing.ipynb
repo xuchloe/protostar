{
 "cells": [
  {
   "cell_type": "code",
   "execution_count": 1,
   "id": "9cfd3b60",
   "metadata": {},
   "outputs": [],
   "source": [
    "from find_source import low_level_csv, high_level_csv\n",
    "import glob\n",
    "from astropy.io import fits"
   ]
  },
  {
   "cell_type": "code",
   "execution_count": 22,
   "id": "83b2ea06",
   "metadata": {},
   "outputs": [
    {
     "name": "stdout",
     "output_type": "stream",
     "text": [
      "Error for /mnt/COMPASS9/sma/quality/13513/1658+347_img_RX0.fits: index 0 is out of bounds for axis 0 with size 0\n",
      "Error for /mnt/COMPASS9/sma/quality/13316/1127-189_img_RX3.fits: index 0 is out of bounds for axis 0 with size 0\n",
      "Error for /mnt/COMPASS9/sma/quality/13316/1130-148_img_RX3.fits: index 0 is out of bounds for axis 0 with size 0\n",
      "Error for /mnt/COMPASS9/sma/quality/13316/3c279_img_RX3.fits: index 0 is out of bounds for axis 0 with size 0\n"
     ]
    },
    {
     "name": "stderr",
     "output_type": "stream",
     "text": [
      "/py3opt/anaconda3/lib/python3.11/site-packages/astropy/units/quantity.py:1350: ComplexWarning: Casting complex values to real discards the imaginary part\n",
      "  return float(self.to_value(dimensionless_unscaled))\n"
     ]
    },
    {
     "name": "stdout",
     "output_type": "stream",
     "text": [
      "Error for /mnt/COMPASS9/sma/quality/10618/1146+399_img_RX0.fits: float() argument must be a string or a real number, not 'complex'\n",
      "No values after mask applied. Check inclusion and exclusion radii.\n",
      "Error for /mnt/COMPASS9/sma/quality/10618/1146+399_img_RX3.fits: cannot access local variable 'peak' where it is not associated with a value\n",
      "Error for /mnt/COMPASS9/sma/quality/10618/1159+292_img_RX0.fits: float division by zero\n"
     ]
    }
   ],
   "source": [
    "for file in glob.glob('/mnt/COMPASS9/sma/quality/*'):\n",
    "    try:\n",
    "        low_level_csv(file)\n",
    "    except Exception as e:\n",
    "        print(f'{e} for {file}')\n",
    "high_level_csv()"
   ]
  },
  {
   "cell_type": "code",
   "execution_count": 16,
   "id": "6cd22030-4020-4c53-8dec-770c6c60e1b4",
   "metadata": {},
   "outputs": [],
   "source": [
    "hdul = fits.open('../data/11306/3c273_img_RX0.fits')"
   ]
  },
  {
   "cell_type": "code",
   "execution_count": 32,
   "id": "2ea2feee",
   "metadata": {},
   "outputs": [
    {
     "data": {
      "text/plain": [
       "'Hz'"
      ]
     },
     "execution_count": 32,
     "metadata": {},
     "output_type": "execute_result"
    }
   ],
   "source": [
    "hdul[1].columns[1].name\n",
    "hdul[1].columns[1].unit\n",
    "#hdul[1].data[1][1]"
   ]
  },
  {
   "cell_type": "code",
   "execution_count": null,
   "id": "3ae773a3",
   "metadata": {},
   "outputs": [],
   "source": []
  }
 ],
 "metadata": {
  "kernelspec": {
   "display_name": "casaenv",
   "language": "python",
   "name": "python3"
  },
  "language_info": {
   "codemirror_mode": {
    "name": "ipython",
    "version": 3
   },
   "file_extension": ".py",
   "mimetype": "text/x-python",
   "name": "python",
   "nbconvert_exporter": "python",
   "pygments_lexer": "ipython3",
   "version": "3.10.13"
  }
 },
 "nbformat": 4,
 "nbformat_minor": 5
}
