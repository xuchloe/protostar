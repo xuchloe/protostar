{
 "cells": [
  {
   "cell_type": "code",
   "execution_count": 10,
   "id": "afa4cfdd-d12f-4b6a-a0ba-a63fe66c7146",
   "metadata": {},
   "outputs": [],
   "source": [
    "from find_source import full_html_and_txt, make_catalog, summary\n",
    "import numpy as np\n",
    "import glob\n",
    "import json"
   ]
  },
  {
   "cell_type": "code",
   "execution_count": 11,
   "id": "1cb75bc5",
   "metadata": {},
   "outputs": [
    {
     "name": "stdout",
     "output_type": "stream",
     "text": [
      "Error for ../data/250611_03:56:34/1310+323_lr_full.fits: 'sd_mad'\n",
      "Error for ../data/250611_03:56:34/1635+381_full.fits: 'sd_mad'\n",
      "Error for ../data/250611_03:56:34/1642+398_full.fits: 'sd_mad'\n",
      "Error for ../data/250611_03:56:34/3c286_full.fits: 'sd_mad'\n",
      "Error for ../data/250611_03:56:34/1512-090_full.fits: 'sd_mad'\n",
      "Error for ../data/250611_03:56:34/3c279_lr_full.fits: 'sd_mad'\n",
      "Error for ../data/250611_03:56:34/1159+292_full.fits: 'sd_mad'\n",
      "Error for ../data/250611_03:56:34/mwc349a_full.fits: 'sd_mad'\n",
      "Error for ../data/250611_03:56:34/1743-038_full.fits: \"Keyword 'BMAJ' not found.\"\n",
      "Error for ../data/250611_03:56:34/1310+323_full.fits: 'sd_mad'\n",
      "Error for ../data/250611_03:56:34/1555+111_full.fits: 'sd_mad'\n",
      "Error for ../data/250611_03:56:34/1751+096_full.fits: 'sd_mad'\n"
     ]
    },
    {
     "ename": "KeyboardInterrupt",
     "evalue": "",
     "output_type": "error",
     "traceback": [
      "\u001b[0;31m---------------------------------------------------------------------------\u001b[0m",
      "\u001b[0;31mKeyboardInterrupt\u001b[0m                         Traceback (most recent call last)",
      "Cell \u001b[0;32mIn[11], line 3\u001b[0m\n\u001b[1;32m      1\u001b[0m \u001b[38;5;28;01mfor\u001b[39;00m file \u001b[38;5;129;01min\u001b[39;00m glob\u001b[38;5;241m.\u001b[39mglob(\u001b[38;5;124m'\u001b[39m\u001b[38;5;124m../data/250611_03:56:34/*.fits\u001b[39m\u001b[38;5;124m'\u001b[39m): \u001b[38;5;66;03m#('../data/multi_track/*.fits'):\u001b[39;00m\n\u001b[1;32m      2\u001b[0m     \u001b[38;5;28;01mtry\u001b[39;00m:\n\u001b[0;32m----> 3\u001b[0m         s \u001b[38;5;241m=\u001b[39m \u001b[43msummary\u001b[49m\u001b[43m(\u001b[49m\u001b[43mfile\u001b[49m\u001b[43m,\u001b[49m\u001b[43m \u001b[49m\u001b[43mplot\u001b[49m\u001b[38;5;241;43m=\u001b[39;49m\u001b[38;5;28;43;01mFalse\u001b[39;49;00m\u001b[43m)\u001b[49m\n\u001b[1;32m      4\u001b[0m         rms \u001b[38;5;241m=\u001b[39m s[\u001b[38;5;124m'\u001b[39m\u001b[38;5;124mrms_val\u001b[39m\u001b[38;5;124m'\u001b[39m]\n\u001b[1;32m      5\u001b[0m         rms_from_peak \u001b[38;5;241m=\u001b[39m s[\u001b[38;5;124m'\u001b[39m\u001b[38;5;124mcalc_rms_val\u001b[39m\u001b[38;5;124m'\u001b[39m]\n",
      "File \u001b[0;32m~/repo/protostar/src/find_source.py:622\u001b[0m, in \u001b[0;36msummary\u001b[0;34m(fits_file, radius_buffer, ext_threshold, short_dict, plot, save_path)\u001b[0m\n\u001b[1;32m    483\u001b[0m \u001b[38;5;28;01mdef\u001b[39;00m \u001b[38;5;21msummary\u001b[39m(fits_file: \u001b[38;5;28mstr\u001b[39m, radius_buffer: \u001b[38;5;28mfloat\u001b[39m \u001b[38;5;241m=\u001b[39m \u001b[38;5;241m5.0\u001b[39m, ext_threshold: \u001b[38;5;28mfloat\u001b[39m \u001b[38;5;241m=\u001b[39m \u001b[38;5;28;01mNone\u001b[39;00m,\\\n\u001b[1;32m    484\u001b[0m             short_dict: \u001b[38;5;28mbool\u001b[39m \u001b[38;5;241m=\u001b[39m \u001b[38;5;28;01mTrue\u001b[39;00m, plot: \u001b[38;5;28mbool\u001b[39m \u001b[38;5;241m=\u001b[39m \u001b[38;5;28;01mTrue\u001b[39;00m, save_path: \u001b[38;5;28mstr\u001b[39m \u001b[38;5;241m=\u001b[39m \u001b[38;5;124m'\u001b[39m\u001b[38;5;124m'\u001b[39m):\n\u001b[1;32m    485\u001b[0m \u001b[38;5;250m    \u001b[39m\u001b[38;5;124;03m'''\u001b[39;00m\n\u001b[1;32m    486\u001b[0m \u001b[38;5;124;03m    Summarizes an image's statistics into a shorter dictionary, a more detailed dictionary, and/or a plot,\u001b[39;00m\n\u001b[1;32m    487\u001b[0m \u001b[38;5;124;03m    with an option to save the plot as a png.\u001b[39;00m\n\u001b[0;32m   (...)\u001b[0m\n\u001b[1;32m    620\u001b[0m \u001b[38;5;124;03m                        The exclusion region's signal to noise ratio.\u001b[39;00m\n\u001b[1;32m    621\u001b[0m \u001b[38;5;124;03m    '''\u001b[39;00m\n\u001b[0;32m--> 622\u001b[0m     info \u001b[38;5;241m=\u001b[39m (get_prob_rms_est_from_ext(\u001b[43mprob_dict_from_rms_uncert\u001b[49m\u001b[43m(\u001b[49m\u001b[43mfits_file\u001b[49m\u001b[38;5;241;43m=\u001b[39;49m\u001b[43mfits_file\u001b[49m\u001b[43m,\u001b[49m\u001b[43m \u001b[49m\u001b[43mradius_buffer\u001b[49m\u001b[38;5;241;43m=\u001b[39;49m\u001b[43mradius_buffer\u001b[49m\u001b[43m,\u001b[49m\u001b[43m \u001b[49m\u001b[43mext_threshold\u001b[49m\u001b[38;5;241;43m=\u001b[39;49m\u001b[43mext_threshold\u001b[49m\u001b[43m)\u001b[49m))\n\u001b[1;32m    624\u001b[0m     center \u001b[38;5;241m=\u001b[39m info[\u001b[38;5;124m'\u001b[39m\u001b[38;5;124mfield_center\u001b[39m\u001b[38;5;124m'\u001b[39m]\n\u001b[1;32m    626\u001b[0m     header_data \u001b[38;5;241m=\u001b[39m fits\u001b[38;5;241m.\u001b[39mgetheader(fits_file)\n",
      "File \u001b[0;32m~/repo/protostar/src/find_source.py:375\u001b[0m, in \u001b[0;36mprob_dict_from_rms_uncert\u001b[0;34m(fits_file, center, rms, radius_buffer, ext_threshold)\u001b[0m\n\u001b[1;32m    373\u001b[0m \u001b[38;5;66;03m#find internal peaks in addition to 1st internal peak\u001b[39;00m\n\u001b[1;32m    374\u001b[0m \u001b[38;5;28;01mwhile\u001b[39;00m int_significant:\n\u001b[0;32m--> 375\u001b[0m     int_stats \u001b[38;5;241m=\u001b[39m \u001b[43mregion_stats\u001b[49m\u001b[43m(\u001b[49m\u001b[43mfits_file\u001b[49m\u001b[38;5;241;43m=\u001b[39;49m\u001b[43mfits_file\u001b[49m\u001b[43m,\u001b[49m\u001b[43m \u001b[49m\u001b[43mcenter\u001b[49m\u001b[38;5;241;43m=\u001b[39;49m\u001b[43mcenter\u001b[49m\u001b[43m,\u001b[49m\u001b[43m \u001b[49m\u001b[43mradius\u001b[49m\u001b[38;5;241;43m=\u001b[39;49m\u001b[43mradius\u001b[49m\u001b[43m,\u001b[49m\u001b[43m \u001b[49m\u001b[43minvert\u001b[49m\u001b[38;5;241;43m=\u001b[39;49m\u001b[38;5;28;43;01mTrue\u001b[39;49;00m\u001b[43m,\u001b[49m\u001b[43m \u001b[49m\u001b[43mGaussian\u001b[49m\u001b[38;5;241;43m=\u001b[39;49m\u001b[38;5;28;43;01mTrue\u001b[39;49;00m\u001b[43m,\u001b[49m\u001b[43m \u001b[49m\u001b[43minternal\u001b[49m\u001b[38;5;241;43m=\u001b[39;49m\u001b[38;5;28;43;01mTrue\u001b[39;49;00m\u001b[43m,\u001b[49m\u001b[43m\\\u001b[49m\n\u001b[1;32m    376\u001b[0m \u001b[43m                             \u001b[49m\u001b[43mouter_radius\u001b[49m\u001b[38;5;241;43m=\u001b[39;49m\u001b[43msearch_radius\u001b[49m\u001b[43m)\u001b[49m\n\u001b[1;32m    377\u001b[0m     int_peak \u001b[38;5;241m=\u001b[39m int_stats[\u001b[38;5;124m'\u001b[39m\u001b[38;5;124mpeak\u001b[39m\u001b[38;5;124m'\u001b[39m]\n\u001b[1;32m    378\u001b[0m     int_prob \u001b[38;5;241m=\u001b[39m calc_prob_from_rms_uncert(peak\u001b[38;5;241m=\u001b[39mint_peak, rms\u001b[38;5;241m=\u001b[39mrms, n_excl\u001b[38;5;241m=\u001b[39mn_excl, n_incl\u001b[38;5;241m=\u001b[39mn_incl)\n",
      "File \u001b[0;32m~/repo/protostar/src/find_source.py:233\u001b[0m, in \u001b[0;36mregion_stats\u001b[0;34m(fits_file, center, radius, invert, Gaussian, internal, outer_radius)\u001b[0m\n\u001b[1;32m    230\u001b[0m y_data \u001b[38;5;241m=\u001b[39m [\u001b[38;5;241m2\u001b[39m, \u001b[38;5;241m1\u001b[39m, \u001b[38;5;241m0\u001b[39m, \u001b[38;5;241m-\u001b[39m\u001b[38;5;241m1\u001b[39m, \u001b[38;5;241m-\u001b[39m\u001b[38;5;241m2\u001b[39m]\u001b[38;5;241m*\u001b[39m\u001b[38;5;241m5\u001b[39m\n\u001b[1;32m    232\u001b[0m \u001b[38;5;28;01mtry\u001b[39;00m:\n\u001b[0;32m--> 233\u001b[0m     popt, pcov \u001b[38;5;241m=\u001b[39m \u001b[43mcurve_fit\u001b[49m\u001b[43m(\u001b[49m\u001b[43mgaussian_theta\u001b[49m\u001b[43m,\u001b[49m\u001b[43m \u001b[49m\u001b[43m(\u001b[49m\u001b[43mx_data\u001b[49m\u001b[43m,\u001b[49m\u001b[43m \u001b[49m\u001b[43my_data\u001b[49m\u001b[43m)\u001b[49m\u001b[43m,\u001b[49m\u001b[43m \u001b[49m\u001b[43mz_data\u001b[49m\u001b[43m,\u001b[49m\u001b[43m \u001b[49m\u001b[43mbounds\u001b[49m\u001b[38;5;241;43m=\u001b[39;49m\u001b[43m(\u001b[49m\u001b[43m[\u001b[49m\u001b[38;5;241;43m0\u001b[39;49m\u001b[43m,\u001b[49m\u001b[38;5;241;43m0\u001b[39;49m\u001b[43m,\u001b[49m\u001b[38;5;241;43m0\u001b[39;49m\u001b[43m,\u001b[49m\u001b[38;5;241;43m-\u001b[39;49m\u001b[38;5;241;43m1\u001b[39;49m\u001b[43m,\u001b[49m\u001b[38;5;241;43m-\u001b[39;49m\u001b[38;5;241;43m1\u001b[39;49m\u001b[43m]\u001b[49m\u001b[43m,\u001b[49m\u001b[43m[\u001b[49m\u001b[38;5;28;43mfloat\u001b[39;49m\u001b[43m(\u001b[49m\u001b[38;5;124;43m'\u001b[39;49m\u001b[38;5;124;43minf\u001b[39;49m\u001b[38;5;124;43m'\u001b[39;49m\u001b[43m)\u001b[49m\u001b[43m,\u001b[49m\u001b[38;5;28;43mfloat\u001b[39;49m\u001b[43m(\u001b[49m\u001b[38;5;124;43m'\u001b[39;49m\u001b[38;5;124;43minf\u001b[39;49m\u001b[38;5;124;43m'\u001b[39;49m\u001b[43m)\u001b[49m\u001b[43m,\u001b[49m\u001b[38;5;241;43m2\u001b[39;49m\u001b[38;5;241;43m*\u001b[39;49m\u001b[43mnp\u001b[49m\u001b[38;5;241;43m.\u001b[39;49m\u001b[43mpi\u001b[49m\u001b[43m,\u001b[49m\u001b[38;5;241;43m1\u001b[39;49m\u001b[43m,\u001b[49m\u001b[38;5;241;43m1\u001b[39;49m\u001b[43m]\u001b[49m\u001b[43m)\u001b[49m\u001b[43m)\u001b[49m\n\u001b[1;32m    234\u001b[0m     amp, sigma, theta, mu_x, mu_y \u001b[38;5;241m=\u001b[39m popt\n\u001b[1;32m    235\u001b[0m     peak \u001b[38;5;241m=\u001b[39m \u001b[38;5;28mfloat\u001b[39m(amp)\n",
      "File \u001b[0;32m~/conda/anaconda3/envs/casaenv/lib/python3.10/site-packages/scipy/optimize/_minpack_py.py:1018\u001b[0m, in \u001b[0;36mcurve_fit\u001b[0;34m(f, xdata, ydata, p0, sigma, absolute_sigma, check_finite, bounds, method, jac, full_output, nan_policy, **kwargs)\u001b[0m\n\u001b[1;32m   1015\u001b[0m \u001b[38;5;28;01mif\u001b[39;00m \u001b[38;5;124m'\u001b[39m\u001b[38;5;124mmax_nfev\u001b[39m\u001b[38;5;124m'\u001b[39m \u001b[38;5;129;01mnot\u001b[39;00m \u001b[38;5;129;01min\u001b[39;00m kwargs:\n\u001b[1;32m   1016\u001b[0m     kwargs[\u001b[38;5;124m'\u001b[39m\u001b[38;5;124mmax_nfev\u001b[39m\u001b[38;5;124m'\u001b[39m] \u001b[38;5;241m=\u001b[39m kwargs\u001b[38;5;241m.\u001b[39mpop(\u001b[38;5;124m'\u001b[39m\u001b[38;5;124mmaxfev\u001b[39m\u001b[38;5;124m'\u001b[39m, \u001b[38;5;28;01mNone\u001b[39;00m)\n\u001b[0;32m-> 1018\u001b[0m res \u001b[38;5;241m=\u001b[39m \u001b[43mleast_squares\u001b[49m\u001b[43m(\u001b[49m\u001b[43mfunc\u001b[49m\u001b[43m,\u001b[49m\u001b[43m \u001b[49m\u001b[43mp0\u001b[49m\u001b[43m,\u001b[49m\u001b[43m \u001b[49m\u001b[43mjac\u001b[49m\u001b[38;5;241;43m=\u001b[39;49m\u001b[43mjac\u001b[49m\u001b[43m,\u001b[49m\u001b[43m \u001b[49m\u001b[43mbounds\u001b[49m\u001b[38;5;241;43m=\u001b[39;49m\u001b[43mbounds\u001b[49m\u001b[43m,\u001b[49m\u001b[43m \u001b[49m\u001b[43mmethod\u001b[49m\u001b[38;5;241;43m=\u001b[39;49m\u001b[43mmethod\u001b[49m\u001b[43m,\u001b[49m\n\u001b[1;32m   1019\u001b[0m \u001b[43m                    \u001b[49m\u001b[38;5;241;43m*\u001b[39;49m\u001b[38;5;241;43m*\u001b[39;49m\u001b[43mkwargs\u001b[49m\u001b[43m)\u001b[49m\n\u001b[1;32m   1021\u001b[0m \u001b[38;5;28;01mif\u001b[39;00m \u001b[38;5;129;01mnot\u001b[39;00m res\u001b[38;5;241m.\u001b[39msuccess:\n\u001b[1;32m   1022\u001b[0m     \u001b[38;5;28;01mraise\u001b[39;00m \u001b[38;5;167;01mRuntimeError\u001b[39;00m(\u001b[38;5;124m\"\u001b[39m\u001b[38;5;124mOptimal parameters not found: \u001b[39m\u001b[38;5;124m\"\u001b[39m \u001b[38;5;241m+\u001b[39m res\u001b[38;5;241m.\u001b[39mmessage)\n",
      "File \u001b[0;32m~/conda/anaconda3/envs/casaenv/lib/python3.10/site-packages/scipy/optimize/_lsq/least_squares.py:941\u001b[0m, in \u001b[0;36mleast_squares\u001b[0;34m(fun, x0, jac, bounds, method, ftol, xtol, gtol, x_scale, loss, f_scale, diff_step, tr_solver, tr_options, jac_sparsity, max_nfev, verbose, args, kwargs)\u001b[0m\n\u001b[1;32m    937\u001b[0m     result \u001b[38;5;241m=\u001b[39m call_minpack(fun_wrapped, x0, jac_wrapped, ftol, xtol, gtol,\n\u001b[1;32m    938\u001b[0m                           max_nfev, x_scale, diff_step)\n\u001b[1;32m    940\u001b[0m \u001b[38;5;28;01melif\u001b[39;00m method \u001b[38;5;241m==\u001b[39m \u001b[38;5;124m'\u001b[39m\u001b[38;5;124mtrf\u001b[39m\u001b[38;5;124m'\u001b[39m:\n\u001b[0;32m--> 941\u001b[0m     result \u001b[38;5;241m=\u001b[39m \u001b[43mtrf\u001b[49m\u001b[43m(\u001b[49m\u001b[43mfun_wrapped\u001b[49m\u001b[43m,\u001b[49m\u001b[43m \u001b[49m\u001b[43mjac_wrapped\u001b[49m\u001b[43m,\u001b[49m\u001b[43m \u001b[49m\u001b[43mx0\u001b[49m\u001b[43m,\u001b[49m\u001b[43m \u001b[49m\u001b[43mf0\u001b[49m\u001b[43m,\u001b[49m\u001b[43m \u001b[49m\u001b[43mJ0\u001b[49m\u001b[43m,\u001b[49m\u001b[43m \u001b[49m\u001b[43mlb\u001b[49m\u001b[43m,\u001b[49m\u001b[43m \u001b[49m\u001b[43mub\u001b[49m\u001b[43m,\u001b[49m\u001b[43m \u001b[49m\u001b[43mftol\u001b[49m\u001b[43m,\u001b[49m\u001b[43m \u001b[49m\u001b[43mxtol\u001b[49m\u001b[43m,\u001b[49m\n\u001b[1;32m    942\u001b[0m \u001b[43m                 \u001b[49m\u001b[43mgtol\u001b[49m\u001b[43m,\u001b[49m\u001b[43m \u001b[49m\u001b[43mmax_nfev\u001b[49m\u001b[43m,\u001b[49m\u001b[43m \u001b[49m\u001b[43mx_scale\u001b[49m\u001b[43m,\u001b[49m\u001b[43m \u001b[49m\u001b[43mloss_function\u001b[49m\u001b[43m,\u001b[49m\u001b[43m \u001b[49m\u001b[43mtr_solver\u001b[49m\u001b[43m,\u001b[49m\n\u001b[1;32m    943\u001b[0m \u001b[43m                 \u001b[49m\u001b[43mtr_options\u001b[49m\u001b[38;5;241;43m.\u001b[39;49m\u001b[43mcopy\u001b[49m\u001b[43m(\u001b[49m\u001b[43m)\u001b[49m\u001b[43m,\u001b[49m\u001b[43m \u001b[49m\u001b[43mverbose\u001b[49m\u001b[43m)\u001b[49m\n\u001b[1;32m    945\u001b[0m \u001b[38;5;28;01melif\u001b[39;00m method \u001b[38;5;241m==\u001b[39m \u001b[38;5;124m'\u001b[39m\u001b[38;5;124mdogbox\u001b[39m\u001b[38;5;124m'\u001b[39m:\n\u001b[1;32m    946\u001b[0m     \u001b[38;5;28;01mif\u001b[39;00m tr_solver \u001b[38;5;241m==\u001b[39m \u001b[38;5;124m'\u001b[39m\u001b[38;5;124mlsmr\u001b[39m\u001b[38;5;124m'\u001b[39m \u001b[38;5;129;01mand\u001b[39;00m \u001b[38;5;124m'\u001b[39m\u001b[38;5;124mregularize\u001b[39m\u001b[38;5;124m'\u001b[39m \u001b[38;5;129;01min\u001b[39;00m tr_options:\n",
      "File \u001b[0;32m~/conda/anaconda3/envs/casaenv/lib/python3.10/site-packages/scipy/optimize/_lsq/trf.py:123\u001b[0m, in \u001b[0;36mtrf\u001b[0;34m(fun, jac, x0, f0, J0, lb, ub, ftol, xtol, gtol, max_nfev, x_scale, loss_function, tr_solver, tr_options, verbose)\u001b[0m\n\u001b[1;32m    119\u001b[0m     \u001b[38;5;28;01mreturn\u001b[39;00m trf_no_bounds(\n\u001b[1;32m    120\u001b[0m         fun, jac, x0, f0, J0, ftol, xtol, gtol, max_nfev, x_scale,\n\u001b[1;32m    121\u001b[0m         loss_function, tr_solver, tr_options, verbose)\n\u001b[1;32m    122\u001b[0m \u001b[38;5;28;01melse\u001b[39;00m:\n\u001b[0;32m--> 123\u001b[0m     \u001b[38;5;28;01mreturn\u001b[39;00m \u001b[43mtrf_bounds\u001b[49m\u001b[43m(\u001b[49m\n\u001b[1;32m    124\u001b[0m \u001b[43m        \u001b[49m\u001b[43mfun\u001b[49m\u001b[43m,\u001b[49m\u001b[43m \u001b[49m\u001b[43mjac\u001b[49m\u001b[43m,\u001b[49m\u001b[43m \u001b[49m\u001b[43mx0\u001b[49m\u001b[43m,\u001b[49m\u001b[43m \u001b[49m\u001b[43mf0\u001b[49m\u001b[43m,\u001b[49m\u001b[43m \u001b[49m\u001b[43mJ0\u001b[49m\u001b[43m,\u001b[49m\u001b[43m \u001b[49m\u001b[43mlb\u001b[49m\u001b[43m,\u001b[49m\u001b[43m \u001b[49m\u001b[43mub\u001b[49m\u001b[43m,\u001b[49m\u001b[43m \u001b[49m\u001b[43mftol\u001b[49m\u001b[43m,\u001b[49m\u001b[43m \u001b[49m\u001b[43mxtol\u001b[49m\u001b[43m,\u001b[49m\u001b[43m \u001b[49m\u001b[43mgtol\u001b[49m\u001b[43m,\u001b[49m\u001b[43m \u001b[49m\u001b[43mmax_nfev\u001b[49m\u001b[43m,\u001b[49m\u001b[43m \u001b[49m\u001b[43mx_scale\u001b[49m\u001b[43m,\u001b[49m\n\u001b[1;32m    125\u001b[0m \u001b[43m        \u001b[49m\u001b[43mloss_function\u001b[49m\u001b[43m,\u001b[49m\u001b[43m \u001b[49m\u001b[43mtr_solver\u001b[49m\u001b[43m,\u001b[49m\u001b[43m \u001b[49m\u001b[43mtr_options\u001b[49m\u001b[43m,\u001b[49m\u001b[43m \u001b[49m\u001b[43mverbose\u001b[49m\u001b[43m)\u001b[49m\n",
      "File \u001b[0;32m~/conda/anaconda3/envs/casaenv/lib/python3.10/site-packages/scipy/optimize/_lsq/trf.py:341\u001b[0m, in \u001b[0;36mtrf_bounds\u001b[0;34m(fun, jac, x0, f0, J0, lb, ub, ftol, xtol, gtol, max_nfev, x_scale, loss_function, tr_solver, tr_options, verbose)\u001b[0m\n\u001b[1;32m    338\u001b[0m f_new \u001b[38;5;241m=\u001b[39m fun(x_new)\n\u001b[1;32m    339\u001b[0m nfev \u001b[38;5;241m+\u001b[39m\u001b[38;5;241m=\u001b[39m \u001b[38;5;241m1\u001b[39m\n\u001b[0;32m--> 341\u001b[0m step_h_norm \u001b[38;5;241m=\u001b[39m \u001b[43mnorm\u001b[49m\u001b[43m(\u001b[49m\u001b[43mstep_h\u001b[49m\u001b[43m)\u001b[49m\n\u001b[1;32m    343\u001b[0m \u001b[38;5;28;01mif\u001b[39;00m \u001b[38;5;129;01mnot\u001b[39;00m np\u001b[38;5;241m.\u001b[39mall(np\u001b[38;5;241m.\u001b[39misfinite(f_new)):\n\u001b[1;32m    344\u001b[0m     Delta \u001b[38;5;241m=\u001b[39m \u001b[38;5;241m0.25\u001b[39m \u001b[38;5;241m*\u001b[39m step_h_norm\n",
      "File \u001b[0;32m~/conda/anaconda3/envs/casaenv/lib/python3.10/site-packages/numpy/linalg/_linalg.py:2796\u001b[0m, in \u001b[0;36mnorm\u001b[0;34m(x, ord, axis, keepdims)\u001b[0m\n\u001b[1;32m   2794\u001b[0m     sqnorm \u001b[38;5;241m=\u001b[39m x_real\u001b[38;5;241m.\u001b[39mdot(x_real) \u001b[38;5;241m+\u001b[39m x_imag\u001b[38;5;241m.\u001b[39mdot(x_imag)\n\u001b[1;32m   2795\u001b[0m \u001b[38;5;28;01melse\u001b[39;00m:\n\u001b[0;32m-> 2796\u001b[0m     sqnorm \u001b[38;5;241m=\u001b[39m \u001b[43mx\u001b[49m\u001b[38;5;241;43m.\u001b[39;49m\u001b[43mdot\u001b[49m\u001b[43m(\u001b[49m\u001b[43mx\u001b[49m\u001b[43m)\u001b[49m\n\u001b[1;32m   2797\u001b[0m ret \u001b[38;5;241m=\u001b[39m sqrt(sqnorm)\n\u001b[1;32m   2798\u001b[0m \u001b[38;5;28;01mif\u001b[39;00m keepdims:\n",
      "\u001b[0;31mKeyboardInterrupt\u001b[0m: "
     ]
    }
   ],
   "source": [
    "for file in glob.glob('../data/250611_03:56:34/*.fits'): #('../data/multi_track/*.fits'):\n",
    "    try:\n",
    "        s = summary(file, plot=False)\n",
    "        rms = s['rms_val']\n",
    "        rms_from_peak = s['calc_rms_val']\n",
    "        sd_mad = s['sd_mad']\n",
    "        i = file.rindex('/')\n",
    "        print(f'file: {file[i+1:]}, rms: {round(rms, 5)}, sd_mad: {round(sd_mad, 5)}, rms_from_peak: {round(rms_from_peak, 5)}')\n",
    "    except Exception as e:\n",
    "        print(f'Error for {file}: {e}')"
   ]
  },
  {
   "cell_type": "code",
   "execution_count": 7,
   "id": "abafdb3c",
   "metadata": {},
   "outputs": [
    {
     "name": "stdout",
     "output_type": "stream",
     "text": [
      "18 s ± 428 ms per loop (mean ± std. dev. of 7 runs, 1 loop each)\n"
     ]
    }
   ],
   "source": [
    "%%timeit\n",
    "full_html_and_txt('../data/250611_03:56:34')"
   ]
  },
  {
   "cell_type": "code",
   "execution_count": null,
   "id": "e3f81a6d-cb00-4215-9666-b46ed0e47832",
   "metadata": {},
   "outputs": [],
   "source": [
    "folders = []\n",
    "for folder in glob.glob('/reduction/karto/SMA/polaris_test/*'):\n",
    "    print(folder)\n",
    "    folders.append(folder)"
   ]
  },
  {
   "cell_type": "code",
   "execution_count": null,
   "id": "c91d8897-9f70-47a9-8841-0815d30ea8a0",
   "metadata": {},
   "outputs": [],
   "source": [
    "full_html_and_txt(folders[0])\n",
    "print(folders[0])\n",
    "folders = folders[1:]"
   ]
  },
  {
   "cell_type": "code",
   "execution_count": null,
   "id": "cbc6d30d-256b-453e-adde-b8db14eb7dd7",
   "metadata": {},
   "outputs": [],
   "source": []
  },
  {
   "cell_type": "code",
   "execution_count": null,
   "id": "65c2b5d1",
   "metadata": {},
   "outputs": [],
   "source": [
    "'''\n",
    "Using the exclusion region's rms taken directly from the image,\n",
    "finds the probability of detecting the inclusion region's maximum flux if there were no source in the inclusion region,\n",
    "the probability of detecting the exclusion region's maximum flux if there were no source in the exclusion region, and other statistics.\n",
    "\n",
    "If the external probability is less than 0.001, updates the inclusion region to include a circle around the external peak.\n",
    "\n",
    "The other statisitcs are the inclusion region's maximum flux in Jy and its coordinates in pixels,\n",
    "the exclusion region's maximum flux in Jy and its coordinates in pixels, the exclusion region's rms in Jy,\n",
    "the number of measurements in the inclusion region, the number of measurements in the exclusion region,\n",
    "the coordinates in pixels of the image's center, and the radii in pixels of the inclusion zones,\n",
    "the inclusion region's signal to noise ratio, and the external region's signal to noise ratio.\n",
    "\n",
    "Parameters\n",
    "----------\n",
    "fits_file : str\n",
    "    The path of the FITS file that contains the image.\n",
    "center : list (optional)\n",
    "    A list of center coordinates in units of pixels.\n",
    "    If no center coordinates are given, eventually defaults to ((length of x-axis)/2, (length of y-axis)/2), rounded up.\n",
    "radius_buffer : float (optional)\n",
    "    The amount of buffer, in arcsec, to add to the beam FWHM to get the initial search radius.\n",
    "    If no value is given, defaults to 5 arcsec.\n",
    "ext_threshold : float (optional)\n",
    "    The probability that an external peak must be below for it to be considered an external source.\n",
    "    If no value is given, defaults to 0.001.\n",
    "rms : float (optional)\n",
    "    An rms value in Jy.\n",
    "    If no value is given, eventually defaults to the rms calculated by incl_excl_data.\n",
    "recursion : bool (optional)\n",
    "    Whether to use recursion to find significant external peaks, if any.\n",
    "    If no value is given, defaults to True.\n",
    "\n",
    "Returns\n",
    "-------\n",
    "list\n",
    "    A list with:\n",
    "        dict (possibly multiple)\n",
    "            A dictionary with:\n",
    "                float\n",
    "                    The probability of detecting the inclusion region's maximum flux if there were no source in the inclusion region.\n",
    "                float\n",
    "                    The probability of detecting the exclusion region's maximum flux if there were no source in the exclusion region.\n",
    "                float\n",
    "                    The inclusion region's maximum flux in Jy.\n",
    "                tuple (int, int)\n",
    "                    The coordinates in pixels of the inclusion region's maximum flux.\n",
    "                float\n",
    "                    The exclusion region's maximum flux in Jy.\n",
    "                tuple (int, int)\n",
    "                    The coordinates in pixels of the exclusion region's maximum flux.\n",
    "                float\n",
    "                    The exclusion region's rms in Jy.\n",
    "                float\n",
    "                    The number of measurements in the inclusion region.\n",
    "                float\n",
    "                    The number of measurements in the exclusion region.\n",
    "                tuple (int, int)\n",
    "                    The coordinates in pixels of the image's center.\n",
    "                list\n",
    "                    A list with:\n",
    "                        float(s)\n",
    "                            The radii in pixels of inclusion zones.\n",
    "                float\n",
    "                    The inclusion region's signal to noise ratio.\n",
    "                float\n",
    "                    The exclusion region's signal to noise ratio.\n",
    "'''"
   ]
  },
  {
   "cell_type": "code",
   "execution_count": null,
   "id": "0feed97a",
   "metadata": {},
   "outputs": [],
   "source": [
    "'''\n",
    "Finds statistics of an inclusion region and its complement, the exclusion region.\n",
    "\n",
    "The inclusion region can be the union of circles or the complement of such a region.\n",
    "\n",
    "The statistics are the inclusion region's maximum flux in Jy and its coordinates in pixels,\n",
    "the exclusion region's maximum flux in Jy and its coordinates in pixels, the exclusion region's rms in Jy,\n",
    "the number of measurements in the inclusion region, the number of measurements in the exclusion region,\n",
    "the coordinates in pixels of the image's center, and the radii in pixels of the inclusion zones.\n",
    "\n",
    "Parameters\n",
    "----------\n",
    "fits_file : str\n",
    "    The path of the FITS file that contains the image.\n",
    "center : list (optional)\n",
    "    A list of center coordinates in units of pixels.\n",
    "    If no center coordinates are given, eventually defaults to ((length of x-axis)/2, (length of y-axis)/2), rounded up.\n",
    "radius_buffer : float (optional)\n",
    "    The amount of buffer, in arcsec, to add to the beam FWHM to get the initial search radius.\n",
    "    If no value is given, defaults to 5 arcsec.\n",
    "\n",
    "Returns\n",
    "-------\n",
    "dict\n",
    "    A dictionary with:\n",
    "        float\n",
    "            The inclusion region's maximum flux in Jy.\n",
    "        tuple (int, int)\n",
    "            The coordinates in pixels of the inclusion region's maximum flux.\n",
    "        float\n",
    "            The exclusion region's maximum flux in Jy.\n",
    "        tuple (int, int)\n",
    "            The coordinates in pixels of the exclusion region's maximum flux.\n",
    "        float\n",
    "            The exclusion region's rms in Jy.\n",
    "        float\n",
    "            The number of measurements in the inclusion region.\n",
    "        float\n",
    "            The number of measurements in the exclusion region.\n",
    "        tuple (int, int)\n",
    "            The coordinates in pixels of the image's center.\n",
    "        list\n",
    "            A list with:\n",
    "                float(s)\n",
    "                    The radii in pixels of inclusion zones.\n",
    "'''"
   ]
  }
 ],
 "metadata": {
  "kernelspec": {
   "display_name": "Python 3 (ipykernel)",
   "language": "python",
   "name": "python3"
  },
  "language_info": {
   "codemirror_mode": {
    "name": "ipython",
    "version": 3
   },
   "file_extension": ".py",
   "mimetype": "text/x-python",
   "name": "python",
   "nbconvert_exporter": "python",
   "pygments_lexer": "ipython3",
   "version": "3.11.5"
  }
 },
 "nbformat": 4,
 "nbformat_minor": 5
}
