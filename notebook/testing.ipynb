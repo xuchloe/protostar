{
 "cells": [
  {
   "cell_type": "code",
   "execution_count": 10,
   "id": "9cfd3b60",
   "metadata": {},
   "outputs": [],
   "source": [
    "from find_source import low_level_csv, high_level_csv"
   ]
  },
  {
   "cell_type": "code",
   "execution_count": 13,
   "id": "83b2ea06",
   "metadata": {},
   "outputs": [],
   "source": [
    "low_level_csv('/mnt/COMPASS9/sma/quality/11310')"
   ]
  },
  {
   "cell_type": "code",
   "execution_count": 14,
   "id": "dbdd4f0c-dbeb-4f75-89eb-903ef0d7bc1f",
   "metadata": {},
   "outputs": [],
   "source": [
    "high_level_csv()"
   ]
  }
 ],
 "metadata": {
  "kernelspec": {
   "display_name": "Python 3 (ipykernel)",
   "language": "python",
   "name": "python3"
  },
  "language_info": {
   "codemirror_mode": {
    "name": "ipython",
    "version": 3
   },
   "file_extension": ".py",
   "mimetype": "text/x-python",
   "name": "python",
   "nbconvert_exporter": "python",
   "pygments_lexer": "ipython3",
   "version": "3.11.5"
  }
 },
 "nbformat": 4,
 "nbformat_minor": 5
}
