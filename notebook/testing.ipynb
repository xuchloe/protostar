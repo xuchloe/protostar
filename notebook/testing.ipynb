{
 "cells": [
  {
   "cell_type": "code",
   "execution_count": 17,
   "id": "afa4cfdd-d12f-4b6a-a0ba-a63fe66c7146",
   "metadata": {},
   "outputs": [],
   "source": [
    "from find_source import summary, get_info_for_catalog\n",
    "import glob"
   ]
  },
  {
   "cell_type": "code",
   "execution_count": 18,
   "id": "27e8782e",
   "metadata": {},
   "outputs": [
    {
     "name": "stdout",
     "output_type": "stream",
     "text": [
      "Try again for ../data/250609_17:30:22/2232+117_full.fits\n",
      "Try again for ../data/250609_17:30:22/2158-150_full.fits\n",
      "{'name': '0423-013', 'obs_date_time': '6-10-25 9:38:57', 'file': '0423-013_full.fits', 'beam_maj_axis': <Angle 0.00062104 deg>, 'beam_min_axis': <Angle 0.00026885 deg>, 'beam_pos_angle': <Angle 71.03453 deg>, 'flux_uncertainty': 0.04948634281754494, 'source_1': {'flux_density': 0.8475363850593567, 'coord': <SkyCoord (ICRS): (ra, dec) in deg\n",
      "    (65.8158375, 65.8158375)>, 'internal': True}}\n",
      "{'name': '0136+478', 'obs_date_time': '6-10-25 9:38:49', 'file': '0136+478_full.fits', 'beam_maj_axis': <Angle 0.00039175 deg>, 'beam_min_axis': <Angle 0.00025615 deg>, 'beam_pos_angle': <Angle 84.62874 deg>, 'flux_uncertainty': 0.011283284053206444, 'source_1': {'flux_density': 1.849210262298584, 'coord': <SkyCoord (ICRS): (ra, dec) in deg\n",
      "    (24.24408059, 24.24408635)>, 'internal': True}}\n",
      "Try again for ../data/250609_17:30:22/1927+739_full.fits\n",
      "{'name': 'neptune', 'obs_date_time': '6-10-25 9:38:47', 'file': 'neptune_full.fits', 'beam_maj_axis': <Angle 0.00039573 deg>, 'beam_min_axis': <Angle 0.00023927 deg>, 'beam_pos_angle': <Angle 84.20457 deg>, 'flux_uncertainty': 0.2809271514415741, 'source_1': {'flux_density': 2.7665045261383057, 'coord': <SkyCoord (ICRS): (ra, dec) in deg\n",
      "    (2.35700052, 2.35700057)>, 'internal': True}}\n",
      "Try again for ../data/250609_17:30:22/2101+036_full.fits\n",
      "Try again for ../data/250609_17:30:22/2202+422_full.fits\n",
      "Try again for ../data/250609_17:30:22/2134-018_full.fits\n",
      "Try again for ../data/250609_17:30:22/0721+713_full.fits\n",
      "{'name': '0403-360', 'obs_date_time': '6-10-25 9:38:53', 'file': '0403-360_full.fits', 'beam_maj_axis': <Angle 0.00109595 deg>, 'beam_min_axis': <Angle 0.00059564 deg>, 'beam_pos_angle': <Angle 60.41554 deg>, 'flux_uncertainty': 0.01360237691551447, 'source_1': {'flux_density': 0.2934684157371521, 'coord': <SkyCoord (ICRS): (ra, dec) in deg\n",
      "    (60.97395795, 60.97395795)>, 'internal': True}, 'source_2': {'flux_density': 0.06778311729431152, 'coord': <SkyCoord (ICRS): (ra, dec) in deg\n",
      "    (60.95120902, 60.96893198)>, 'internal': False}}\n",
      "{'name': '0319+415', 'obs_date_time': '6-10-25 9:38:53', 'file': '0319+415_full.fits', 'beam_maj_axis': <Angle 0.00045383 deg>, 'beam_min_axis': <Angle 0.00024125 deg>, 'beam_pos_angle': <Angle 73.57603 deg>, 'flux_uncertainty': 0.22962337732315063, 'source_1': {'flux_density': 12.397285461425781, 'coord': <SkyCoord (ICRS): (ra, dec) in deg\n",
      "    (49.95057773, 49.95060944)>, 'internal': True}}\n",
      "Try again for ../data/250609_17:30:22/2015+371_full.fits\n",
      "Try again for ../data/250609_17:30:22/3c454.3_full.fits\n",
      "{'name': '0112+227', 'obs_date_time': '6-10-25 9:38:52', 'file': '0112+227_full.fits', 'beam_maj_axis': <Angle 0.00037939 deg>, 'beam_min_axis': <Angle 0.00022888 deg>, 'beam_pos_angle': <Angle 85.20082 deg>, 'flux_uncertainty': 0.019964488223195076, 'source_1': {'flux_density': 1.4828381538391113, 'coord': <SkyCoord (ICRS): (ra, dec) in deg\n",
      "    (18.02427083, 18.02427083)>, 'internal': True}}\n",
      "Try again for ../data/250609_17:30:22/2348-165_full.fits\n"
     ]
    }
   ],
   "source": [
    "for file in glob.glob('../data/250609_17:30:22/*.fits'):\n",
    "    try:\n",
    "        #summary(file, False, False, True, '../data/250609_17:30:22/figs_250609_17:30:22/')\n",
    "        print(get_info_for_catalog(file))\n",
    "    except:\n",
    "        print(f'Try again for {file}')"
   ]
  }
 ],
 "metadata": {
  "kernelspec": {
   "display_name": "casaenv",
   "language": "python",
   "name": "python3"
  },
  "language_info": {
   "codemirror_mode": {
    "name": "ipython",
    "version": 3
   },
   "file_extension": ".py",
   "mimetype": "text/x-python",
   "name": "python",
   "nbconvert_exporter": "python",
   "pygments_lexer": "ipython3",
   "version": "3.10.13"
  }
 },
 "nbformat": 4,
 "nbformat_minor": 5
}
