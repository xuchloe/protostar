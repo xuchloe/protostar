{
 "cells": [
  {
   "cell_type": "code",
   "execution_count": 1,
   "id": "afa4cfdd-d12f-4b6a-a0ba-a63fe66c7146",
   "metadata": {},
   "outputs": [],
   "source": [
    "from find_source import full_html_and_txt, make_catalog, summary\n",
    "import numpy as np\n",
    "import glob\n",
    "import json"
   ]
  },
  {
   "cell_type": "code",
   "execution_count": 2,
   "id": "1cb75bc5",
   "metadata": {},
   "outputs": [
    {
     "name": "stdout",
     "output_type": "stream",
     "text": [
      "file: 1310+323_lr_full.fits, rms: 0.01139, sd_mad: 0.0104, rms_from_peak: 0.02669\n",
      "file: 1635+381_full.fits, rms: 0.00354, sd_mad: 0.00353, rms_from_peak: 0.00749\n",
      "file: 1642+398_full.fits, rms: 0.00699, sd_mad: 0.00597, rms_from_peak: 0.01675\n",
      "file: 3c286_full.fits, rms: 0.00115, sd_mad: 0.00108, rms_from_peak: 0.00295\n",
      "file: 1512-090_full.fits, rms: 0.00274, sd_mad: 0.00266, rms_from_peak: 0.00719\n",
      "file: 3c279_lr_full.fits, rms: 0.07091, sd_mad: 0.06342, rms_from_peak: 0.13096\n",
      "file: 1159+292_full.fits, rms: 0.00524, sd_mad: 0.00445, rms_from_peak: 0.01379\n",
      "file: mwc349a_full.fits, rms: 0.00776, sd_mad: 0.00762, rms_from_peak: 0.02124\n",
      "Error for ../data/250611_03:56:34/1743-038_full.fits: \"Keyword 'BMAJ' not found.\"\n",
      "file: 1310+323_full.fits, rms: 0.00495, sd_mad: 0.00462, rms_from_peak: 0.01331\n",
      "file: 1555+111_full.fits, rms: 0.00364, sd_mad: 0.00373, rms_from_peak: 0.00733\n",
      "file: 1751+096_full.fits, rms: 0.00404, sd_mad: 0.00366, rms_from_peak: 0.00988\n",
      "file: 3c279_full.fits, rms: 0.01686, sd_mad: 0.0165, rms_from_peak: 0.04203\n",
      "file: 1159+292_lr_full.fits, rms: 0.02446, sd_mad: 0.02307, rms_from_peak: 0.06672\n",
      "file: 1751+096_lr_full.fits, rms: 0.00954, sd_mad: 0.00833, rms_from_peak: 0.02373\n"
     ]
    }
   ],
   "source": [
    "for file in glob.glob('../data/250611_03:56:34/*.fits'): #('../data/multi_track/*.fits'):\n",
    "    try:\n",
    "        s = summary(file, plot=False)\n",
    "        rms = s['rms_val']\n",
    "        rms_from_peak = s['calc_rms_val']\n",
    "        sd_mad = s['sd_mad']\n",
    "        i = file.rindex('/')\n",
    "        print(f'file: {file[i+1:]}, rms: {round(rms, 5)}, sd_mad: {round(sd_mad, 5)}, rms_from_peak: {round(rms_from_peak, 5)}')\n",
    "    except Exception as e:\n",
    "        print(f'Error for {file}: {e}')"
   ]
  },
  {
   "cell_type": "code",
   "execution_count": 3,
   "id": "abafdb3c",
   "metadata": {},
   "outputs": [
    {
     "name": "stdout",
     "output_type": "stream",
     "text": [
      "7.64 s ± 952 ms per loop (mean ± std. dev. of 7 runs, 1 loop each)\n"
     ]
    }
   ],
   "source": [
    "%%timeit\n",
    "full_html_and_txt('../data/250611_03:56:34')"
   ]
  },
  {
   "cell_type": "code",
   "execution_count": null,
   "id": "e3f81a6d-cb00-4215-9666-b46ed0e47832",
   "metadata": {},
   "outputs": [],
   "source": [
    "folders = []\n",
    "for folder in glob.glob('/reduction/karto/SMA/polaris_test/*'):\n",
    "    print(folder)\n",
    "    folders.append(folder)"
   ]
  },
  {
   "cell_type": "code",
   "execution_count": null,
   "id": "c91d8897-9f70-47a9-8841-0815d30ea8a0",
   "metadata": {},
   "outputs": [],
   "source": [
    "full_html_and_txt(folders[0])\n",
    "print(folders[0])\n",
    "folders = folders[1:]"
   ]
  },
  {
   "cell_type": "code",
   "execution_count": null,
   "id": "cbc6d30d-256b-453e-adde-b8db14eb7dd7",
   "metadata": {},
   "outputs": [],
   "source": []
  },
  {
   "cell_type": "code",
   "execution_count": null,
   "id": "65c2b5d1",
   "metadata": {},
   "outputs": [],
   "source": [
    "'''\n",
    "Using the exclusion region's rms taken directly from the image,\n",
    "finds the probability of detecting the inclusion region's maximum flux if there were no source in the inclusion region,\n",
    "the probability of detecting the exclusion region's maximum flux if there were no source in the exclusion region, and other statistics.\n",
    "\n",
    "If the external probability is less than 0.001, updates the inclusion region to include a circle around the external peak.\n",
    "\n",
    "The other statisitcs are the inclusion region's maximum flux in Jy and its coordinates in pixels,\n",
    "the exclusion region's maximum flux in Jy and its coordinates in pixels, the exclusion region's rms in Jy,\n",
    "the number of measurements in the inclusion region, the number of measurements in the exclusion region,\n",
    "the coordinates in pixels of the image's center, and the radii in pixels of the inclusion zones,\n",
    "the inclusion region's signal to noise ratio, and the external region's signal to noise ratio.\n",
    "\n",
    "Parameters\n",
    "----------\n",
    "fits_file : str\n",
    "    The path of the FITS file that contains the image.\n",
    "center : list (optional)\n",
    "    A list of center coordinates in units of pixels.\n",
    "    If no center coordinates are given, eventually defaults to ((length of x-axis)/2, (length of y-axis)/2), rounded up.\n",
    "radius_buffer : float (optional)\n",
    "    The amount of buffer, in arcsec, to add to the beam FWHM to get the initial search radius.\n",
    "    If no value is given, defaults to 5 arcsec.\n",
    "ext_threshold : float (optional)\n",
    "    The probability that an external peak must be below for it to be considered an external source.\n",
    "    If no value is given, defaults to 0.001.\n",
    "rms : float (optional)\n",
    "    An rms value in Jy.\n",
    "    If no value is given, eventually defaults to the rms calculated by incl_excl_data.\n",
    "recursion : bool (optional)\n",
    "    Whether to use recursion to find significant external peaks, if any.\n",
    "    If no value is given, defaults to True.\n",
    "\n",
    "Returns\n",
    "-------\n",
    "list\n",
    "    A list with:\n",
    "        dict (possibly multiple)\n",
    "            A dictionary with:\n",
    "                float\n",
    "                    The probability of detecting the inclusion region's maximum flux if there were no source in the inclusion region.\n",
    "                float\n",
    "                    The probability of detecting the exclusion region's maximum flux if there were no source in the exclusion region.\n",
    "                float\n",
    "                    The inclusion region's maximum flux in Jy.\n",
    "                tuple (int, int)\n",
    "                    The coordinates in pixels of the inclusion region's maximum flux.\n",
    "                float\n",
    "                    The exclusion region's maximum flux in Jy.\n",
    "                tuple (int, int)\n",
    "                    The coordinates in pixels of the exclusion region's maximum flux.\n",
    "                float\n",
    "                    The exclusion region's rms in Jy.\n",
    "                float\n",
    "                    The number of measurements in the inclusion region.\n",
    "                float\n",
    "                    The number of measurements in the exclusion region.\n",
    "                tuple (int, int)\n",
    "                    The coordinates in pixels of the image's center.\n",
    "                list\n",
    "                    A list with:\n",
    "                        float(s)\n",
    "                            The radii in pixels of inclusion zones.\n",
    "                float\n",
    "                    The inclusion region's signal to noise ratio.\n",
    "                float\n",
    "                    The exclusion region's signal to noise ratio.\n",
    "'''"
   ]
  },
  {
   "cell_type": "code",
   "execution_count": null,
   "id": "0feed97a",
   "metadata": {},
   "outputs": [],
   "source": [
    "'''\n",
    "Finds statistics of an inclusion region and its complement, the exclusion region.\n",
    "\n",
    "The inclusion region can be the union of circles or the complement of such a region.\n",
    "\n",
    "The statistics are the inclusion region's maximum flux in Jy and its coordinates in pixels,\n",
    "the exclusion region's maximum flux in Jy and its coordinates in pixels, the exclusion region's rms in Jy,\n",
    "the number of measurements in the inclusion region, the number of measurements in the exclusion region,\n",
    "the coordinates in pixels of the image's center, and the radii in pixels of the inclusion zones.\n",
    "\n",
    "Parameters\n",
    "----------\n",
    "fits_file : str\n",
    "    The path of the FITS file that contains the image.\n",
    "center : list (optional)\n",
    "    A list of center coordinates in units of pixels.\n",
    "    If no center coordinates are given, eventually defaults to ((length of x-axis)/2, (length of y-axis)/2), rounded up.\n",
    "radius_buffer : float (optional)\n",
    "    The amount of buffer, in arcsec, to add to the beam FWHM to get the initial search radius.\n",
    "    If no value is given, defaults to 5 arcsec.\n",
    "\n",
    "Returns\n",
    "-------\n",
    "dict\n",
    "    A dictionary with:\n",
    "        float\n",
    "            The inclusion region's maximum flux in Jy.\n",
    "        tuple (int, int)\n",
    "            The coordinates in pixels of the inclusion region's maximum flux.\n",
    "        float\n",
    "            The exclusion region's maximum flux in Jy.\n",
    "        tuple (int, int)\n",
    "            The coordinates in pixels of the exclusion region's maximum flux.\n",
    "        float\n",
    "            The exclusion region's rms in Jy.\n",
    "        float\n",
    "            The number of measurements in the inclusion region.\n",
    "        float\n",
    "            The number of measurements in the exclusion region.\n",
    "        tuple (int, int)\n",
    "            The coordinates in pixels of the image's center.\n",
    "        list\n",
    "            A list with:\n",
    "                float(s)\n",
    "                    The radii in pixels of inclusion zones.\n",
    "'''"
   ]
  }
 ],
 "metadata": {
  "kernelspec": {
   "display_name": "Python 3 (ipykernel)",
   "language": "python",
   "name": "python3"
  },
  "language_info": {
   "codemirror_mode": {
    "name": "ipython",
    "version": 3
   },
   "file_extension": ".py",
   "mimetype": "text/x-python",
   "name": "python",
   "nbconvert_exporter": "python",
   "pygments_lexer": "ipython3",
   "version": "3.11.5"
  }
 },
 "nbformat": 4,
 "nbformat_minor": 5
}
