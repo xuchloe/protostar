{
 "cells": [
  {
   "cell_type": "code",
   "execution_count": null,
   "id": "9cfd3b60",
   "metadata": {},
   "outputs": [],
   "source": [
    "from find_source import summary\n",
    "from catalogs import low_level_csv, high_level_csv, light_curve\n",
    "from obs_html import full_html_and_txt\n",
    "import glob\n",
    "from astropy.io import fits"
   ]
  },
  {
   "cell_type": "code",
   "execution_count": null,
   "id": "90896482",
   "metadata": {},
   "outputs": [],
   "source": [
    "full_html_and_txt('../data/250611_03:56:34')"
   ]
  },
  {
   "cell_type": "code",
   "execution_count": null,
   "id": "18aa000e",
   "metadata": {},
   "outputs": [],
   "source": [
    "#for file in glob.glob('../data/multi_track/*.fits'):\n",
    "#    try:\n",
    "#        summary(fits_file=file, short_dict=False, plot=True, save_path='../test')\n",
    "#    except Exception as e:\n",
    "#        print(f'Error for {file}: {e}')"
   ]
  },
  {
   "cell_type": "code",
   "execution_count": null,
   "id": "83b2ea06",
   "metadata": {},
   "outputs": [],
   "source": [
    "for file in glob.glob('/mnt/COMPASS9/sma/quality/*'):\n",
    "    try:\n",
    "        low_level_csv(file)\n",
    "    except Exception as e:\n",
    "        print(f'{e} for {file}')"
   ]
  },
  {
   "cell_type": "code",
   "execution_count": null,
   "id": "3e07f532-2839-4392-ade8-7c726aa0f649",
   "metadata": {},
   "outputs": [],
   "source": [
    "high_level_csv()"
   ]
  },
  {
   "cell_type": "code",
   "execution_count": null,
   "id": "5566a2aa-8684-48d2-aa99-6c747c156a67",
   "metadata": {},
   "outputs": [],
   "source": [
    "light_curve()"
   ]
  },
  {
   "cell_type": "code",
   "execution_count": null,
   "id": "6cd22030-4020-4c53-8dec-770c6c60e1b4",
   "metadata": {},
   "outputs": [],
   "source": [
    "#hdul = fits.open('../data/11306/3c273_img_RX3.fits')"
   ]
  },
  {
   "cell_type": "code",
   "execution_count": null,
   "id": "2ea2feee",
   "metadata": {},
   "outputs": [],
   "source": [
    "#hdul[1].columns[1].name\n",
    "#hdul[1].columns[1].unit\n",
    "#hdul[1].data[1][1]"
   ]
  },
  {
   "cell_type": "code",
   "execution_count": null,
   "id": "3ae773a3",
   "metadata": {},
   "outputs": [],
   "source": [
    "#hdul[1].columns"
   ]
  },
  {
   "cell_type": "code",
   "execution_count": null,
   "id": "8285bdb3",
   "metadata": {},
   "outputs": [],
   "source": [
    "#float(hdul[1].data[0][2])"
   ]
  },
  {
   "cell_type": "code",
   "execution_count": null,
   "id": "6be6d60a",
   "metadata": {},
   "outputs": [],
   "source": [
    "#summary('../data/11306/3c273_img_RX3.fits')"
   ]
  }
 ],
 "metadata": {
  "kernelspec": {
   "display_name": "Python 3 (ipykernel)",
   "language": "python",
   "name": "python3"
  },
  "language_info": {
   "codemirror_mode": {
    "name": "ipython",
    "version": 3
   },
   "file_extension": ".py",
   "mimetype": "text/x-python",
   "name": "python",
   "nbconvert_exporter": "python",
   "pygments_lexer": "ipython3",
   "version": "3.11.5"
  }
 },
 "nbformat": 4,
 "nbformat_minor": 5
}
