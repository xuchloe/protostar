{
 "cells": [
  {
   "cell_type": "code",
   "execution_count": null,
   "id": "9cfd3b60",
   "metadata": {},
   "outputs": [],
   "source": [
    "from find_source import summary\n",
    "import glob"
   ]
  },
  {
   "cell_type": "code",
   "execution_count": null,
   "id": "83b2ea06",
   "metadata": {},
   "outputs": [],
   "source": [
    "for file in glob.glob('../data/multi_track/*.fits'):\n",
    "    try:\n",
    "        summary(file, short_dict=False, plot=True, save_path='../data/test')\n",
    "    except Exception as e:\n",
    "        print(f'Error: {e}')"
   ]
  }
 ],
 "metadata": {
  "kernelspec": {
   "display_name": "casaenv",
   "language": "python",
   "name": "python3"
  },
  "language_info": {
   "codemirror_mode": {
    "name": "ipython",
    "version": 3
   },
   "file_extension": ".py",
   "mimetype": "text/x-python",
   "name": "python",
   "nbconvert_exporter": "python",
   "pygments_lexer": "ipython3",
   "version": "3.10.13"
  }
 },
 "nbformat": 4,
 "nbformat_minor": 5
}
