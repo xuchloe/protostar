{
 "cells": [
  {
   "cell_type": "code",
   "execution_count": null,
   "id": "afa4cfdd-d12f-4b6a-a0ba-a63fe66c7146",
   "metadata": {},
   "outputs": [],
   "source": [
    "from find_source import start_html, catalog_to_html, fig_to_html, end_html, make_catalog, combine_catalogs\n",
    "import glob\n",
    "import pandas as pd"
   ]
  },
  {
   "cell_type": "code",
   "execution_count": null,
   "id": "26703231",
   "metadata": {},
   "outputs": [],
   "source": [
    "start_html()\n",
    "final_catalog = {}\n",
    "for file in glob.glob('../data/new_250609_17:30:22/*.fits'):\n",
    "    try:\n",
    "        final_catalog = combine_catalogs(final_catalog, make_catalog(file))\n",
    "    except:\n",
    "        print(f'Try again for {file}')\n",
    "catalog_to_html(final_catalog)\n",
    "for file in glob.glob('../data/250611_03:56:34/*.fits'):\n",
    "    try:\n",
    "        fig_to_html(file)\n",
    "    except:\n",
    "        print(f'Try again for {file}')\n",
    "end_html()"
   ]
  }
 ],
 "metadata": {
  "kernelspec": {
   "display_name": "casaenv",
   "language": "python",
   "name": "python3"
  },
  "language_info": {
   "codemirror_mode": {
    "name": "ipython",
    "version": 3
   },
   "file_extension": ".py",
   "mimetype": "text/x-python",
   "name": "python",
   "nbconvert_exporter": "python",
   "pygments_lexer": "ipython3",
   "version": "3.10.13"
  }
 },
 "nbformat": 4,
 "nbformat_minor": 5
}
