{
 "cells": [
  {
   "cell_type": "code",
   "execution_count": 12,
   "id": "afa4cfdd-d12f-4b6a-a0ba-a63fe66c7146",
   "metadata": {},
   "outputs": [],
   "source": [
    "from find_source import summary, get_info_for_catalog\n",
    "import glob"
   ]
  },
  {
   "cell_type": "code",
   "execution_count": 13,
   "id": "27e8782e",
   "metadata": {},
   "outputs": [
    {
     "name": "stdout",
     "output_type": "stream",
     "text": [
      "{'name': '2232+117', 'obs_date_time': '6-10-25 11:16:38', 'file': '2232+117_full.fits', 'beam_maj_axis': <Angle 0.00047142 deg>, 'beam_min_axis': <Angle 0.00021899 deg>, 'beam_pos_angle': <Angle 99.00621 deg>, 'flux_uncertainty': 0.0251136664301157, 'source_1': {'flux_density': 3.2255163192749023, 'coord': <SkyCoord (ICRS): (ra, dec) in deg\n",
      "    (338.15170417, 11.73080667)>, 'internal': True}, 'source_2': {'flux_density': 0.17307700216770172, 'coord': <SkyCoord (ICRS): (ra, dec) in deg\n",
      "    (338.15579356, 11.72991101)>, 'internal': False}, 'source_3': {'flux_density': 0.16381698846817017, 'coord': <SkyCoord (ICRS): (ra, dec) in deg\n",
      "    (338.14395586, 11.72906798)>, 'internal': False}}\n",
      "{'name': '2158-150', 'obs_date_time': '6-10-25 11:16:41', 'file': '2158-150_full.fits', 'beam_maj_axis': <Angle 0.00064971 deg>, 'beam_min_axis': <Angle 0.00024884 deg>, 'beam_pos_angle': <Angle 113.8269 deg>, 'flux_uncertainty': 0.016614332795143127, 'source_1': {'flux_density': 0.9891719222068787, 'coord': <SkyCoord (ICRS): (ra, dec) in deg\n",
      "    (329.52611452, -15.01931591)>, 'internal': True}, 'source_2': {'flux_density': 0.08750568330287933, 'coord': <SkyCoord (ICRS): (ra, dec) in deg\n",
      "    (329.5301663, -15.01598655)>, 'internal': False}}\n",
      "{'name': '0423-013', 'obs_date_time': '6-10-25 11:16:40', 'file': '0423-013_full.fits', 'beam_maj_axis': <Angle 0.00062104 deg>, 'beam_min_axis': <Angle 0.00026885 deg>, 'beam_pos_angle': <Angle 71.03453 deg>, 'flux_uncertainty': 0.04948634281754494, 'source_1': {'flux_density': 0.8475363850593567, 'coord': <SkyCoord (ICRS): (ra, dec) in deg\n",
      "    (65.8158375, -1.34251806)>, 'internal': True}}\n",
      "{'name': '0136+478', 'obs_date_time': '6-10-25 11:16:34', 'file': '0136+478_full.fits', 'beam_maj_axis': <Angle 0.00039175 deg>, 'beam_min_axis': <Angle 0.00025615 deg>, 'beam_pos_angle': <Angle 84.62874 deg>, 'flux_uncertainty': 0.011283284053206444, 'source_1': {'flux_density': 1.849210262298584, 'coord': <SkyCoord (ICRS): (ra, dec) in deg\n",
      "    (24.24405718, 47.85802357)>, 'internal': True}}\n",
      "{'name': '1927+739', 'obs_date_time': '6-10-25 11:16:42', 'file': '1927+739_full.fits', 'beam_maj_axis': <Angle 0.00077781 deg>, 'beam_min_axis': <Angle 0.00040531 deg>, 'beam_pos_angle': <Angle 78.61381 deg>, 'flux_uncertainty': 0.029984012246131897, 'source_1': {'flux_density': 0.608651340007782, 'coord': <SkyCoord (ICRS): (ra, dec) in deg\n",
      "    (291.95179318, 73.96702812)>, 'internal': True}}\n",
      "{'name': 'neptune', 'obs_date_time': '6-10-25 11:16:32', 'file': 'neptune_full.fits', 'beam_maj_axis': <Angle 0.00039573 deg>, 'beam_min_axis': <Angle 0.00023927 deg>, 'beam_pos_angle': <Angle 84.20457 deg>, 'flux_uncertainty': 0.2809271514415741, 'source_1': {'flux_density': 2.7665045261383057, 'coord': <SkyCoord (ICRS): (ra, dec) in deg\n",
      "    (2.35700057, -0.40125891)>, 'internal': True}}\n",
      "{'name': '2101+036', 'obs_date_time': '6-10-25 11:16:30', 'file': '2101+036_full.fits', 'beam_maj_axis': <Angle 0.00063365 deg>, 'beam_min_axis': <Angle 0.00023246 deg>, 'beam_pos_angle': <Angle 107.2497 deg>, 'flux_uncertainty': 0.008105332031846046, 'source_1': {'flux_density': 1.0200246572494507, 'coord': <SkyCoord (ICRS): (ra, dec) in deg\n",
      "    (315.41180833, 3.69203333)>, 'internal': True}}\n",
      "{'name': '2202+422', 'obs_date_time': '6-10-25 11:16:35', 'file': '2202+422_full.fits', 'beam_maj_axis': <Angle 0.00048861 deg>, 'beam_min_axis': <Angle 0.00023663 deg>, 'beam_pos_angle': <Angle 94.42578 deg>, 'flux_uncertainty': 0.020364077761769295, 'source_1': {'flux_density': 2.5368711948394775, 'coord': <SkyCoord (ICRS): (ra, dec) in deg\n",
      "    (330.68030022, 42.27771354)>, 'internal': True}, 'source_2': {'flux_density': 0.10672049224376678, 'coord': <SkyCoord (ICRS): (ra, dec) in deg\n",
      "    (330.67651101, 42.27695415)>, 'internal': False}, 'source_3': {'flux_density': 0.10493436455726624, 'coord': <SkyCoord (ICRS): (ra, dec) in deg\n",
      "    (330.68393164, 42.27853121)>, 'internal': False}}\n",
      "{'name': '2134-018', 'obs_date_time': '6-10-25 11:16:40', 'file': '2134-018_full.fits', 'beam_maj_axis': <Angle 0.00064528 deg>, 'beam_min_axis': <Angle 0.00023175 deg>, 'beam_pos_angle': <Angle 108.6529 deg>, 'flux_uncertainty': 0.020746273919939995, 'source_1': {'flux_density': 1.815133810043335, 'coord': <SkyCoord (ICRS): (ra, dec) in deg\n",
      "    (323.54290449, -1.88817576)>, 'internal': True}, 'source_2': {'flux_density': 0.12080460786819458, 'coord': <SkyCoord (ICRS): (ra, dec) in deg\n",
      "    (323.54306602, -1.88435493)>, 'internal': False}}\n",
      "{'name': '0721+713', 'obs_date_time': '6-10-25 11:16:39', 'file': '0721+713_full.fits', 'beam_maj_axis': <Angle 0.00076393 deg>, 'beam_min_axis': <Angle 0.00039082 deg>, 'beam_pos_angle': <Angle 68.1278 deg>, 'flux_uncertainty': 0.013318455778062344, 'source_1': {'flux_density': 0.8661308288574219, 'coord': <SkyCoord (ICRS): (ra, dec) in deg\n",
      "    (110.47248452, 71.34336523)>, 'internal': True}}\n",
      "{'name': '0403-360', 'obs_date_time': '6-10-25 11:16:37', 'file': '0403-360_full.fits', 'beam_maj_axis': <Angle 0.00109595 deg>, 'beam_min_axis': <Angle 0.00059564 deg>, 'beam_pos_angle': <Angle 60.41554 deg>, 'flux_uncertainty': 0.01360237691551447, 'source_1': {'flux_density': 0.2934684157371521, 'coord': <SkyCoord (ICRS): (ra, dec) in deg\n",
      "    (60.97395795, -36.08386478)>, 'internal': True}, 'source_2': {'flux_density': 0.06778311729431152, 'coord': <SkyCoord (ICRS): (ra, dec) in deg\n",
      "    (60.96029673, -36.08888805)>, 'internal': False}}\n",
      "{'name': '0319+415', 'obs_date_time': '6-10-25 11:16:37', 'file': '0319+415_full.fits', 'beam_maj_axis': <Angle 0.00045383 deg>, 'beam_min_axis': <Angle 0.00024125 deg>, 'beam_pos_angle': <Angle 73.57603 deg>, 'flux_uncertainty': 0.22962337732315063, 'source_1': {'flux_density': 12.397285461425781, 'coord': <SkyCoord (ICRS): (ra, dec) in deg\n",
      "    (49.95059025, 41.51163889)>, 'internal': True}}\n",
      "{'name': '2015+371', 'obs_date_time': '6-10-25 11:16:42', 'file': '2015+371_full.fits', 'beam_maj_axis': <Angle 0.0009295 deg>, 'beam_min_axis': <Angle 0.000228 deg>, 'beam_pos_angle': <Angle 104.006 deg>, 'flux_uncertainty': 0.024028468877077103, 'source_1': {'flux_density': 1.5960466861724854, 'coord': <SkyCoord (ICRS): (ra, dec) in deg\n",
      "    (303.8697075, 37.18319853)>, 'internal': True}}\n",
      "{'name': '3c454.3', 'obs_date_time': '6-10-25 11:16:33', 'file': '3c454.3_full.fits', 'beam_maj_axis': <Angle 0.00043627 deg>, 'beam_min_axis': <Angle 0.00022309 deg>, 'beam_pos_angle': <Angle 97.55839 deg>, 'flux_uncertainty': 0.009923253208398819, 'source_1': {'flux_density': 5.532106876373291, 'coord': <SkyCoord (ICRS): (ra, dec) in deg\n",
      "    (343.49061667, 16.14821194)>, 'internal': True}, 'source_2': {'flux_density': 0.08894074708223343, 'coord': <SkyCoord (ICRS): (ra, dec) in deg\n",
      "    (343.49099971, 16.15047209)>, 'internal': False}, 'source_3': {'flux_density': 0.08509829640388489, 'coord': <SkyCoord (ICRS): (ra, dec) in deg\n",
      "    (343.49023363, 16.1459518)>, 'internal': False}, 'source_4': {'flux_density': 0.08327993005514145, 'coord': <SkyCoord (ICRS): (ra, dec) in deg\n",
      "    (343.49149221, 16.15204893)>, 'internal': False}, 'source_5': {'flux_density': 0.0792962983250618, 'coord': <SkyCoord (ICRS): (ra, dec) in deg\n",
      "    (343.48974116, 16.14442751)>, 'internal': False}}\n",
      "{'name': '0112+227', 'obs_date_time': '6-10-25 11:16:36', 'file': '0112+227_full.fits', 'beam_maj_axis': <Angle 0.00037939 deg>, 'beam_min_axis': <Angle 0.00022888 deg>, 'beam_pos_angle': <Angle 85.20082 deg>, 'flux_uncertainty': 0.019964488223195076, 'source_1': {'flux_density': 1.4828381538391113, 'coord': <SkyCoord (ICRS): (ra, dec) in deg\n",
      "    (18.02427083, 22.74410722)>, 'internal': True}}\n",
      "{'name': '2348-165', 'obs_date_time': '6-10-25 11:16:43', 'file': '2348-165_full.fits', 'beam_maj_axis': <Angle 0.00045842 deg>, 'beam_min_axis': <Angle 0.00027742 deg>, 'beam_pos_angle': <Angle 105.731 deg>, 'flux_uncertainty': 0.016792504116892815, 'source_1': {'flux_density': 1.3840596675872803, 'coord': <SkyCoord (ICRS): (ra, dec) in deg\n",
      "    (357.01080098, -16.52006908)>, 'internal': True}, 'source_2': {'flux_density': 0.09558268636465073, 'coord': <SkyCoord (ICRS): (ra, dec) in deg\n",
      "    (357.01139211, -16.51559813)>, 'internal': False}, 'source_3': {'flux_density': 0.08724033087491989, 'coord': <SkyCoord (ICRS): (ra, dec) in deg\n",
      "    (357.01020983, -16.52454004)>, 'internal': False}}\n",
      "16 13 29\n"
     ]
    }
   ],
   "source": [
    "internal = 0\n",
    "total = 0\n",
    "external = 0\n",
    "\n",
    "for file in glob.glob('../data/new_250609_17:30:22/*.fits'):\n",
    "    try:\n",
    "        #summary(file, False, False, True, '../data/new_250609_17:30:22/new_figs_250609_17:30:22/')\n",
    "        print(get_info_for_catalog(file))\n",
    "        a = get_info_for_catalog(file)\n",
    "        for key, value in a.items():\n",
    "            if type(value) == dict:\n",
    "                if value['internal'] == True:\n",
    "                    internal += 1\n",
    "                else:\n",
    "                    external +=1\n",
    "                total += 1\n",
    "    except:\n",
    "        print(f'Try again for {file}')\n",
    "\n",
    "print(internal, external, total)"
   ]
  }
 ],
 "metadata": {
  "kernelspec": {
   "display_name": "casaenv",
   "language": "python",
   "name": "python3"
  },
  "language_info": {
   "codemirror_mode": {
    "name": "ipython",
    "version": 3
   },
   "file_extension": ".py",
   "mimetype": "text/x-python",
   "name": "python",
   "nbconvert_exporter": "python",
   "pygments_lexer": "ipython3",
   "version": "3.10.13"
  }
 },
 "nbformat": 4,
 "nbformat_minor": 5
}
