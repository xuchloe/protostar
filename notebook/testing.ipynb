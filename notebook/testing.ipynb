{
 "cells": [
  {
   "cell_type": "code",
   "execution_count": 2,
   "id": "9cfd3b60",
   "metadata": {},
   "outputs": [],
   "source": [
    "from find_source import low_level_csv, high_level_csv"
   ]
  },
  {
   "cell_type": "code",
   "execution_count": 5,
   "id": "83b2ea06",
   "metadata": {},
   "outputs": [
    {
     "name": "stdout",
     "output_type": "stream",
     "text": [
      "Error with obsID: [Errno 2] No such file or directory: '/mnt/COMPASS9/sma/quality/13523/polaris.json'. WARNING: Old/outdated data may not be deleted.\n"
     ]
    }
   ],
   "source": [
    "low_level_csv('/mnt/COMPASS9/sma/quality/13523')"
   ]
  },
  {
   "cell_type": "code",
   "execution_count": 6,
   "id": "dbdd4f0c-dbeb-4f75-89eb-903ef0d7bc1f",
   "metadata": {},
   "outputs": [],
   "source": [
    "high_level_csv()"
   ]
  },
  {
   "cell_type": "code",
   "execution_count": null,
   "id": "77ebfde9-f84e-4bbb-8a4f-92db212ac925",
   "metadata": {},
   "outputs": [],
   "source": []
  }
 ],
 "metadata": {
  "kernelspec": {
   "display_name": "casaenv",
   "language": "python",
   "name": "python3"
  },
  "language_info": {
   "codemirror_mode": {
    "name": "ipython",
    "version": 3
   },
   "file_extension": ".py",
   "mimetype": "text/x-python",
   "name": "python",
   "nbconvert_exporter": "python",
   "pygments_lexer": "ipython3",
   "version": "3.10.13"
  }
 },
 "nbformat": 4,
 "nbformat_minor": 5
}
