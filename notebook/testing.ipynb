{
 "cells": [
  {
   "cell_type": "code",
   "execution_count": 17,
   "id": "9cfd3b60",
   "metadata": {},
   "outputs": [],
   "source": [
    "from catalogs import low_level_csv, high_level_csv, light_curve\n",
    "from find_source import summary\n",
    "from obs_html import full_html_and_txt"
   ]
  },
  {
   "cell_type": "code",
   "execution_count": null,
   "id": "dd56a1c2",
   "metadata": {},
   "outputs": [],
   "source": [
    "low_level_csv(folder='../data/250611_03:56:34', csv_path='test_low.csv')"
   ]
  },
  {
   "cell_type": "code",
   "execution_count": 19,
   "id": "6b6e7e50",
   "metadata": {},
   "outputs": [],
   "source": [
    "high_level_csv(low_level_path='test_low.csv', high_level_path='test_high.csv')"
   ]
  },
  {
   "cell_type": "code",
   "execution_count": null,
   "id": "4812f490",
   "metadata": {},
   "outputs": [],
   "source": [
    "light_curve(low_path='./test_low.csv', high_path='./test_high.csv')"
   ]
  },
  {
   "cell_type": "code",
   "execution_count": null,
   "id": "991582d9",
   "metadata": {},
   "outputs": [],
   "source": [
    "summary('../data/250611_03:56:34/1310+323_lr_full.fits')"
   ]
  },
  {
   "cell_type": "code",
   "execution_count": 18,
   "id": "9ba68e9c",
   "metadata": {},
   "outputs": [],
   "source": [
    "full_html_and_txt('../data/250611_03:56:34')"
   ]
  }
 ],
 "metadata": {
  "kernelspec": {
   "display_name": "casaenv",
   "language": "python",
   "name": "python3"
  },
  "language_info": {
   "codemirror_mode": {
    "name": "ipython",
    "version": 3
   },
   "file_extension": ".py",
   "mimetype": "text/x-python",
   "name": "python",
   "nbconvert_exporter": "python",
   "pygments_lexer": "ipython3",
   "version": "3.10.13"
  }
 },
 "nbformat": 4,
 "nbformat_minor": 5
}
