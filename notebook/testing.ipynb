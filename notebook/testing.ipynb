{
 "cells": [
  {
   "cell_type": "code",
   "execution_count": 40,
   "id": "afa4cfdd-d12f-4b6a-a0ba-a63fe66c7146",
   "metadata": {},
   "outputs": [],
   "source": [
    "from find_source import start_html, catalog_to_html, fig_to_html, end_html, make_catalog, combine_catalogs\n",
    "import glob\n",
    "import pandas as pd\n",
    "import json"
   ]
  },
  {
   "cell_type": "code",
   "execution_count": 41,
   "id": "b212fe0a",
   "metadata": {},
   "outputs": [],
   "source": [
    "file = open('../data/250611_03:56:34/polaris.json', 'r')\n",
    "obs_dict = json.load(file)"
   ]
  },
  {
   "cell_type": "code",
   "execution_count": 48,
   "id": "0d7f2b89",
   "metadata": {},
   "outputs": [
    {
     "data": {
      "text/plain": [
       "{'source_1': {'field_name': '3c279',\n",
       "  'obs_date_time': '3-13-25 8:44:2',\n",
       "  'file_name': '3c279.fits',\n",
       "  'beam_maj_axis': <Angle 0.00124912 deg>,\n",
       "  'beam_min_axis': <Angle 0.00086522 deg>,\n",
       "  'beam_pos_angle': <Angle 56.57824 deg>,\n",
       "  'flux_uncertainty': 0.012375887483358383,\n",
       "  'flux_density': 12.789649963378906,\n",
       "  'coord': <SkyCoord (ICRS): (ra, dec) in deg\n",
       "      (194.04635629, -5.78948007)>,\n",
       "  'internal': True},\n",
       " 'source_2': {'field_name': '3c279',\n",
       "  'obs_date_time': '3-13-25 8:44:2',\n",
       "  'file_name': '3c279.fits',\n",
       "  'beam_maj_axis': <Angle 0.00124912 deg>,\n",
       "  'beam_min_axis': <Angle 0.00086522 deg>,\n",
       "  'beam_pos_angle': <Angle 56.57824 deg>,\n",
       "  'flux_uncertainty': 0.012375887483358383,\n",
       "  'flux_density': 0.11062327027320862,\n",
       "  'coord': <SkyCoord (ICRS): (ra, dec) in deg\n",
       "      (194.04669371, -5.79552249)>,\n",
       "  'internal': False},\n",
       " 'source_3': {'field_name': '3c279',\n",
       "  'obs_date_time': '3-13-25 8:44:2',\n",
       "  'file_name': '3c279.fits',\n",
       "  'beam_maj_axis': <Angle 0.00124912 deg>,\n",
       "  'beam_min_axis': <Angle 0.00086522 deg>,\n",
       "  'beam_pos_angle': <Angle 56.57824 deg>,\n",
       "  'flux_uncertainty': 0.012375887483358383,\n",
       "  'flux_density': 0.10841279476881027,\n",
       "  'coord': <SkyCoord (ICRS): (ra, dec) in deg\n",
       "      (194.04601889, -5.78343764)>,\n",
       "  'internal': False}}"
      ]
     },
     "execution_count": 48,
     "metadata": {},
     "output_type": "execute_result"
    }
   ],
   "source": [
    "make_catalog('../data/11151/3c279.fits')"
   ]
  },
  {
   "cell_type": "code",
   "execution_count": 42,
   "id": "eff64374",
   "metadata": {},
   "outputs": [
    {
     "data": {
      "text/plain": [
       "{'obsID': '00000',\n",
       " 'polaris_folder': '/mnt/compass/polaris',\n",
       " 'basename': '250611_03:56:34',\n",
       " 'target_dir': '/data/science/mir_data/250611_03:56:34',\n",
       " 'sciTargs': ['1555+111'],\n",
       " 'gainCals': ['1159+292',\n",
       "  '1310+323',\n",
       "  '3c286',\n",
       "  '1751+096',\n",
       "  '1512-090',\n",
       "  '1642+398',\n",
       "  '1635+381'],\n",
       " 'fluxCals': ['mwc349a'],\n",
       " 'bpCals': ['3c279', '3C279'],\n",
       " 'polCals': ['3c279_LR',\n",
       "  '3C279_LR',\n",
       "  '1310+323_LR',\n",
       "  '1159+292_LR',\n",
       "  '1751+096_LR'],\n",
       " 'selfCals': [],\n",
       " 'otherCals': ['1743-038'],\n",
       " 'deadList': [],\n",
       " 'projectTitle': 'Unknown',\n",
       " 'projectID': 'UNK',\n",
       " 'piName': 'N/A',\n",
       " 'linkObsID': ''}"
      ]
     },
     "execution_count": 42,
     "metadata": {},
     "output_type": "execute_result"
    }
   ],
   "source": [
    "obs_dict"
   ]
  },
  {
   "cell_type": "code",
   "execution_count": 43,
   "id": "949801ae",
   "metadata": {},
   "outputs": [],
   "source": [
    "for key, value in obs_dict.items():\n",
    "    if type(value) == list:\n",
    "        string = ', '.join(value)\n",
    "        obs_dict[key] = [string]"
   ]
  },
  {
   "cell_type": "code",
   "execution_count": 44,
   "id": "154312d2",
   "metadata": {},
   "outputs": [
    {
     "data": {
      "text/plain": [
       "{'obsID': '00000',\n",
       " 'polaris_folder': '/mnt/compass/polaris',\n",
       " 'basename': '250611_03:56:34',\n",
       " 'target_dir': '/data/science/mir_data/250611_03:56:34',\n",
       " 'sciTargs': ['1555+111'],\n",
       " 'gainCals': ['1159+292, 1310+323, 3c286, 1751+096, 1512-090, 1642+398, 1635+381'],\n",
       " 'fluxCals': ['mwc349a'],\n",
       " 'bpCals': ['3c279, 3C279'],\n",
       " 'polCals': ['3c279_LR, 3C279_LR, 1310+323_LR, 1159+292_LR, 1751+096_LR'],\n",
       " 'selfCals': [''],\n",
       " 'otherCals': ['1743-038'],\n",
       " 'deadList': [''],\n",
       " 'projectTitle': 'Unknown',\n",
       " 'projectID': 'UNK',\n",
       " 'piName': 'N/A',\n",
       " 'linkObsID': ''}"
      ]
     },
     "execution_count": 44,
     "metadata": {},
     "output_type": "execute_result"
    }
   ],
   "source": [
    "obs_dict"
   ]
  },
  {
   "cell_type": "code",
   "execution_count": 45,
   "id": "d508cc65",
   "metadata": {},
   "outputs": [],
   "source": [
    "df = pd.DataFrame(obs_dict)"
   ]
  },
  {
   "cell_type": "code",
   "execution_count": 46,
   "id": "b9019293",
   "metadata": {},
   "outputs": [
    {
     "data": {
      "text/plain": [
       "{'obsID': '00000',\n",
       " 'polaris_folder': '/mnt/compass/polaris',\n",
       " 'basename': '250611_03:56:34',\n",
       " 'target_dir': '/data/science/mir_data/250611_03:56:34',\n",
       " 'sciTargs': ['1555+111'],\n",
       " 'gainCals': ['1159+292, 1310+323, 3c286, 1751+096, 1512-090, 1642+398, 1635+381'],\n",
       " 'fluxCals': ['mwc349a'],\n",
       " 'bpCals': ['3c279, 3C279'],\n",
       " 'polCals': ['3c279_LR, 3C279_LR, 1310+323_LR, 1159+292_LR, 1751+096_LR'],\n",
       " 'selfCals': [''],\n",
       " 'otherCals': ['1743-038'],\n",
       " 'deadList': [''],\n",
       " 'projectTitle': 'Unknown',\n",
       " 'projectID': 'UNK',\n",
       " 'piName': 'N/A',\n",
       " 'linkObsID': ''}"
      ]
     },
     "execution_count": 46,
     "metadata": {},
     "output_type": "execute_result"
    }
   ],
   "source": [
    "obs_dict"
   ]
  },
  {
   "cell_type": "code",
   "execution_count": null,
   "id": "94955aee",
   "metadata": {},
   "outputs": [
    {
     "data": {
      "text/html": [
       "<div>\n",
       "<style scoped>\n",
       "    .dataframe tbody tr th:only-of-type {\n",
       "        vertical-align: middle;\n",
       "    }\n",
       "\n",
       "    .dataframe tbody tr th {\n",
       "        vertical-align: top;\n",
       "    }\n",
       "\n",
       "    .dataframe thead th {\n",
       "        text-align: right;\n",
       "    }\n",
       "</style>\n",
       "<table border=\"1\" class=\"dataframe\">\n",
       "  <thead>\n",
       "    <tr style=\"text-align: right;\">\n",
       "      <th></th>\n",
       "      <th>0</th>\n",
       "    </tr>\n",
       "  </thead>\n",
       "  <tbody>\n",
       "    <tr>\n",
       "      <th>obsID</th>\n",
       "      <td>00000</td>\n",
       "    </tr>\n",
       "    <tr>\n",
       "      <th>polaris_folder</th>\n",
       "      <td>/mnt/compass/polaris</td>\n",
       "    </tr>\n",
       "    <tr>\n",
       "      <th>basename</th>\n",
       "      <td>250611_03:56:34</td>\n",
       "    </tr>\n",
       "    <tr>\n",
       "      <th>target_dir</th>\n",
       "      <td>/data/science/mir_data/250611_03:56:34</td>\n",
       "    </tr>\n",
       "    <tr>\n",
       "      <th>sciTargs</th>\n",
       "      <td>1555+111</td>\n",
       "    </tr>\n",
       "    <tr>\n",
       "      <th>gainCals</th>\n",
       "      <td>1159+292, 1310+323, 3c286, 1751+096, 1512-090,...</td>\n",
       "    </tr>\n",
       "    <tr>\n",
       "      <th>fluxCals</th>\n",
       "      <td>mwc349a</td>\n",
       "    </tr>\n",
       "    <tr>\n",
       "      <th>bpCals</th>\n",
       "      <td>3c279, 3C279</td>\n",
       "    </tr>\n",
       "    <tr>\n",
       "      <th>polCals</th>\n",
       "      <td>3c279_LR, 3C279_LR, 1310+323_LR, 1159+292_LR, ...</td>\n",
       "    </tr>\n",
       "    <tr>\n",
       "      <th>selfCals</th>\n",
       "      <td></td>\n",
       "    </tr>\n",
       "    <tr>\n",
       "      <th>otherCals</th>\n",
       "      <td>1743-038</td>\n",
       "    </tr>\n",
       "    <tr>\n",
       "      <th>deadList</th>\n",
       "      <td></td>\n",
       "    </tr>\n",
       "    <tr>\n",
       "      <th>projectTitle</th>\n",
       "      <td>Unknown</td>\n",
       "    </tr>\n",
       "    <tr>\n",
       "      <th>projectID</th>\n",
       "      <td>UNK</td>\n",
       "    </tr>\n",
       "    <tr>\n",
       "      <th>piName</th>\n",
       "      <td>N/A</td>\n",
       "    </tr>\n",
       "    <tr>\n",
       "      <th>linkObsID</th>\n",
       "      <td></td>\n",
       "    </tr>\n",
       "  </tbody>\n",
       "</table>\n",
       "</div>"
      ],
      "text/plain": [
       "                                                                0\n",
       "obsID                                                       00000\n",
       "polaris_folder                               /mnt/compass/polaris\n",
       "basename                                          250611_03:56:34\n",
       "target_dir                 /data/science/mir_data/250611_03:56:34\n",
       "sciTargs                                                 1555+111\n",
       "gainCals        1159+292, 1310+323, 3c286, 1751+096, 1512-090,...\n",
       "fluxCals                                                  mwc349a\n",
       "bpCals                                               3c279, 3C279\n",
       "polCals         3c279_LR, 3C279_LR, 1310+323_LR, 1159+292_LR, ...\n",
       "selfCals                                                         \n",
       "otherCals                                                1743-038\n",
       "deadList                                                         \n",
       "projectTitle                                              Unknown\n",
       "projectID                                                     UNK\n",
       "piName                                                        N/A\n",
       "linkObsID                                                        "
      ]
     },
     "execution_count": 36,
     "metadata": {},
     "output_type": "execute_result"
    }
   ],
   "source": [
    "df.T"
   ]
  }
 ],
 "metadata": {
  "kernelspec": {
   "display_name": "casaenv",
   "language": "python",
   "name": "python3"
  },
  "language_info": {
   "codemirror_mode": {
    "name": "ipython",
    "version": 3
   },
   "file_extension": ".py",
   "mimetype": "text/x-python",
   "name": "python",
   "nbconvert_exporter": "python",
   "pygments_lexer": "ipython3",
   "version": "3.10.13"
  }
 },
 "nbformat": 4,
 "nbformat_minor": 5
}
