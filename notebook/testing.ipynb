{
 "cells": [
  {
   "cell_type": "code",
   "execution_count": 1,
   "id": "afa4cfdd-d12f-4b6a-a0ba-a63fe66c7146",
   "metadata": {},
   "outputs": [],
   "source": [
    "from find_source import full_html_and_txt, make_catalog\n",
    "import glob\n",
    "import json"
   ]
  },
  {
   "cell_type": "code",
   "execution_count": 2,
   "id": "e3f81a6d-cb00-4215-9666-b46ed0e47832",
   "metadata": {},
   "outputs": [
    {
     "name": "stdout",
     "output_type": "stream",
     "text": [
      "/reduction/karto/SMA/polaris_test/250101_04:01:33\n",
      "/reduction/karto/SMA/polaris_test/run_polaris.m\n",
      "/reduction/karto/SMA/polaris_test/250101_14:31:46\n",
      "/reduction/karto/SMA/polaris_test/250102_03:39:23\n",
      "/reduction/karto/SMA/polaris_test/250103_05:25:18\n",
      "/reduction/karto/SMA/polaris_test/250104_03:18:27\n",
      "/reduction/karto/SMA/polaris_test/250105_04:05:43\n",
      "/reduction/karto/SMA/polaris_test/250106_03:59:50\n",
      "/reduction/karto/SMA/polaris_test/250106_13:01:37\n",
      "/reduction/karto/SMA/polaris_test/250106_15:00:08\n",
      "/reduction/karto/SMA/polaris_test/250106_17:38:06\n",
      "/reduction/karto/SMA/polaris_test/250107_03:21:27\n",
      "/reduction/karto/SMA/polaris_test/250107_11:09:13\n",
      "/reduction/karto/SMA/polaris_test/250108_04:00:57\n",
      "/reduction/karto/SMA/polaris_test/250109_03:31:04\n",
      "/reduction/karto/SMA/polaris_test/250109_07:40:11\n",
      "/reduction/karto/SMA/polaris_test/250109_15:20:50\n",
      "/reduction/karto/SMA/polaris_test/250111_03:59:34\n",
      "/reduction/karto/SMA/polaris_test/250112_04:00:37\n",
      "/reduction/karto/SMA/polaris_test/250114_03:31:47\n",
      "/reduction/karto/SMA/polaris_test/250114_15:18:20\n",
      "/reduction/karto/SMA/polaris_test/250115_11:17:12\n",
      "/reduction/karto/SMA/polaris_test/250115_11:19:28\n",
      "/reduction/karto/SMA/polaris_test/250115_12:10:22\n",
      "/reduction/karto/SMA/polaris_test/250115_14:40:08\n",
      "/reduction/karto/SMA/polaris_test/250117_14:59:30\n",
      "/reduction/karto/SMA/polaris_test/250119_04:20:52\n",
      "/reduction/karto/SMA/polaris_test/250120_04:43:30\n",
      "/reduction/karto/SMA/polaris_test/250121_03:21:37\n",
      "/reduction/karto/SMA/polaris_test/250121_16:19:35\n",
      "/reduction/karto/SMA/polaris_test/250122_03:56:27\n",
      "/reduction/karto/SMA/polaris_test/250122_11:57:15\n",
      "/reduction/karto/SMA/polaris_test/250122_12:19:43\n",
      "/reduction/karto/SMA/polaris_test/250123_09:55:05\n",
      "/reduction/karto/SMA/polaris_test/250124_07:31:28\n",
      "/reduction/karto/SMA/polaris_test/250124_16:16:53\n",
      "/reduction/karto/SMA/polaris_test/250125_02:57:54\n",
      "/reduction/karto/SMA/polaris_test/250125_03:21:22\n",
      "/reduction/karto/SMA/polaris_test/250125_06:04:13\n",
      "/reduction/karto/SMA/polaris_test/250126_05:01:17\n",
      "/reduction/karto/SMA/polaris_test/250127_03:45:18\n",
      "/reduction/karto/SMA/polaris_test/250128_07:51:36\n",
      "/reduction/karto/SMA/polaris_test/250129_11:38:04\n",
      "/reduction/karto/SMA/polaris_test/250129_14:56:18\n",
      "/reduction/karto/SMA/polaris_test/250130_03:34:48\n",
      "/reduction/karto/SMA/polaris_test/250202_10:57:56\n",
      "/reduction/karto/SMA/polaris_test/250203_17:28:23\n",
      "/reduction/karto/SMA/polaris_test/250204_04:59:34\n",
      "/reduction/karto/SMA/polaris_test/250204_07:07:47\n",
      "/reduction/karto/SMA/polaris_test/250204_15:10:02\n",
      "/reduction/karto/SMA/polaris_test/250205_04:59:08\n",
      "/reduction/karto/SMA/polaris_test/250206_05:00:15\n",
      "/reduction/karto/SMA/polaris_test/250206_07:06:38\n"
     ]
    }
   ],
   "source": [
    "for folder in glob.glob('/reduction/karto/SMA/polaris_test/*'):\n",
    "    print(folder)"
   ]
  },
  {
   "cell_type": "code",
   "execution_count": 3,
   "id": "dd5a30c8-10b3-4119-9d72-45cc67ebdcd2",
   "metadata": {},
   "outputs": [],
   "source": [
    "full_html_and_txt('/reduction/karto/SMA/polaris_test/250112_04:00:37')"
   ]
  }
 ],
 "metadata": {
  "kernelspec": {
   "display_name": "Python 3 (ipykernel)",
   "language": "python",
   "name": "python3"
  },
  "language_info": {
   "codemirror_mode": {
    "name": "ipython",
    "version": 3
   },
   "file_extension": ".py",
   "mimetype": "text/x-python",
   "name": "python",
   "nbconvert_exporter": "python",
   "pygments_lexer": "ipython3",
   "version": "3.13.3"
  }
 },
 "nbformat": 4,
 "nbformat_minor": 5
}
