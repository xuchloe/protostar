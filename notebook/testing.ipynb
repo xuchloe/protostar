{
 "cells": [
  {
   "cell_type": "code",
   "execution_count": 3,
   "id": "afa4cfdd-d12f-4b6a-a0ba-a63fe66c7146",
   "metadata": {},
   "outputs": [],
   "source": [
    "from find_source import full_html_and_txt, make_catalog\n",
    "import glob\n",
    "import json"
   ]
  },
  {
   "cell_type": "code",
   "execution_count": 4,
   "id": "bfe079f2",
   "metadata": {},
   "outputs": [
    {
     "data": {
      "text/plain": [
       "{'source_1': {'field_name': '3c279',\n",
       "  'obs_date_time': '6-11-25 3:17:23',\n",
       "  'file_name': '3c279_full.fits',\n",
       "  'beam_maj_axis': <Quantity 1.432 arcsec>,\n",
       "  'beam_min_axis': <Quantity 0.858 arcsec>,\n",
       "  'beam_pos_angle': <Quantity 78. deg>,\n",
       "  'flux_uncertainty': <Quantity 16.792 mJy>,\n",
       "  'flux_density': <Quantity 4280.752 mJy>,\n",
       "  'coord_ra': <Quantity 194.047 deg>,\n",
       "  'coord_dec': <Quantity -5.789 deg>,\n",
       "  'internal': True},\n",
       " 'source_2': {'field_name': '3c279',\n",
       "  'obs_date_time': '6-11-25 3:17:23',\n",
       "  'file_name': '3c279_full.fits',\n",
       "  'beam_maj_axis': <Quantity 1.432 arcsec>,\n",
       "  'beam_min_axis': <Quantity 0.858 arcsec>,\n",
       "  'beam_pos_angle': <Quantity 78. deg>,\n",
       "  'flux_uncertainty': <Quantity 16.792 mJy>,\n",
       "  'flux_density': <Quantity 153.571 mJy>,\n",
       "  'coord_ra': <Quantity 194.046 deg>,\n",
       "  'coord_dec': <Quantity -5.793 deg>,\n",
       "  'internal': False},\n",
       " 'source_3': {'field_name': '3c279',\n",
       "  'obs_date_time': '6-11-25 3:17:23',\n",
       "  'file_name': '3c279_full.fits',\n",
       "  'beam_maj_axis': <Quantity 1.432 arcsec>,\n",
       "  'beam_min_axis': <Quantity 0.858 arcsec>,\n",
       "  'beam_pos_angle': <Quantity 78. deg>,\n",
       "  'flux_uncertainty': <Quantity 16.792 mJy>,\n",
       "  'flux_density': <Quantity 122.794 mJy>,\n",
       "  'coord_ra': <Quantity 194.047 deg>,\n",
       "  'coord_dec': <Quantity -5.785 deg>,\n",
       "  'internal': False},\n",
       " 'source_4': {'field_name': '3c279',\n",
       "  'obs_date_time': '6-11-25 3:17:23',\n",
       "  'file_name': '3c279_full.fits',\n",
       "  'beam_maj_axis': <Quantity 1.432 arcsec>,\n",
       "  'beam_min_axis': <Quantity 0.858 arcsec>,\n",
       "  'beam_pos_angle': <Quantity 78. deg>,\n",
       "  'flux_uncertainty': <Quantity 16.792 mJy>,\n",
       "  'flux_density': <Quantity 96.66 mJy>,\n",
       "  'coord_ra': <Quantity 194.046 deg>,\n",
       "  'coord_dec': <Quantity -5.792 deg>,\n",
       "  'internal': False},\n",
       " 'source_5': {'field_name': '3c279',\n",
       "  'obs_date_time': '6-11-25 3:17:23',\n",
       "  'file_name': '3c279_full.fits',\n",
       "  'beam_maj_axis': <Quantity 1.432 arcsec>,\n",
       "  'beam_min_axis': <Quantity 0.858 arcsec>,\n",
       "  'beam_pos_angle': <Quantity 78. deg>,\n",
       "  'flux_uncertainty': <Quantity 16.792 mJy>,\n",
       "  'flux_density': <Quantity 95.427 mJy>,\n",
       "  'coord_ra': <Quantity 194.047 deg>,\n",
       "  'coord_dec': <Quantity -5.787 deg>,\n",
       "  'internal': False}}"
      ]
     },
     "execution_count": 4,
     "metadata": {},
     "output_type": "execute_result"
    }
   ],
   "source": [
    "make_catalog('../data/250611_03:56:34/3c279_full.fits')"
   ]
  },
  {
   "cell_type": "code",
   "execution_count": 2,
   "id": "abafdb3c",
   "metadata": {},
   "outputs": [
    {
     "name": "stdout",
     "output_type": "stream",
     "text": [
      "11.3 s ± 1.23 s per loop (mean ± std. dev. of 7 runs, 1 loop each)\n"
     ]
    }
   ],
   "source": [
    "%%timeit\n",
    "full_html_and_txt('../data/250611_03:56:34')"
   ]
  },
  {
   "cell_type": "code",
   "execution_count": null,
   "id": "e3f81a6d-cb00-4215-9666-b46ed0e47832",
   "metadata": {},
   "outputs": [
    {
     "name": "stdout",
     "output_type": "stream",
     "text": [
      "/reduction/karto/SMA/polaris_test/250101_04:01:33\n",
      "/reduction/karto/SMA/polaris_test/run_polaris.m\n",
      "/reduction/karto/SMA/polaris_test/250101_14:31:46\n",
      "/reduction/karto/SMA/polaris_test/250102_03:39:23\n",
      "/reduction/karto/SMA/polaris_test/250103_05:25:18\n",
      "/reduction/karto/SMA/polaris_test/250104_03:18:27\n",
      "/reduction/karto/SMA/polaris_test/250105_04:05:43\n",
      "/reduction/karto/SMA/polaris_test/250106_03:59:50\n",
      "/reduction/karto/SMA/polaris_test/250106_13:01:37\n",
      "/reduction/karto/SMA/polaris_test/250106_15:00:08\n",
      "/reduction/karto/SMA/polaris_test/250106_17:38:06\n",
      "/reduction/karto/SMA/polaris_test/250107_03:21:27\n",
      "/reduction/karto/SMA/polaris_test/250107_11:09:13\n",
      "/reduction/karto/SMA/polaris_test/250108_04:00:57\n",
      "/reduction/karto/SMA/polaris_test/250109_03:31:04\n",
      "/reduction/karto/SMA/polaris_test/250109_07:40:11\n",
      "/reduction/karto/SMA/polaris_test/250109_15:20:50\n",
      "/reduction/karto/SMA/polaris_test/250111_03:59:34\n",
      "/reduction/karto/SMA/polaris_test/250112_04:00:37\n",
      "/reduction/karto/SMA/polaris_test/250114_03:31:47\n",
      "/reduction/karto/SMA/polaris_test/250114_15:18:20\n",
      "/reduction/karto/SMA/polaris_test/250115_11:17:12\n",
      "/reduction/karto/SMA/polaris_test/250115_11:19:28\n",
      "/reduction/karto/SMA/polaris_test/250115_12:10:22\n",
      "/reduction/karto/SMA/polaris_test/250115_14:40:08\n",
      "/reduction/karto/SMA/polaris_test/250117_14:59:30\n",
      "/reduction/karto/SMA/polaris_test/250119_04:20:52\n",
      "/reduction/karto/SMA/polaris_test/250120_04:43:30\n",
      "/reduction/karto/SMA/polaris_test/250121_03:21:37\n",
      "/reduction/karto/SMA/polaris_test/250121_16:19:35\n",
      "/reduction/karto/SMA/polaris_test/250122_03:56:27\n",
      "/reduction/karto/SMA/polaris_test/250122_11:57:15\n",
      "/reduction/karto/SMA/polaris_test/250122_12:19:43\n",
      "/reduction/karto/SMA/polaris_test/250123_09:55:05\n",
      "/reduction/karto/SMA/polaris_test/250124_07:31:28\n",
      "/reduction/karto/SMA/polaris_test/250124_16:16:53\n",
      "/reduction/karto/SMA/polaris_test/250125_02:57:54\n",
      "/reduction/karto/SMA/polaris_test/250125_03:21:22\n",
      "/reduction/karto/SMA/polaris_test/250125_06:04:13\n",
      "/reduction/karto/SMA/polaris_test/250126_05:01:17\n",
      "/reduction/karto/SMA/polaris_test/250127_03:45:18\n",
      "/reduction/karto/SMA/polaris_test/250128_07:51:36\n",
      "/reduction/karto/SMA/polaris_test/250129_11:38:04\n",
      "/reduction/karto/SMA/polaris_test/250129_14:56:18\n",
      "/reduction/karto/SMA/polaris_test/250130_03:34:48\n",
      "/reduction/karto/SMA/polaris_test/250202_10:57:56\n",
      "/reduction/karto/SMA/polaris_test/250203_17:28:23\n",
      "/reduction/karto/SMA/polaris_test/250204_04:59:34\n",
      "/reduction/karto/SMA/polaris_test/250204_07:07:47\n",
      "/reduction/karto/SMA/polaris_test/250204_15:10:02\n",
      "/reduction/karto/SMA/polaris_test/250205_04:59:08\n",
      "/reduction/karto/SMA/polaris_test/250206_05:00:15\n",
      "/reduction/karto/SMA/polaris_test/250206_07:06:38\n",
      "/reduction/karto/SMA/polaris_test/250208_03:57:48\n",
      "/reduction/karto/SMA/polaris_test/250208_11:26:06\n",
      "/reduction/karto/SMA/polaris_test/250208_12:43:25\n",
      "/reduction/karto/SMA/polaris_test/250209_04:18:23\n",
      "/reduction/karto/SMA/polaris_test/250210_04:21:27\n",
      "/reduction/karto/SMA/polaris_test/250211_04:14:41\n",
      "/reduction/karto/SMA/polaris_test/250212_03:27:46\n",
      "/reduction/karto/SMA/polaris_test/250212_08:59:45\n",
      "/reduction/karto/SMA/polaris_test/250212_10:26:06\n",
      "/reduction/karto/SMA/polaris_test/250212_10:26:35\n",
      "/reduction/karto/SMA/polaris_test/250212_10:28:03\n",
      "/reduction/karto/SMA/polaris_test/250212_13:50:25\n",
      "/reduction/karto/SMA/polaris_test/250212_17:03:29\n"
     ]
    }
   ],
   "source": [
    "folders = []\n",
    "for folder in glob.glob('/reduction/karto/SMA/polaris_test/*'):\n",
    "    print(folder)\n",
    "    folders.append(folder)"
   ]
  },
  {
   "cell_type": "code",
   "execution_count": 72,
   "id": "c91d8897-9f70-47a9-8841-0815d30ea8a0",
   "metadata": {},
   "outputs": [
    {
     "name": "stdout",
     "output_type": "stream",
     "text": [
      "/reduction/karto/SMA/polaris_test/250212_17:03:29\n"
     ]
    }
   ],
   "source": [
    "full_html_and_txt(folders[0])\n",
    "print(folders[0])\n",
    "folders = folders[1:]"
   ]
  },
  {
   "cell_type": "code",
   "execution_count": null,
   "id": "11e3d8ef-e347-4072-95d9-4ff43b25aab5",
   "metadata": {},
   "outputs": [],
   "source": []
  }
 ],
 "metadata": {
  "kernelspec": {
   "display_name": "casaenv",
   "language": "python",
   "name": "python3"
  },
  "language_info": {
   "codemirror_mode": {
    "name": "ipython",
    "version": 3
   },
   "file_extension": ".py",
   "mimetype": "text/x-python",
   "name": "python",
   "nbconvert_exporter": "python",
   "pygments_lexer": "ipython3",
   "version": "3.10.13"
  }
 },
 "nbformat": 4,
 "nbformat_minor": 5
}
