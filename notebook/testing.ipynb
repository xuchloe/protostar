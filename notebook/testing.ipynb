{
 "cells": [
  {
   "cell_type": "code",
   "execution_count": null,
   "id": "afa4cfdd-d12f-4b6a-a0ba-a63fe66c7146",
   "metadata": {},
   "outputs": [],
   "source": [
    "from find_source import full_html_and_txt"
   ]
  },
  {
   "cell_type": "code",
   "execution_count": null,
   "id": "9f83aa02",
   "metadata": {},
   "outputs": [],
   "source": [
    "full_html_and_txt('../data/250611_03:56:34/*.fits', '../data/250611_03:56:34/polaris.json')"
   ]
  },
  {
   "cell_type": "code",
   "execution_count": null,
   "id": "5529815f",
   "metadata": {},
   "outputs": [],
   "source": [
    "def full_html_and_txt(folder: str, threshold: float = 0.01, radius_buffer: float = 5.0, ext_threshold: float = 0.001):\n",
    "    '''\n",
    "    From a folder of FITS files, creates source_info.html with observation information table, source figures, and source information table\n",
    "    and creates interesting_field.txt with names of objects with any (possibly) interesting detections.\n",
    "\n",
    "    Parameters\n",
    "    ----------\n",
    "    folder : str\n",
    "        The path of the folder containing the FITS files to be analyzed.\n",
    "    threshold : float (optional)\n",
    "        The threshold for a significant detection.\n",
    "        If the probability of detecting the center region's maximum flux assuming no source in the image\n",
    "        is less than this threshold, then the detection is deemed significant.\n",
    "        If no value is given, defaults to 0.01.\n",
    "    radius_buffer : float (optional)\n",
    "        The amount of buffer, in arcsec, to add to the beam FWHM to get the initial search radius.\n",
    "        If no value is given, defaults to 5 arcsec.\n",
    "    ext_threshold : float (optional)\n",
    "        The probability that an external peak must be below for it to be considered an external source.\n",
    "        If no value is given, defaults to 0.001.\n",
    "    '''\n",
    "\n",
    "    start_html()\n",
    "\n",
    "    if folder[-1] != '/':\n",
    "        folder += '/'\n",
    "\n",
    "    json_file = f'{folder}polaris.json'\n",
    "\n",
    "    obs_info_to_html(json_file)\n",
    "\n",
    "    final_catalog = {}\n",
    "    file = open(json_file, 'r')\n",
    "    obs_dict = json.load(file)\n",
    "    sci_targs = obs_dict['sciTargs']\n",
    "\n",
    "    txt = open('../html/interesting_fields.txt', 'w')\n",
    "\n",
    "    for file in glob.glob(f'{folder}*.fits'):\n",
    "        try:\n",
    "            fig_to_html(file, radius_buffer=radius_buffer, ext_threshold=ext_threshold)\n",
    "            obj = fits.getheader(file)['OBJECT']\n",
    "            if obj in sci_targs:\n",
    "                catalog = make_catalog(file, threshold=threshold, radius_buffer=radius_buffer, ext_threshold=ext_threshold)\n",
    "\n",
    "                #add field name to .txt file if it is a science target with a significant detection in the initial inclusion region\n",
    "                if catalog != None:\n",
    "                    for key, value in catalog.items():\n",
    "                        if value['internal'] == True:\n",
    "                            txt.write(f'{obj}\\n')\n",
    "                final_catalog = combine_catalogs(final_catalog, catalog)\n",
    "        except:\n",
    "            print(f'Try again for {file}')\n",
    "\n",
    "    txt.close()\n",
    "\n",
    "    catalog_to_html(final_catalog)\n",
    "    end_html()\n",
    "\n",
    "    plt.close('all')"
   ]
  }
 ],
 "metadata": {
  "kernelspec": {
   "display_name": "casaenv",
   "language": "python",
   "name": "python3"
  },
  "language_info": {
   "codemirror_mode": {
    "name": "ipython",
    "version": 3
   },
   "file_extension": ".py",
   "mimetype": "text/x-python",
   "name": "python",
   "nbconvert_exporter": "python",
   "pygments_lexer": "ipython3",
   "version": "3.10.13"
  }
 },
 "nbformat": 4,
 "nbformat_minor": 5
}
