{
 "cells": [
  {
   "cell_type": "markdown",
   "id": "d1c79459",
   "metadata": {},
   "source": [
    "Overall plan:\n",
    "- Get sampled values from image\n",
    "- Center image on source peak\n",
    "- 5 arcsec radius?\n",
    "- Interpolate vertical and horizontal directions to \"smooth\" image\n",
    "- Shove into SQL database"
   ]
  },
  {
   "cell_type": "code",
   "execution_count": null,
   "id": "7bf2a7e1",
   "metadata": {},
   "outputs": [],
   "source": [
    "from astropy.io import fits\n",
    "from find_source import fits_data_index"
   ]
  },
  {
   "cell_type": "code",
   "execution_count": null,
   "id": "4643b064",
   "metadata": {},
   "outputs": [],
   "source": [
    "fits_file = '' # change this to actual path for testing\n",
    "\n",
    "\n",
    "##### BELOW IS COPIED FROM region_stats #####\n",
    "i = fits_data_index(fits_file)\n",
    "\n",
    "# open FITS file\n",
    "try:\n",
    "    file = fits.open(fits_file)\n",
    "except:\n",
    "    print(f'Unable to open {fits_file}')\n",
    "\n",
    "# extract data array\n",
    "info = file[i]\n",
    "data = info.data"
   ]
  },
  {
   "cell_type": "code",
   "execution_count": null,
   "id": "6b473cd5",
   "metadata": {},
   "outputs": [],
   "source": [
    "data_array = data[0]"
   ]
  },
  {
   "cell_type": "code",
   "execution_count": null,
   "id": "20db2c27",
   "metadata": {},
   "outputs": [],
   "source": [
    "sampled_values = {} # dictionary of sampled data points"
   ]
  },
  {
   "cell_type": "markdown",
   "id": "7ff0c617",
   "metadata": {},
   "source": [
    "Should test to decide how \"finely\" I want to interpolate things"
   ]
  },
  {
   "cell_type": "code",
   "execution_count": null,
   "id": "63345373",
   "metadata": {},
   "outputs": [],
   "source": [
    "def interpolated_value(x):\n",
    "    # TODO: assert k between -1 and N + 1\n",
    "    # TODO: find x_k and x_k+1 s.t. x_k <= x <= x_k+1\n",
    "    # TODO: grab c values from dictionary\n",
    "    # TODO: plug everything into interpolation function\n",
    "    # TODO: return value\n",
    "    pass"
   ]
  }
 ],
 "metadata": {
  "kernelspec": {
   "display_name": "casaenv",
   "language": "python",
   "name": "python3"
  },
  "language_info": {
   "name": "python",
   "version": "3.10.13"
  }
 },
 "nbformat": 4,
 "nbformat_minor": 5
}
