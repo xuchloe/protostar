{
 "cells": [
  {
   "cell_type": "markdown",
   "id": "d1c79459",
   "metadata": {},
   "source": [
    "Overall plan:\n",
    "- Get sampled values from image\n",
    "- Center image on source peak\n",
    "- 5 arcsec x 5 arcsec\n",
    "- Interpolate vertical and horizontal directions to \"smooth\" image\n",
    "- Shove into SQL database\n",
    "- Call this function in make_catalog"
   ]
  },
  {
   "cell_type": "code",
   "execution_count": 11,
   "id": "7bf2a7e1",
   "metadata": {},
   "outputs": [],
   "source": [
    "from astropy.coordinates import Angle\n",
    "import astropy.units as u\n",
    "from astropy.io import fits\n",
    "from find_source import fits_data_index\n",
    "import math"
   ]
  },
  {
   "cell_type": "code",
   "execution_count": 5,
   "id": "4643b064",
   "metadata": {},
   "outputs": [],
   "source": [
    "fits_file = '../data/11151/3c279.fits' # change this to actual path for testing\n",
    "\n",
    "\n",
    "##### BELOW IS COPIED FROM region_stats #####\n",
    "i = fits_data_index(fits_file)\n",
    "\n",
    "# open FITS file\n",
    "try:\n",
    "    file = fits.open(fits_file)\n",
    "except:\n",
    "    print(f'Unable to open {fits_file}')\n",
    "\n",
    "# extract data array\n",
    "info = file[i]\n",
    "data = info.data"
   ]
  },
  {
   "cell_type": "code",
   "execution_count": 6,
   "id": "6b473cd5",
   "metadata": {},
   "outputs": [],
   "source": [
    "data_array = data[0]"
   ]
  },
  {
   "cell_type": "code",
   "execution_count": 12,
   "id": "cd2e1887",
   "metadata": {},
   "outputs": [],
   "source": [
    "header_data = fits.getheader(fits_file)\n",
    "\n",
    "pixel_scale = Angle(header_data['CDELT1'], header_data['CUNIT1']).to_value('arcsec') / u.arcsec\n",
    "x_dim = header_data['NAXIS1']\n",
    "y_dim = header_data['NAXIS2']\n",
    "\n",
    "center = (round(x_dim/2), round(y_dim/2))"
   ]
  },
  {
   "cell_type": "code",
   "execution_count": null,
   "id": "032f854b",
   "metadata": {},
   "outputs": [],
   "source": [
    "peak_coords = () # normalized peak coordinates, will be an argument"
   ]
  },
  {
   "cell_type": "code",
   "execution_count": null,
   "id": "be38b3f4",
   "metadata": {},
   "outputs": [],
   "source": [
    "unnorm_x = round(peak_coords[0] / pixel_scale + center[0])\n",
    "unnorm_y = round(peak_coords[1] / pixel_scale + center[1])"
   ]
  },
  {
   "cell_type": "code",
   "execution_count": null,
   "id": "ac493453",
   "metadata": {},
   "outputs": [],
   "source": [
    "delta = math.ceil(2.5 / pixel_scale) # ~number of pixels in 2.5 arcsec"
   ]
  },
  {
   "cell_type": "code",
   "execution_count": 24,
   "id": "58c62630",
   "metadata": {},
   "outputs": [
    {
     "ename": "NameError",
     "evalue": "name 'unnorm_y' is not defined",
     "output_type": "error",
     "traceback": [
      "\u001b[0;31m---------------------------------------------------------------------------\u001b[0m",
      "\u001b[0;31mNameError\u001b[0m                                 Traceback (most recent call last)",
      "Cell \u001b[0;32mIn[24], line 3\u001b[0m\n\u001b[1;32m      1\u001b[0m \u001b[38;5;66;03m# make sure the ~5x5 arcsec box is actually inside the original image and handle issues if not\u001b[39;00m\n\u001b[1;32m      2\u001b[0m new_data \u001b[38;5;241m=\u001b[39m data_array\n\u001b[0;32m----> 3\u001b[0m \u001b[38;5;28;01mif\u001b[39;00m \u001b[43munnorm_y\u001b[49m \u001b[38;5;241m-\u001b[39m delta \u001b[38;5;241m>\u001b[39m\u001b[38;5;241m=\u001b[39m \u001b[38;5;241m0\u001b[39m:\n\u001b[1;32m      4\u001b[0m     new_data \u001b[38;5;241m=\u001b[39m data_array[unnorm_y \u001b[38;5;241m-\u001b[39m delta:]\n\u001b[1;32m      5\u001b[0m \u001b[38;5;28;01mif\u001b[39;00m unnorm_y \u001b[38;5;241m+\u001b[39m delta \u001b[38;5;241m<\u001b[39m y_dim:\n",
      "\u001b[0;31mNameError\u001b[0m: name 'unnorm_y' is not defined"
     ]
    }
   ],
   "source": [
    "# make sure the ~5x5 arcsec box is actually inside the original image and handle issues if not\n",
    "new_data = data_array\n",
    "if unnorm_y - delta >= 0:\n",
    "    new_data = data_array[unnorm_y - delta:]\n",
    "if unnorm_y + delta < y_dim:\n",
    "    new_data = new_data[:(unnorm_y + delta) - y_dim + 1]\n",
    "if unnorm_x - delta >= 0:\n",
    "    new_data = [row[unnorm_x:] for row in new_data]\n",
    "if unnorm_x + delta < x_dim:\n",
    "    new_data = [row[:(unnorm_x + delta) - x_dim + 1] for row in new_data]"
   ]
  },
  {
   "cell_type": "code",
   "execution_count": null,
   "id": "e6dc64c3",
   "metadata": {},
   "outputs": [],
   "source": [
    "# find 5x5 arcsec box and how far it is from all edges\n",
    "# slices (1x each direction) of original data array to get our box"
   ]
  },
  {
   "cell_type": "markdown",
   "id": "f4932013",
   "metadata": {},
   "source": [
    "IMPORTANT: data[y][x]"
   ]
  },
  {
   "cell_type": "code",
   "execution_count": null,
   "id": "d1f39a0f",
   "metadata": {},
   "outputs": [],
   "source": [
    "# x_coords.append((ext_peak_coords[i][0] - center[0]) * pixel_scale)"
   ]
  },
  {
   "cell_type": "code",
   "execution_count": null,
   "id": "20db2c27",
   "metadata": {},
   "outputs": [],
   "source": [
    "sampled_values = {} # dictionary of sampled data points"
   ]
  },
  {
   "cell_type": "markdown",
   "id": "7ff0c617",
   "metadata": {},
   "source": [
    "Should test to decide how \"finely\" I want to interpolate things"
   ]
  },
  {
   "cell_type": "markdown",
   "id": "afcf6950",
   "metadata": {},
   "source": [
    "arguments:\n",
    "- peak coords (normalized)\n",
    "- pixel scale\n",
    "- x-axis length\n",
    "- y-axis length\n",
    "- fits file path"
   ]
  },
  {
   "cell_type": "code",
   "execution_count": null,
   "id": "63345373",
   "metadata": {},
   "outputs": [],
   "source": [
    "def interpolated_value(x):\n",
    "    # TODO: assert k between -1 and N + 1\n",
    "    # TODO: find x_k and x_k+1 s.t. x_k <= x <= x_k+1\n",
    "    # TODO: grab c values from dictionary\n",
    "    # TODO: plug everything into interpolation function\n",
    "    # TODO: return value\n",
    "    pass"
   ]
  }
 ],
 "metadata": {
  "kernelspec": {
   "display_name": "casaenv",
   "language": "python",
   "name": "python3"
  },
  "language_info": {
   "codemirror_mode": {
    "name": "ipython",
    "version": 3
   },
   "file_extension": ".py",
   "mimetype": "text/x-python",
   "name": "python",
   "nbconvert_exporter": "python",
   "pygments_lexer": "ipython3",
   "version": "3.10.13"
  }
 },
 "nbformat": 4,
 "nbformat_minor": 5
}
