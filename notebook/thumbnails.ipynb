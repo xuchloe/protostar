{
 "cells": [
  {
   "cell_type": "markdown",
   "id": "d1c79459",
   "metadata": {},
   "source": [
    "Overall plan:\n",
    "- Get sampled values from image\n",
    "- Center image on source peak\n",
    "- 5 arcsec radius?\n",
    "- Interpolate to \"smooth\" image\n",
    "- Shove into SQL database"
   ]
  },
  {
   "cell_type": "code",
   "execution_count": null,
   "id": "20db2c27",
   "metadata": {},
   "outputs": [],
   "source": [
    "sampled_values = {} # dictionary of sampled data points"
   ]
  },
  {
   "cell_type": "code",
   "execution_count": null,
   "id": "63345373",
   "metadata": {},
   "outputs": [],
   "source": [
    "def interpolated_value(x):\n",
    "    # TODO: assert k between -1 and N + 1\n",
    "    # TODO: find x_k and x_k+1 s.t. x_k <= x <= x_k+1\n",
    "    # TODO: grab c values from dictionary\n",
    "    # TODO: plug everything into interpolation function\n",
    "    # TODO: return value\n",
    "    pass"
   ]
  }
 ],
 "metadata": {
  "language_info": {
   "name": "python"
  }
 },
 "nbformat": 4,
 "nbformat_minor": 5
}
