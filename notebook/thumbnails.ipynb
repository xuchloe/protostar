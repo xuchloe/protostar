{
 "cells": [
  {
   "cell_type": "markdown",
   "id": "d1c79459",
   "metadata": {},
   "source": [
    "Overall plan:\n",
    "- Get sampled values from image\n",
    "- Center image on source peak\n",
    "- 5 arcsec x 5 arcsec\n",
    "- Interpolate vertical and horizontal directions to \"smooth\" image\n",
    "- Shove into SQL database\n",
    "- Call this function in make_catalog"
   ]
  },
  {
   "cell_type": "code",
   "execution_count": null,
   "id": "7bf2a7e1",
   "metadata": {},
   "outputs": [],
   "source": [
    "from astropy.coordinates import Angle\n",
    "from astropy.io import fits\n",
    "from find_source import fits_data_index"
   ]
  },
  {
   "cell_type": "code",
   "execution_count": null,
   "id": "4643b064",
   "metadata": {},
   "outputs": [],
   "source": [
    "fits_file = '' # change this to actual path for testing\n",
    "\n",
    "\n",
    "##### BELOW IS COPIED FROM region_stats #####\n",
    "i = fits_data_index(fits_file)\n",
    "\n",
    "# open FITS file\n",
    "try:\n",
    "    file = fits.open(fits_file)\n",
    "except:\n",
    "    print(f'Unable to open {fits_file}')\n",
    "\n",
    "# extract data array\n",
    "info = file[i]\n",
    "data = info.data"
   ]
  },
  {
   "cell_type": "code",
   "execution_count": null,
   "id": "6b473cd5",
   "metadata": {},
   "outputs": [],
   "source": [
    "data_array = data[0]"
   ]
  },
  {
   "cell_type": "code",
   "execution_count": null,
   "id": "cd2e1887",
   "metadata": {},
   "outputs": [],
   "source": [
    "header_data = fits.getheader(fits_file)\n",
    "\n",
    "pixel_scale = Angle(header_data['CDELT1'], header_data['CUNIT1']).to_value('arcsec')\n",
    "x_dim = header_data['NAXIS1']\n",
    "y_dim = header_data['NAXIS2']\n",
    "\n",
    "center = (round(x_dim/2), round(y_dim/2))"
   ]
  },
  {
   "cell_type": "code",
   "execution_count": null,
   "id": "d1f39a0f",
   "metadata": {},
   "outputs": [],
   "source": [
    "# x_coords.append((ext_peak_coords[i][0] - center[0]) * pixel_scale)\n"
   ]
  },
  {
   "cell_type": "code",
   "execution_count": null,
   "id": "20db2c27",
   "metadata": {},
   "outputs": [],
   "source": [
    "sampled_values = {} # dictionary of sampled data points"
   ]
  },
  {
   "cell_type": "markdown",
   "id": "7ff0c617",
   "metadata": {},
   "source": [
    "Should test to decide how \"finely\" I want to interpolate things"
   ]
  },
  {
   "cell_type": "markdown",
   "id": "afcf6950",
   "metadata": {},
   "source": [
    "arguments:\n",
    "- peak coords (normalized)\n",
    "- pixel scale\n",
    "- x-axis length\n",
    "- y-axis length\n",
    "- fits file path"
   ]
  },
  {
   "cell_type": "code",
   "execution_count": null,
   "id": "63345373",
   "metadata": {},
   "outputs": [],
   "source": [
    "def interpolated_value(x):\n",
    "    # TODO: assert k between -1 and N + 1\n",
    "    # TODO: find x_k and x_k+1 s.t. x_k <= x <= x_k+1\n",
    "    # TODO: grab c values from dictionary\n",
    "    # TODO: plug everything into interpolation function\n",
    "    # TODO: return value\n",
    "    pass"
   ]
  }
 ],
 "metadata": {
  "kernelspec": {
   "display_name": "casaenv",
   "language": "python",
   "name": "python3"
  },
  "language_info": {
   "name": "python",
   "version": "3.10.13"
  }
 },
 "nbformat": 4,
 "nbformat_minor": 5
}
