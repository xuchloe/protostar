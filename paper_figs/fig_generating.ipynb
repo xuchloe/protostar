{
 "cells": [
  {
   "cell_type": "code",
   "execution_count": null,
   "id": "1330c147",
   "metadata": {},
   "outputs": [],
   "source": [
    "import find_source\n",
    "from find_source import summary, significant\n",
    "import glob\n",
    "import matplotlib.pyplot as plt\n",
    "import scipy\n",
    "from scipy import stats\n",
    "import numpy as np"
   ]
  },
  {
   "cell_type": "code",
   "execution_count": null,
   "id": "572a7202",
   "metadata": {},
   "outputs": [],
   "source": [
    "#I was seeing how many sources in multi_track had the 2 probabilities disagree\n",
    "#for file in glob.glob('../data/multi_track/*.fits'):\n",
    "    #try:\n",
    "        #summ = summary(file, True, False, False)\n",
    "        #if (summ['int_prob'] < 0.01) != (summ['calc_int_prob'] < 0.01):\n",
    "            #print(file, summ['int_prob'], summ['calc_int_prob'])\n",
    "    #except:\n",
    "        #pass"
   ]
  },
  {
   "cell_type": "code",
   "execution_count": null,
   "id": "fa34122f",
   "metadata": {},
   "outputs": [],
   "source": [
    "#summary('../data/11151/l1551-51.fits', False, False, True, '../paper_figs')"
   ]
  },
  {
   "cell_type": "code",
   "execution_count": null,
   "id": "19532a93",
   "metadata": {},
   "outputs": [],
   "source": [
    "#summary('../data/1407+2827.fits', False, False, True, '../paper_figs')"
   ]
  },
  {
   "cell_type": "code",
   "execution_count": null,
   "id": "334501a3",
   "metadata": {},
   "outputs": [],
   "source": [
    "#summary('../data/11151/3c279.fits', False, False, True, '../paper_figs')"
   ]
  },
  {
   "cell_type": "code",
   "execution_count": null,
   "id": "5e113ae6",
   "metadata": {},
   "outputs": [],
   "source": [
    "#files = []\n",
    "#for file in glob.glob('../data/*.fits'):\n",
    "#    files.append(file)\n",
    "#files.sort()\n",
    "#results = []\n",
    "#for file in files:\n",
    "#    try:\n",
    "#        results.append(significant(file, 0.095))\n",
    "#    except Exception:\n",
    "#        pass\n",
    "#for res in results:\n",
    "#    print(res)"
   ]
  },
  {
   "cell_type": "code",
   "execution_count": null,
   "id": "9ae4dc2d",
   "metadata": {},
   "outputs": [],
   "source": [
    "thresholds = [0.005,0.01,0.015,0.02,0.025,0.03,0.035,0.04,0.045,0.05,0.055,0.06,0.065,0.07,0.075,0.08,0.085,0.09,0.095,0.1]\n",
    "false_positives = [0,0,1,1,1,2,3,3,3,4,4,4,4,6,6,6,6,6,6,7]\n",
    "expected_false_positives = [ele * 97 for ele in thresholds]"
   ]
  },
  {
   "cell_type": "code",
   "execution_count": null,
   "id": "3bb62dc7",
   "metadata": {},
   "outputs": [],
   "source": [
    "plt.rcParams['font.family'] = 'serif'\n",
    "plt.rcParams['font.serif'] = ['Times New Roman']\n",
    "plt.rcParams['font.size'] = 24\n",
    "\n",
    "fig, ax = plt.subplots(figsize=(10,10))\n",
    "\n",
    "plt.scatter(thresholds, false_positives, color='r')\n",
    "fp_slope, fp_intercept, fp_r_value, fp_p_value, fp_std_err = stats.linregress(thresholds, false_positives)\n",
    "x= np.linspace(0,0.10,100)\n",
    "fp_y = fp_slope * x + fp_intercept\n",
    "plt.plot(x, fp_y, color='r', label='False Positives')\n",
    "\n",
    "plt.scatter(thresholds, expected_false_positives, color='b')\n",
    "efp_slope, efp_intercept, efp_r_value, efp_p_value, efp_std_err = stats.linregress(thresholds, expected_false_positives)\n",
    "efp_y = efp_slope * x + efp_intercept\n",
    "plt.plot(x, efp_y, color='b', label='Expected False Positives')\n",
    "\n",
    "plt.legend()\n",
    "plt.xlabel('Threshold', fontsize=32)\n",
    "plt.ylabel('Count', fontsize=32)\n",
    "plt.savefig('../paper_figs/threshold_test.pdf')\n",
    "\n",
    "print(f'False Positives:\\ny={fp_slope:.1f}x{fp_intercept:.3f}, R^2={fp_r_value**2:.3f}')\n",
    "print(f'False Positives:\\ny={efp_slope:.2f}x+{efp_intercept:.2f}, R^2={efp_r_value**2}')"
   ]
  }
 ],
 "metadata": {
  "kernelspec": {
   "display_name": "casaenv",
   "language": "python",
   "name": "python3"
  },
  "language_info": {
   "codemirror_mode": {
    "name": "ipython",
    "version": 3
   },
   "file_extension": ".py",
   "mimetype": "text/x-python",
   "name": "python",
   "nbconvert_exporter": "python",
   "pygments_lexer": "ipython3",
   "version": "3.10.13"
  }
 },
 "nbformat": 4,
 "nbformat_minor": 5
}
