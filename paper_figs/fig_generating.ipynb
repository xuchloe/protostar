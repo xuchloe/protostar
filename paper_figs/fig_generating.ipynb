{
 "cells": [
  {
   "cell_type": "code",
   "execution_count": null,
   "id": "1330c147",
   "metadata": {},
   "outputs": [],
   "source": [
    "import find_source\n",
    "from find_source import summary"
   ]
  },
  {
   "cell_type": "code",
   "execution_count": null,
   "id": "fa34122f",
   "metadata": {},
   "outputs": [],
   "source": [
    "#summary('../data/11151/l1551-51.fits', False, False, True, '../paper_figs')"
   ]
  }
 ],
 "metadata": {
  "kernelspec": {
   "display_name": "casaenv",
   "language": "python",
   "name": "python3"
  },
  "language_info": {
   "name": "python",
   "version": "3.10.13"
  }
 },
 "nbformat": 4,
 "nbformat_minor": 5
}
